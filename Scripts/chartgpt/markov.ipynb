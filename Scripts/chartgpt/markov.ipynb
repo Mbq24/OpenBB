{
 "cells": [
  {
   "cell_type": "code",
   "execution_count": null,
   "metadata": {},
   "outputs": [],
   "source": [
    "from openbb_terminal.sdk import openbb\n",
    "import plotly.graph_objects as go\n",
    "import yfinance as yf\n",
    "import pandas as pd\n",
    "\n",
    "import plotly.express as px\n",
    "import numpy as np\n",
    "\n",
    "import datetime\n"
   ]
  },
  {
   "cell_type": "code",
   "execution_count": null,
   "metadata": {},
   "outputs": [],
   "source": [
    "# 3D plotly examples https://plotly.com/python/3d-scatter-plots/\n",
    "# Generate some sample data for 3D plot\n",
    "x = np.linspace(-5, 5, 100)\n",
    "y = np.linspace(-5, 5, 100)\n",
    "x, y = np.meshgrid(x, y)\n",
    "z = np.sin(np.sqrt(x**2 + y**2))\n",
    "\n",
    "# Create a 3D surface plot\n",
    "fig = go.Figure(data=[go.Surface(z=z)])\n",
    "\n",
    "# Update layout to set axis labels\n",
    "fig.update_layout(\n",
    "    title='3D Surface Plot',\n",
    "    scene=dict(\n",
    "        xaxis=dict(title='X'),\n",
    "        yaxis=dict(title='Y'),\n",
    "        zaxis=dict(title='Z'),\n",
    "    )\n",
    ")\n",
    "\n",
    "# Show the plot\n",
    "fig.show()"
   ]
  },
  {
   "cell_type": "code",
   "execution_count": null,
   "metadata": {},
   "outputs": [],
   "source": [
    "import plotly.graph_objects as go \n",
    "# Read data from a csv\n",
    "z_data = pd.read_csv('https://raw.githubusercontent.com/plotly/datasets/master/api_docs/mt_bruno_elevation.csv')\n",
    "\n",
    "fig = go.Figure(data=[go.Surface(z=z_data.values)])\n",
    "fig.update_traces(contours_z=dict(show=True, usecolormap=True,\n",
    "                                  highlightcolor=\"limegreen\", project_z=True))\n",
    "fig.update_layout(title='Mt Bruno Elevation', autosize=False,\n",
    "                  scene_camera_eye=dict(x=1.87, y=0.88, z=-0.64),\n",
    "                  width=500, height=500,\n",
    "                  margin=dict(l=65, r=50, b=65, t=90)\n",
    ")\n",
    "\n",
    "fig.show()"
   ]
  },
  {
   "cell_type": "code",
   "execution_count": null,
   "metadata": {},
   "outputs": [],
   "source": [
    "# risk return profile and examples\n",
    "\n",
    "import numpy as np\n",
    "import matplotlib.pyplot as plt\n",
    "\n",
    "# Define the risk (volatility) and return (expected yield) ragces\n",
    "risk_range = np.linspace(0, 0.3, 20)  # Example: Volatility from 0% to 30%\n",
    "return_range = np.linspace(0, 0.2, 20)  # Example: Expected yield from 0% to 20%\n",
    "\n",
    "# Create a grid of points in the risk-return space\n",
    "risk, return_ = np.meshgrid(risk_range, return_range)\n",
    "\n",
    "# Calculate a vector field based on a simple model (e.g., linear relationship)\n",
    "risk_vector = risk\n",
    "return_vector = 0.5 * return_ + 0.2 * risk\n",
    "\n",
    "# Create a quiver plot to visualize the vector field\n",
    "plt.figure(figsize=(10, 6))\n",
    "plt.quiver(risk, return_, risk_vector, return_vector, scale=30, color='r', alpha=0.9)\n",
    "plt.xlabel('Risk (Volatility)')\n",
    "plt.ylabel('Return (Expected Yield)')\n",
    "plt.title('Portfolio Risk-Return Profile')\n",
    "\n",
    "plt.show()\n"
   ]
  },
  {
   "cell_type": "code",
   "execution_count": null,
   "metadata": {},
   "outputs": [],
   "source": [
    "import numpy as np\n",
    "import matplotlib.pyplot as plt\n",
    "\n",
    "import datetime\n",
    "current_timestamp = datetime.datetime.now()\n",
    "\n",
    "\n",
    "formatted_date = current_timestamp.strftime(\"%Y-%m-%d\")\n",
    "print(\"Current timestamp:\", formatted_date)\n",
    "\n",
    "# Sample historical daily price data for a commodity futures contract\n",
    "# Replace this with your actual price data using openbb\n",
    "prices = openbb.futures.historical(symbols='GC', start_date='2022-01-01', end_date=formatted_date)\n",
    "prices['price_changes'] = prices['Close'].pct_change().fillna(0)  # Fill NaN with 0 for the first day\n",
    "\n",
    "# Define a time vector (days)\n",
    "time = np.arange(len(prices['price_changes']))\n",
    "\n",
    "# Create a line plot of daily price changes over time\n",
    "plt.figure(figsize=(10, 6))\n",
    "plt.plot(time, prices['price_changes'], color='b', linestyle='-', marker='o')\n",
    "plt.xlabel('Time (Days)')\n",
    "plt.ylabel('Daily Price Change')\n",
    "plt.title('Commodity Futures Daily Price Changes Over Time')\n",
    "\n",
    "plt.show()\n"
   ]
  },
  {
   "cell_type": "code",
   "execution_count": null,
   "metadata": {},
   "outputs": [],
   "source": [
    "import plotly.express as px\n",
    "import pandas as pd\n",
    "\n",
    "# Sample historical daily price data for a commodity futures contract\n",
    "# Replace this with your actual price data using openbb\n",
    "prices = openbb.futures.historical(symbols='GC', start_date='2020-01-01', end_date=formatted_date)\n",
    "prices['price_changes'] = prices['Close'].pct_change().fillna(0)  # Fill NaN with 0 for the first day\n",
    "\n",
    "# Create a DataFrame with the data\n",
    "df = pd.DataFrame({'Date': prices.index, 'Price Change': prices['price_changes']})\n",
    "\n",
    "# Create a line plot using Plotly\n",
    "fig = px.line(df, x='Date', y='Price Change', title='Commodity Futures Daily Price Changes Over Time')\n",
    "fig.update_xaxes(title_text='Date')\n",
    "fig.update_yaxes(title_text='Daily Price Change')\n",
    "\n",
    "# Show the Plotly plot\n",
    "fig.show()\n"
   ]
  },
  {
   "cell_type": "code",
   "execution_count": null,
   "metadata": {},
   "outputs": [],
   "source": [
    "import numpy as np\n",
    "from scipy.interpolate import interp1d\n",
    "from scipy.optimize import brentq\n",
    "from scipy.stats import beta\n",
    "import matplotlib.pyplot as plt\n",
    "\n",
    "# Constants\n",
    "α, a, c = 0.8, 1.0, 2.0\n",
    "mc_draw_size = 250\n",
    "gridsize = 150\n",
    "grid_max = 35\n",
    "tol = 1e-4\n",
    "\n",
    "# Grid for x values\n",
    "grid = np.linspace(a, grid_max, gridsize)\n",
    "\n",
    "# Beta distribution for shock observations\n",
    "beta_dist = beta(5, 5)\n",
    "Z = a + beta_dist.rvs(mc_draw_size) * c\n",
    "\n",
    "# Define inverse demand function P(x) and initialize prices\n",
    "P = lambda x: 1.0 / x\n",
    "prices = np.array([P(x) for x in grid])\n",
    "\n",
    "# The T operator\n",
    "def T(p_array):\n",
    "    new_prices = np.empty_like(p_array)\n",
    "\n",
    "    # Create interpolation function\n",
    "    p_interp = interp1d(grid, p_array, bounds_error=False, fill_value=\"extrapolate\")\n",
    "\n",
    "    # Loop over each x in grid to update prices\n",
    "    for i, x in enumerate(grid):\n",
    "        def h(q):\n",
    "            # Use the interpolated function and not the array\n",
    "            return q - max(α * np.mean(p_interp(α * (x - 1/q) + Z)), 1/x)\n",
    "        \n",
    "        # Find the root of h and update the prices\n",
    "        new_prices[i] = brentq(h, 1e-8, 100)\n",
    "    \n",
    "    return new_prices\n",
    "\n",
    "# Iteration to find the equilibrium prices\n",
    "error = tol + 1\n",
    "while error > tol:\n",
    "    new_prices = T(prices)\n",
    "    error = np.max(np.abs(new_prices - prices))\n",
    "    prices = new_prices\n",
    "\n",
    "# Plotting the results\n",
    "fig, ax = plt.subplots()\n",
    "\n",
    "ax.plot(grid, 1/grid, alpha=0.5, lw=1, label=\"inverse demand curve\")  # P(x) = 1/x\n",
    "ax.plot(grid, prices, 'k-', alpha=0.5, lw=2, label=r'$p^*$', color='blue')  # Equilibrium prices\n",
    "ax.legend()\n",
    "ax.set_xlabel('$x$', fontsize=12)\n",
    "ax.set_ylabel('Price', fontsize=12)\n",
    "\n",
    "plt.show()\n"
   ]
  },
  {
   "cell_type": "code",
   "execution_count": null,
   "metadata": {},
   "outputs": [],
   "source": [
    "# Assuming the inverse demand function D(p) = 1 / p\n",
    "def D(p):\n",
    "    return 1 / p\n",
    "\n",
    "# Define the price function p_star as before\n",
    "p_star = interp1d(grid, prices, fill_value='extrapolate', bounds_error=False)\n",
    "\n",
    "# Modify the carry_over function to use the inverse of p_star\n",
    "def carry_over(x):\n",
    "    return α * (x - D(p_star(x)))\n",
    "\n",
    "# Assuming beta_dist is already defined earlier in your code\n",
    "# and a, c are constants from your model\n",
    "def generate_cp_ts(init=1, n=50):\n",
    "    X = np.empty(n)\n",
    "    X[0] = init\n",
    "    for t in range(n-1):\n",
    "            Z = a + c * beta_dist.rvs()\n",
    "            X[t+1] = carry_over(X[t]) + Z\n",
    "    return X  # Return the series of X values\n",
    "\n",
    "# Plot the prices over time\n",
    "fig, ax = plt.subplots()\n",
    "ax.plot(generate_cp_ts(), label=\"price\")\n",
    "ax.set_xlabel(\"time\")\n",
    "ax.legend()\n",
    "plt.show()\n"
   ]
  },
  {
   "cell_type": "code",
   "execution_count": null,
   "metadata": {},
   "outputs": [],
   "source": [
    "# openbb library examples\n",
    "def usbonds():\n",
    "    bonds = openbb.economy.usbonds()\n",
    "    bonds = bonds[::-1]\n",
    "    bonds['Yld (%)'] = bonds['Yld (%)'].astype(float)\n",
    "    return bonds\n",
    "\n",
    "df = usbonds()\n",
    "\n",
    "fig = go.Figure(data=go.Scatter(x=df[' '], y=df['Yld (%)']))\n",
    "fig.update_layout(title=\"US Yield Curve\", xaxis_title=\"\", yaxis_title=\"Yield %\")"
   ]
  },
  {
   "cell_type": "code",
   "execution_count": null,
   "metadata": {},
   "outputs": [],
   "source": [
    "import smtplib\n",
    "from email.mime.text import MIMEText\n",
    "from email.mime.multipart import MIMEMultipart\n",
    "from email.mime.image import MIMEImage\n",
    "from email.mime.base import MIMEBase\n",
    "from email import encoders\n"
   ]
  },
  {
   "cell_type": "code",
   "execution_count": null,
   "metadata": {},
   "outputs": [],
   "source": [
    "\n",
    "# # Email configuration\n",
    "# sender_email = 'mbquercioli@gmail.com'\n",
    "# sender_password = 'Quarkmail424!!'\n",
    "# recipient_email = 'fundmanager@tradeshare.io'\n",
    "# subject = 'Image Attachment'\n",
    "\n",
    "# # Create a MIME message\n",
    "# message = MIMEMultipart()\n",
    "# message['From'] = sender_email\n",
    "# message['To'] = recipient_email\n",
    "# message['Subject'] = subject\n",
    "\n",
    "# # Attach the image file\n",
    "# image_filename = '/Users/mark/OpenBB/newplot.png'  # Replace with your image file\n",
    "# attachment = open(image_filename, 'rb').read()\n",
    "\n",
    "# image_part = MIMEImage(attachment)\n",
    "# image_part.add_header('Congoldt-Disposition', 'attachment', filename=image_filename)\n",
    "# message.attach(image_part)\n",
    "\n",
    "# # Send the email\n",
    "# try:\n",
    "#     smtp_server = smtplib.SMTP('smtp.gmail.com', 587)\n",
    "#     smtp_server.starttls()\n",
    "#     smtp_server.login(sender_email, sender_password)\n",
    "#     smtp_server.sendmail(sender_email, recipient_email, message.as_string())\n",
    "#     smtp_server.quit()\n",
    "#     print('Email sent successfully')\n",
    "# except Exception as e:\n",
    "#     print(f'Error sending email: {str(e)}')\n"
   ]
  },
  {
   "cell_type": "code",
   "execution_count": null,
   "metadata": {},
   "outputs": [],
   "source": [
    "gold = openbb.futures.historical(symbols='GC', start_date='2022-01-01', end_date=formatted_date)\n",
    "\n",
    "gold['daily_rtn'] = gold['Adj Close'].pct_change()\n",
    "\n",
    "gold['state'] = np.where(gold['daily_rtn'] > 0, \"up\", \"down\")\n",
    "gold.tail()"
   ]
  },
  {
   "cell_type": "code",
   "execution_count": null,
   "metadata": {},
   "outputs": [],
   "source": [
    "# gold futures \n",
    "# markhov chain logic \n",
    "# count logic from state \n",
    "# up-up, up-dwn, dwn-up, dwn-dwn\n",
    "up_cnts = len(gold[gold['state'] == 'up'])\n",
    "dwn_cnts = len(gold[gold['state'] == 'down'])\n",
    "up_to_up = len(gold[(gold['state'] == 'up') & (gold['state'].shift(-1) == 'up')])/len(gold.query('state==\"up\"'))\n",
    "dwn_to_up = len(gold[(gold['state'] == 'up') & (gold['state'].shift(-1) == 'down')])/len(gold.query('state==\"up\"'))\n",
    "\n",
    "up_to_dwn = len(gold[(gold['state'] == 'down') & (gold['state'].shift(-1) == 'up')])/len(gold.query('state==\"down\"'))\n",
    "\n",
    "dwn_to_dwn = len(gold[(gold['state'] == 'down') & (gold['state'].shift(-1) == 'down')])/len(gold.query('state==\"down\"'))\n"
   ]
  },
  {
   "cell_type": "code",
   "execution_count": null,
   "metadata": {},
   "outputs": [],
   "source": [
    "# from col to index \n",
    "trans_matrix_gold = pd.DataFrame(\n",
    "    {\n",
    "        \"up\": [up_to_up, up_to_dwn],\n",
    "        \"down\":[dwn_to_up, dwn_to_dwn]\n",
    "    },\n",
    "    index=[\"_up\", \"_down\"]\n",
    ")\n",
    "trans_matrix_gold"
   ]
  },
  {
   "cell_type": "code",
   "execution_count": null,
   "metadata": {},
   "outputs": [],
   "source": [
    "gold['Close'].plot()"
   ]
  },
  {
   "cell_type": "code",
   "execution_count": null,
   "metadata": {},
   "outputs": [],
   "source": [
    "len(gold[(gold['state'] == 'down') & (gold['state'].shift(-1) == 'up') & (gold['state'].shift(-2) == 'up') ])/len(gold[(gold['state'].shift(1) =='up') & (gold['state'].shift(2) == 'up')])\n"
   ]
  },
  {
   "cell_type": "code",
   "execution_count": null,
   "metadata": {},
   "outputs": [],
   "source": [
    "# simple mean reversion strategy\n",
    "# Sample data setup (you probably have your own data loading method)\n",
    "# gold = pd.read_csv('path_to_your_data.csv')\n",
    "\n",
    "# Calculate the True Range\n",
    "gold['High_Low'] = gold['High'] - gold['Low']\n",
    "gold['High_PrevClose'] = abs(gold['High'] - gold['Close'].shift(1))\n",
    "gold['Low_PrevClose'] = abs(gold['Low'] - gold['Close'].shift(1))\n",
    "gold['TR'] = gold[['High_Low', 'High_PrevClose', 'Low_PrevClose']].max(axis=1)\n",
    "\n",
    "# Calculate Average True Range (ATR) using a 14-period lookback by default\n",
    "lookback = 14\n",
    "gold['ATR'] = gold['TR'].rolling(window=lookback).mean()\n",
    "\n",
    "# Ensure 'ATR' does not contain zeros to prevent dividing by zero\n",
    "gold['ATR'] = gold['ATR'].replace(0, np.nan)\n",
    "\n",
    "# Calculate the 'Dynamic_Lookback' column\n",
    "gold['Dynamic_Lookback'] = lookback + (1 / gold['ATR'])\n",
    "\n",
    "# Handle NaN values:\n",
    "\n",
    "# 1. Drop rows with NaN values in 'Dynamic_Lookback'\n",
    "gold.dropna(subset=['Dynamic_Lookback'], inplace=True)\n",
    "\n",
    "# 2. OR, fill NaN in 'Dynamic_Lookback' with a default value (e.g., 20)\n",
    "# gold['Dynamic_Lookback'].fillna(20, inplace=True)\n",
    "\n",
    "# Convert the 'Dynamic_Lookback' column to integer\n",
    "gold['Dynamic_Lookback'] = gold['Dynamic_Lookback'].astype(int)\n"
   ]
  },
  {
   "cell_type": "code",
   "execution_count": null,
   "metadata": {},
   "outputs": [],
   "source": [
    "# simple mean reversion strategy\n",
    "fast_window = 30\n",
    "slow_window = 48\n",
    "threshold = 0.0236  # 3% deviation from the mean, need to make some \n",
    "\n",
    "# Calculate 30-day moving average, fast and slow \n",
    "gold['FMA'] = gold['Close'].rolling(window=fast_window).mean()\n",
    "gold['SMA'] = gold['Close'].rolling(window=slow_window).mean()\n",
    "\n",
    "gold_df = gold[['Open','High', 'Low', 'Close']]\n",
    "gold_bb = openbb.ta.bbands(gold_df, n_std=2.1).reset_index(drop=True)\n",
    "\n",
    "# Calculate thresholds\n",
    "# gold['Buy_Threshold'] = gold['FMA'] * (1 - threshold)\n",
    "# gold['Sell_Threshold'] = gold['FMA'] * (1 + threshold)\n",
    "\n",
    "gold['Buy_Threshold'] = gold['FMA'] - 0.681 * gold['ATR']\n",
    "gold['Sell_Threshold'] = gold['FMA'] + 0.681 * gold['ATR']\n",
    "gold.tail(5)\n",
    "\n",
    "\n",
    "# Signal: Price breaks below Red SMA, Red Stoch breaks below 75, RSI breaks it’s trend line below 50"
   ]
  },
  {
   "cell_type": "code",
   "execution_count": null,
   "metadata": {},
   "outputs": [],
   "source": [
    "# Create Buy/Sell signals\n",
    "gold['Buy_Signal'] = np.where((gold['Close'] < (gold['Buy_Threshold'])) & (gold['SMA'] < gold['FMA']), 1, 0)\n",
    "gold['Sell_Signal'] = np.where((gold['Close'] > (gold['Sell_Threshold'])) & (gold['SMA'] > gold['FMA']), 1, 0)\n",
    "\n",
    "# gold['Entry'] = np.where((gold['Close'] < (gold['SMA'] - 2 * gold['ATR'])) & (gold['FMA'] > gold['SMA']), 1, 0)\n",
    "# gold['Exit'] = np.where((gold['Close'] > (gold['SMA'] + 2 * gold['ATR'])) & (gold['FMA'] < gold['SMA']), 1, 0)\n",
    "gold['Entry'] = np.where((gold['Close'] < (gold['SMA'] - 2 * gold['ATR'])), 1, 0)\n",
    "gold['Exit'] = np.where((gold['Close'] > (gold['SMA'] + 2 * gold['ATR'])), 1, 0)"
   ]
  },
  {
   "cell_type": "code",
   "execution_count": null,
   "metadata": {},
   "outputs": [],
   "source": [
    "startDate = '2023-03-30'\n",
    "endDate = formatted_date\n",
    "from datetime import datetime\n",
    "\n",
    "today = datetime.today()\n",
    "\n",
    "if 'Date' not in gold.columns:\n",
    "    # Reset the index and name the new column 'Date'\n",
    "    gold = gold.reset_index().rename(columns={'index': 'Date'})\n",
    "    # Convert the 'Date' column to datetime\n",
    "    gold['Date'] = pd.to_datetime(gold['Date'])\n",
    "\n",
    "\n",
    "# # Filter the DataFrame\n",
    "filtered_df = gold[(gold['Date'] >= startDate) & (gold['Date'] <= endDate)].reset_index(drop=True)\n",
    "filtered_df.tail()"
   ]
  },
  {
   "cell_type": "code",
   "execution_count": null,
   "metadata": {},
   "outputs": [],
   "source": [
    "tick_value = 10  # $10 per tick\n",
    "ticks_per_point = 10  # 10 ticks make a point\n",
    "\n",
    "initial_portfolio = 50000  # Starting with $100,000\n",
    "cash = initial_portfolio\n",
    "contracts_held = 2\n",
    "portfolio_values = []\n",
    "buy_dates = []\n",
    "buy_dates_test = []\n",
    "buy_prices = []\n",
    "sell_dates = []\n",
    "sell_dates_test = []\n",
    "sell_prices = []\n",
    "\n",
    "in_position = False\n",
    "\n",
    "for index, row in filtered_df.iterrows():\n",
    "    if row['Buy_Signal'] == 1:\n",
    "\n",
    "        # print(f\"Buying on {row['Date']} at price {row['Close']}\")\n",
    "        buy_dates.append(row['Date'])\n",
    "        buy_prices.append(row['Close'])\n",
    "        in_position = True\n",
    "        \n",
    "        if cash >= (row['Close'] * tick_value * ticks_per_point):\n",
    "            contracts_to_buy = (cash // (row['Close'] * tick_value * ticks_per_point))\n",
    "            contracts_held += contracts_to_buy\n",
    "            cash -= contracts_to_buy * row['Close'] * tick_value * ticks_per_point\n",
    "            \n",
    "    if row['Entry'] == 1:\n",
    "\n",
    "        # print(f\"Entering on {row['Date']} at price {row['Close']}\")\n",
    "        buy_dates_test.append(row['Date'])\n",
    "        buy_prices.append(row['Close'])\n",
    "        in_position = True\n",
    "\n",
    "    if row['Sell_Signal'] == 1:\n",
    "\n",
    "        # print(f\"Selling on {row['Date']} at price {row['Close']}\")\n",
    "        sell_dates.append(row['Date'])\n",
    "        sell_prices.append(row['Close'])\n",
    "        in_position = False\n",
    "\n",
    "        if contracts_held > 0:\n",
    "            cash += contracts_held * row['Close'] * tick_value * ticks_per_point\n",
    "            contracts_held = 0\n",
    "\n",
    "    if row['Exit'] == 1:\n",
    "\n",
    "        # print(f\"Exiting on {row['Date']} at price {row['Close']}\")\n",
    "        sell_dates_test.append(row['Date'])\n",
    "        sell_prices.append(row['Close'])\n",
    "        in_position = False\n",
    "\n",
    "        if contracts_held > 0:\n",
    "            cash += contracts_held * row['Close'] * tick_value * ticks_per_point\n",
    "            contracts_held = 0\n",
    "    portfolio_value = cash + contracts_held * row['Close'] * tick_value * ticks_per_point\n",
    "    portfolio_values.append(portfolio_value)\n",
    "\n",
    "    \n",
    "# print(\"Porfolio Value: \", portfolio_value)"
   ]
  },
  {
   "cell_type": "code",
   "execution_count": null,
   "metadata": {},
   "outputs": [],
   "source": [
    "fig = px.scatter(filtered_df, x=filtered_df['Date'], y='Close', title='MRS on GC')\n",
    "\n",
    "# Add lines for ngosing prices and moving average\n",
    "fig.add_scatter(x=filtered_df['Date'], y=filtered_df['Close'], mode='lines', name='Close')\n",
    "fig.add_scatter(x=filtered_df['Date'], y=filtered_df['FMA'], mode='lines', name='30-day MA', line=dict(dash='dash'))\n",
    "fig.add_scatter(x=filtered_df['Date'], y=filtered_df['SMA'], mode='lines', name='48-day MA', line=dict(dash='dot'))\n",
    "\n",
    "\n",
    "# Add buy signals\n",
    "fig.add_scatter(x=buy_dates, y=buy_prices, mode='markers', name='Buy Signal', marker=dict(size=20, symbol='triangle-up', color='green'))\n",
    "fig.add_scatter(x=buy_dates_test, y=buy_prices, mode='markers', name='Entry', marker=dict(size=20, symbol='triangle-up', color='blue'))\n",
    "\n",
    "\n",
    "# Add sell signals\n",
    "fig.add_scatter(x=sell_dates, y=sell_prices, mode='markers', name='Sell Signal', marker=dict(size=20, symbol='triangle-down', color='red'))\n",
    "fig.add_scatter(x=sell_dates_test, y=sell_prices, mode='markers', name='Exit', marker=dict(size=20, symbol='triangle-down', color='orange'))\n",
    "\n",
    "fig.show()\n"
   ]
  },
  {
   "cell_type": "code",
   "execution_count": null,
   "metadata": {},
   "outputs": [],
   "source": [
    "#profit and learn "
   ]
  },
  {
   "cell_type": "code",
   "execution_count": null,
   "metadata": {},
   "outputs": [],
   "source": [
    "import dash\n",
    "import dash_ag_grid as dag\n",
    "import dash_mantine_components as dmc\n",
    "import pandas as pd\n",
    "from dash import Input, Output, State, dcc, html, no_update\n",
    "from dash_iconify import DashIconify"
   ]
  },
  {
   "cell_type": "code",
   "execution_count": null,
   "metadata": {},
   "outputs": [],
   "source": [
    "future = openbb.futures.historical(symbols='NG', start_date='2010-01-01', end_date=formatted_date)\n",
    "future"
   ]
  },
  {
   "cell_type": "code",
   "execution_count": null,
   "metadata": {},
   "outputs": [],
   "source": [
    "future = future.reset_index().rename(columns={'index': 'Date'})\n",
    "future['Date'] = pd.to_datetime(future['Date'])"
   ]
  },
  {
   "cell_type": "code",
   "execution_count": null,
   "metadata": {},
   "outputs": [],
   "source": [
    "# ng_2312 = openbb.futures.historical(symbols = ['NG'], expiry = '2023-12', start_date='2022-01-01', end_date='2023-10-30')\n",
    "# ng_2312 = ng_2312.rename(columns={'Adj Close':'2023-12'})\n",
    "ng_2412 = openbb.futures.historical(symbols = ['NG'], expiry = '2024-12', start_date='2022-01-01', end_date=formatted_date)\n",
    "ng_2412 = ng_2412.rename(columns={'Adj Close':'2024-12'})\n",
    "ng_2512 = openbb.futures.historical(symbols = ['NG'], expiry = '2025-12', start_date='2022-01-01', end_date=formatted_date)\n",
    "ng_2512 = ng_2512.rename(columns={'Adj Close':'2025-12'})\n",
    "ng_2612 = openbb.futures.historical(symbols = ['NG'], expiry = '2026-12', start_date='2022-01-01', end_date=formatted_date)\n",
    "ng_2612 = ng_2612.rename(columns={'Adj Close':'2026-12'})\n",
    "ng_2712 = openbb.futures.historical(symbols = ['NG'], expiry = '2027-12', start_date='2022-01-01', end_date=formatted_date)\n",
    "ng_2712 = ng_2712.rename(columns={'Adj Close':'2027-12'})\n",
    "ng_2812 = openbb.futures.historical(symbols = ['NG'], expiry = '2028-12', start_date='2022-01-01', end_date=formatted_date)\n",
    "ng_2812 = ng_2812.rename(columns={'Adj Close':'2028-12'})\n",
    "ng_2912 = openbb.futures.historical(symbols = ['NG'], expiry = '2029-12', start_date='2022-01-01', end_date=formatted_date)\n",
    "ng_2912 = ng_2912.rename(columns={'Adj Close':'2029-12'})\n",
    "ng_3012 = openbb.futures.historical(symbols = ['NG'], expiry = '2030-12', start_date='2022-01-01', end_date=formatted_date)\n",
    "ng_3012 = ng_3012.rename(columns={'Adj Close':'2030-12'})\n",
    "\n",
    "historical = pd.DataFrame(data = [ng_2412['2024-12'],ng_2512['2025-12'],ng_2612['2026-12'],ng_2712['2027-12'],ng_2812['2028-12'],ng_2912['2029-12'],ng_3012['2030-12']]).transpose()\n",
    "historical = historical.dropna()\n",
    "\n",
    "historical"
   ]
  },
  {
   "cell_type": "code",
   "execution_count": null,
   "metadata": {},
   "outputs": [],
   "source": [
    "# Reset the index (so 'date' becomes a column) and then melt the data\n",
    "df_melted_all_future = historical.reset_index().melt(id_vars='Date', value_name='Price', var_name='Expiration')\n",
    "fig = px.line(df_melted_all_future, x='Date', y='Price', color='Expiration', title='{} Futures Expiry'.format('NG'))\n",
    "fig.show()"
   ]
  },
  {
   "cell_type": "code",
   "execution_count": null,
   "metadata": {},
   "outputs": [],
   "source": [
    "# gc_2312 = openbb.futures.historical(symbols = ['GC'], expiry = '2023-12', start_date='2022-01-01', end_date='2023-10-30')\n",
    "# gc_2312 = gc_2312.rename(columns={'Adj Close':'2023-12'})\n",
    "gc_2412 = openbb.futures.historical(symbols = ['GC'], expiry = '2024-12', start_date='2022-01-01', end_date=formatted_date)\n",
    "gc_2412 = gc_2412.rename(columns={'Adj Close':'2024-12'})\n",
    "gc_2512 = openbb.futures.historical(symbols = ['GC'], expiry = '2025-12', start_date='2022-01-01', end_date=formatted_date)\n",
    "gc_2512 = gc_2512.rename(columns={'Adj Close':'2025-12'})\n",
    "gc_2612 = openbb.futures.historical(symbols = ['GC'], expiry = '2026-12', start_date='2022-01-01', end_date=formatted_date)\n",
    "gc_2612 = gc_2612.rename(columns={'Adj Close':'2026-12'})\n",
    "gc_2712 = openbb.futures.historical(symbols = ['GC'], expiry = '2027-12', start_date='2022-01-01', end_date=formatted_date)\n",
    "gc_2712 = gc_2712.rename(columns={'Adj Close':'2027-12'})\n",
    "gc_2812 = openbb.futures.historical(symbols = ['GC'], expiry = '2028-12', start_date='2022-01-01', end_date=formatted_date)\n",
    "gc_2812 = gc_2812.rename(columns={'Adj Close':'2028-12'})\n",
    "gc_2912 = openbb.futures.historical(symbols = ['GC'], expiry = '2029-12', start_date='2022-01-01', end_date=formatted_date)\n",
    "gc_2912 = gc_2912.rename(columns={'Adj Close':'2029-12'})\n",
    "gc_3012 = openbb.futures.historical(symbols = ['GC'], expiry = '2030-12', start_date='2022-01-01', end_date=formatted_date)\n",
    "gc_3012 = gc_3012.rename(columns={'Adj Close':'2030-12'})\n",
    "\n",
    "historical = pd.DataFrame(data = [gc_2412['2024-12'],gc_2512['2025-12'],gc_2612['2026-12']]).transpose()\n",
    "historical = historical.dropna()\n",
    "\n",
    "historical"
   ]
  },
  {
   "cell_type": "code",
   "execution_count": null,
   "metadata": {},
   "outputs": [],
   "source": [
    "# Ensure the 'country' column has the full country name\n",
    "# df_melted['country'] = df_melted['variable'].apply(lambda x: x[0] if isinstance(x, tuple) else x)\n",
    "\n",
    "# # Drop the now redundant 'variable' column\n",
    "# df_melted.drop('variable', axis=1, inplace=True)\n",
    "\n",
    "# # Now you can plot the data using Plotly Express"
   ]
  },
  {
   "cell_type": "code",
   "execution_count": null,
   "metadata": {},
   "outputs": [],
   "source": [
    "# Reset the index (so 'date' becomes a column) and then melt the data\n",
    "df_melted_all_future = historical.reset_index().melt(id_vars='Date', value_name='Price', var_name='Expiration')\n",
    "fig = px.line(df_melted_all_future, x='Date', y='Price', color='Expiration', title='{} Futures Expiry'.format('GC'))\n",
    "fig.show()\n"
   ]
  },
  {
   "cell_type": "code",
   "execution_count": null,
   "metadata": {},
   "outputs": [],
   "source": [
    "weather = pd.read_csv('/Users/mark/OpenBB/Scripts/chartgpt/weather_daily.csv')\n",
    "weather.head()"
   ]
  },
  {
   "cell_type": "code",
   "execution_count": null,
   "metadata": {},
   "outputs": [],
   "source": [
    "df_all = pd.concat([weather, future],axis=1)"
   ]
  },
  {
   "cell_type": "code",
   "execution_count": null,
   "metadata": {},
   "outputs": [],
   "source": [
    "df_continuous = df_all.select_dtypes(include=['float64'])"
   ]
  },
  {
   "cell_type": "code",
   "execution_count": null,
   "metadata": {},
   "outputs": [],
   "source": [
    "corr = df_continuous.corr()\n",
    "corr"
   ]
  },
  {
   "cell_type": "code",
   "execution_count": null,
   "metadata": {},
   "outputs": [],
   "source": [
    "corr = df_continuous.corr()\n",
    "\n",
    "fig = px.imshow(corr,\n",
    "                x=corr.columns,\n",
    "                y=corr.columns,\n",
    "                text_auto=True,\n",
    "                aspect=\"auto\",\n",
    "                color_continuous_scale='RdBu_r', # This color scale is diverging from red to blue\n",
    "                )\n",
    "\n",
    "# Update layout for a better view\n",
    "fig.update_layout(title='Correlation Matrix Heatmap',\n",
    "                  xaxis_title='Variables',    \n",
    "                  yaxis=dict(\n",
    "                    title='Variables',\n",
    "                    title_standoff=15, # Adjust this value as needed to increase space\n",
    "    ),\n",
    "                  coloraxis_colorbar=dict(title='Correlation Coefficient',x=1.2)\n",
    "                                          ,    \n",
    "    width=1400, # Width of the figure in pixels\n",
    "    height=1200, # Height of the figure in pixels\n",
    "    autosize=False # Allow manual resizing)\n",
    ")\n",
    "\n",
    "fig.show()"
   ]
  },
  {
   "cell_type": "code",
   "execution_count": null,
   "metadata": {},
   "outputs": [],
   "source": [
    "# df_melted_all_future.to_csv('ng_futures.csv', index=False)  # Set index=False to exclude the index column from the CSV\n"
   ]
  },
  {
   "cell_type": "code",
   "execution_count": null,
   "metadata": {},
   "outputs": [],
   "source": [
    "import requests\n",
    "import pandas as pd\n",
    "from dotenv import load_dotenv\n",
    "import os"
   ]
  },
  {
   "cell_type": "code",
   "execution_count": null,
   "metadata": {},
   "outputs": [],
   "source": [
    "load_dotenv('/Users/mark/OpenBB/Scripts/keys.env')\n",
    "api_key = os.getenv('API_OPENAI_KEY')\n",
    "acct_sid = os.getenv('ACCT_SID')\n",
    "auth_token = os.getenv('AUTH_TOKEN')"
   ]
  },
  {
   "cell_type": "code",
   "execution_count": null,
   "metadata": {},
   "outputs": [],
   "source": [
    "from twilio.rest import Client\n",
    "number = \"18557630954\"\n",
    "to = \"5179306506\"\n",
    "\n",
    "ngient = Client(acct_sid, auth_token)\n",
    "\n",
    "ngient\n",
    "message = 'Hey, this is mark!'\n",
    "\n",
    "message = ngient.messages.create(\n",
    "    body=message,\n",
    "    from_ = number,\n",
    "    to = '3039280491'\n",
    ")\n",
    "\n",
    "print(f\"Message sent with SID: {message.sid}\")"
   ]
  },
  {
   "cell_type": "code",
   "execution_count": null,
   "metadata": {},
   "outputs": [],
   "source": [
    "# temp data from meteo NYC\n",
    "endpoint_ny = \"https://archive-api.open-meteo.com/v1/archive?latitude=54.52&longitude=105.25&start_date=2023-10-26&end_date=2023-11-09&hourly=temperature_2m,relative_humidity_2m,precipitation,rain,snowfall,snow_depth,et0_fao_evapotranspiration&daily=temperature_2m_max,temperature_2m_min,temperature_2m_mean,sunrise,sunset,precipitation_sum,snowfall_sum,shortwave_radiation_sum,et0_fao_evapotranspiration&temperature_unit=fahrenheit&timezone=auto\"\n",
    "response = requests.get(endpoint_ny)\n",
    "# Check the response status code\n",
    "if response.status_code == 200:\n",
    "# The request was successful\n",
    "    data = response.json()\n",
    "    \n",
    "else:\n",
    "    # The request failed\n",
    "    print(response.status_code)\n",
    "\n",
    "\n",
    "df = pd.DataFrame(data['daily'])\n",
    "print(df.columns)"
   ]
  },
  {
   "cell_type": "code",
   "execution_count": null,
   "metadata": {},
   "outputs": [],
   "source": [
    "fig = px.line(df, x='time', y=['temperature_2m_max', 'temperature_2m_min',\n",
    "       'temperature_2m_mean','precipitation_sum',\n",
    "       'snowfall_sum', 'shortwave_radiation_sum',\n",
    "       'et0_fao_evapotranspiration'])\n",
    "fig.show()"
   ]
  },
  {
   "cell_type": "code",
   "execution_count": null,
   "metadata": {},
   "outputs": [],
   "source": [
    "import plotly.express as px\n",
    "weather.head()"
   ]
  },
  {
   "cell_type": "code",
   "execution_count": null,
   "metadata": {},
   "outputs": [],
   "source": [
    "# Plot histograms for all numerical data\n",
    "# for column in weather.select_dtypes(include=['float64', 'int64']).columns:\n",
    "#     fig = px.histogram(weather, x=column, title=f'Histogram of {column}')\n",
    "#     fig.show()"
   ]
  },
  {
   "cell_type": "code",
   "execution_count": null,
   "metadata": {},
   "outputs": [],
   "source": [
    "# Kp and Ap data from api\n",
    "url = 'https://kp.gfz-potsdam.de/app/json/'\n",
    "params1 = {\n",
    "    'start': '2010-01-30T00:00:00Z',\n",
    "    'end': '2022-02-02T23:59:59Z',\n",
    "    'index': 'Kp',  # Add your indices separated by commas or as required by the API\n",
    "    'status': 'def'\n",
    "}\n",
    "params2 = {\n",
    "    'start': '2010-01-30T00:00:00Z',\n",
    "    'end': '2022-02-02T23:59:59Z',\n",
    "    'index': 'Ap',  # Add your indices separated by commas or as required by the API\n",
    "    'status': 'def'\n",
    "}\n",
    "kp = requests.get(url, params=params1)\n",
    "ap = requests.get(url, params=params2)\n",
    "if kp.status_code == 200 and ap.status_code == 200:\n",
    "# The request was successful\n",
    "    print('Request Sucessful: 200')\n",
    "    kp_data = kp.json()\n",
    "    ap_data = ap.json()\n",
    "    \n",
    "else:\n",
    "    # The request failed\n",
    "    print(kp.status_code, ap.status_code)"
   ]
  },
  {
   "cell_type": "code",
   "execution_count": null,
   "metadata": {},
   "outputs": [],
   "source": [
    "# Convert responses to DataFrames\n",
    "df_kp = pd.DataFrame({\n",
    "    'datetime': kp_data['datetime'],\n",
    "    'Kp': kp_data['Kp']\n",
    "})\n",
    "df_ap = pd.DataFrame({\n",
    "    'datetime': ap_data['datetime'],\n",
    "    'Ap': ap_data['Ap']\n",
    "})\n",
    "\n",
    "# Convert 'datetime' to datetime objects and normalize (remove time)\n",
    "df_kp['datetime'] = pd.to_datetime(df_kp['datetime']).dt.normalize()\n",
    "df_ap['datetime'] = pd.to_datetime(df_ap['datetime']).dt.normalize()\n",
    "\n",
    "# Join the DataFrames on 'datetime'\n",
    "df_joined = pd.merge(df_kp, df_ap, on='datetime', how='inner')\n",
    "\n",
    "# Set 'datetime' as index\n",
    "df_final = df_joined.set_index('datetime')\n",
    "\n",
    "df_daily = df_final.resample('D').mean()  # 'D' stands for day\n",
    "\n",
    "df_daily.index = df_daily.index.normalize().strftime('%Y-%m-%d')\n",
    "df_daily.reset_index(inplace=True)\n",
    "\n",
    "df_daily"
   ]
  },
  {
   "cell_type": "code",
   "execution_count": null,
   "metadata": {},
   "outputs": [],
   "source": [
    "df_all = pd.concat([future, df_daily],axis=1)\n",
    "# df_all.head(30)"
   ]
  },
  {
   "cell_type": "code",
   "execution_count": null,
   "metadata": {},
   "outputs": [],
   "source": [
    "fig = px.line(df_all, x='Date', y=['Adj Close', 'Kp','Ap'])\n",
    "fig.show()"
   ]
  },
  {
   "cell_type": "code",
   "execution_count": null,
   "metadata": {},
   "outputs": [],
   "source": [
    "df_cont = df_all.select_dtypes(include=['float64'])"
   ]
  },
  {
   "cell_type": "code",
   "execution_count": null,
   "metadata": {},
   "outputs": [],
   "source": [
    "corr = df_cont.corr()"
   ]
  },
  {
   "cell_type": "code",
   "execution_count": null,
   "metadata": {},
   "outputs": [],
   "source": [
    "fig = px.imshow(corr,\n",
    "                x=corr.columns,\n",
    "                y=corr.columns,\n",
    "                text_auto=True,\n",
    "                aspect=\"auto\",\n",
    "                color_continuous_scale='RdBu_r', # This color scale is diverging from red to blue\n",
    "                )\n",
    "\n",
    "# Update layout for a better view\n",
    "fig.update_layout(title='Correlation Matrix Heatmap',\n",
    "                  xaxis_title='Variables',    \n",
    "                  yaxis=dict(\n",
    "                    title='Variables',\n",
    "                    title_standoff=15, # Adjust this value as needed to increase space\n",
    "    ),\n",
    "                  coloraxis_colorbar=dict(title='Correlation Coefficient',x=1.2)\n",
    "                                          ,    \n",
    "    width=1400, # Width of the figure in pixels\n",
    "    height=1200, # Height of the figure in pixels\n",
    "    autosize=False # Allow manual resizing)\n",
    ")\n",
    "\n",
    "# fig.show()"
   ]
  },
  {
   "cell_type": "code",
   "execution_count": null,
   "metadata": {},
   "outputs": [],
   "source": [
    "df_cont[['Kp', 'Ap']].hist()\n"
   ]
  },
  {
   "cell_type": "code",
   "execution_count": null,
   "metadata": {},
   "outputs": [],
   "source": [
    "def usbonds():\n",
    "    bonds = openbb.economy.usbonds()\n",
    "    bonds = bonds[::-1]\n",
    "    bonds['Yld (%)'] = bonds['Yld (%)'].astype(float)\n",
    "    return bonds\n",
    "\n",
    "usbonds()"
   ]
  },
  {
   "cell_type": "code",
   "execution_count": null,
   "metadata": {},
   "outputs": [],
   "source": [
    "bonds = openbb.economy.usbonds()\n",
    "bonds"
   ]
  },
  {
   "cell_type": "code",
   "execution_count": null,
   "metadata": {},
   "outputs": [],
   "source": [
    "import plotly.express as px\n",
    "import pandas as pd\n",
    "df = pd.read_csv('weather_hrly.csv')\n",
    "# Filter the dataframe to include only the data from the last year\n",
    "last_year_df = df[df['time'] >= '2022-12-21']\n",
    "\n",
    "# Calculate the total amount of rain in the last year\n",
    "total_rain = last_year_df['rain (inch)'].sum()\n",
    "\n",
    "# Create a bar chart to visualize the total amount of rain in the last year\n",
    "fig = px.bar(last_year_df, x='time', y='rain (inch)', title='Rainfall in the Last Year')\n",
    "fig\n",
    "\n",
    "# Print the total amount of rain in the last year\n",
    "print(f\"The total amount of rain in the last year is {total_rain} inches.\")\n"
   ]
  },
  {
   "cell_type": "code",
   "execution_count": null,
   "metadata": {},
   "outputs": [],
   "source": [
    "import pandas as pd\n",
    "import plotly.express as px\n",
    "\n",
    "df = pd.read_csv('weather_daily.csv')\n",
    "df.columns\n",
    "# Convert 'time' to a datetime format if it's not already\n",
    "df['time'] = pd.to_datetime(df['time'])\n",
    "\n",
    "# Melt the DataFrame to a long format\n",
    "df_long = df.melt(id_vars=['time'], \n",
    "                  value_vars=['temperature_2m_max (°F)', 'temperature_2m_min (°F)', 'temperature_2m_mean (°F)', 'shortwave_radiation_sum (MJ/m²)'],\n",
    "                  var_name='Measurement', value_name='Value')\n",
    "\n",
    "# Create the scatter plot\n",
    "fig = px.scatter(df_long, x='time', y='Value', color='Measurement', title='Temperature and Solar Radiation')\n",
    "\n",
    "# Update layout\n",
    "fig.update_layout(\n",
    "    xaxis_title='Time',\n",
    "    yaxis_title='Temperature (°F) / Solar Radiation (MJ/m²)',\n",
    "    legend_title='Variables'\n",
    ")\n",
    "\n",
    "fig.show()\n"
   ]
  },
  {
   "cell_type": "code",
   "execution_count": null,
   "metadata": {},
   "outputs": [],
   "source": [
    "import plotly.express as px\n",
    "\n",
    "df = pd.read_csv('ng_futures.csv')\n",
    "# Convert the 'Date' column to datetime format\n",
    "df['Date'] = pd.to_datetime(df['Date'])\n",
    "df.dtypes\n",
    "# # Extract the month and year from the 'Date' column\n",
    "df['Month'] = df['Date'].dt.month\n",
    "df['Year'] = df['Date'].dt.year\n",
    "\n",
    "# Calculate the average price monthly\n",
    "monthly_avg_price = df.groupby(['Year', 'Month'])['Price'].mean().reset_index()\n",
    "\n",
    "# Create the chart\n",
    "fig = px.line(monthly_avg_price, x='Month', y='Price', color='Year', title='Average Price Monthly')\n",
    "fig"
   ]
  },
  {
   "cell_type": "code",
   "execution_count": null,
   "metadata": {},
   "outputs": [],
   "source": [
    "import plotly.express as px\n",
    "# plot all price data by year \n",
    "# Convert the 'Date' column to datetime format\n",
    "df['Date'] = pd.to_datetime(df['Date'])\n",
    "\n",
    "# Extract the year from the 'Date' column\n",
    "df['Year'] = df['Date'].dt.year\n",
    "\n",
    "# Create the plot\n",
    "fig = px.line(df, x='Date', y='Price', color='Year')\n",
    "\n",
    "# Show the plot\n",
    "fig"
   ]
  },
  {
   "cell_type": "code",
   "execution_count": null,
   "metadata": {},
   "outputs": [],
   "source": [
    "\n"
   ]
  }
 ],
 "metadata": {
  "kernelspec": {
   "display_name": "obb",
   "language": "python",
   "name": "python3"
  },
  "language_info": {
   "codemirror_mode": {
    "name": "ipython",
    "version": 3
   },
   "file_extension": ".py",
   "mimetype": "text/x-python",
   "name": "python",
   "nbconvert_exporter": "python",
   "pygments_lexer": "ipython3",
   "version": "3.9.6"
  },
  "orig_nbformat": 4
 },
 "nbformat": 4,
 "nbformat_minor": 2
}
