{
 "cells": [
  {
   "cell_type": "code",
   "execution_count": 2,
   "metadata": {},
   "outputs": [],
   "source": [
    "from openbb_terminal.sdk import openbb\n",
    "import plotly.graph_objects as go\n",
    "import yfinance as yf\n",
    "import pandas as pd\n",
    "import plotly.express as px\n",
    "import numpy as np\n"
   ]
  },
  {
   "cell_type": "code",
   "execution_count": 4,
   "metadata": {},
   "outputs": [
    {
     "name": "stdout",
     "output_type": "stream",
     "text": [
      "Current timestamp: 2024-05-05\n"
     ]
    }
   ],
   "source": [
    "# want to find aggregate closes for 5m, 30m, and 1hr during trading hrs 8-10\n",
    "# what % of time is the rsi below/above the 50 \n",
    "import datetime\n",
    "current_timestamp = datetime.datetime.now()\n",
    "\n",
    "\n",
    "formatted_date = current_timestamp.strftime(\"%Y-%m-%d\")\n",
    "print(\"Current timestamp:\", formatted_date)"
   ]
  },
  {
   "cell_type": "code",
   "execution_count": 5,
   "metadata": {},
   "outputs": [
    {
     "data": {
      "text/html": [
       "<div>\n",
       "<style scoped>\n",
       "    .dataframe tbody tr th:only-of-type {\n",
       "        vertical-align: middle;\n",
       "    }\n",
       "\n",
       "    .dataframe tbody tr th {\n",
       "        vertical-align: top;\n",
       "    }\n",
       "\n",
       "    .dataframe thead th {\n",
       "        text-align: right;\n",
       "    }\n",
       "</style>\n",
       "<table border=\"1\" class=\"dataframe\">\n",
       "  <thead>\n",
       "    <tr style=\"text-align: right;\">\n",
       "      <th></th>\n",
       "      <th>Date</th>\n",
       "      <th>Open</th>\n",
       "      <th>High</th>\n",
       "      <th>Low</th>\n",
       "      <th>Close</th>\n",
       "      <th>Adj Close</th>\n",
       "      <th>Volume</th>\n",
       "    </tr>\n",
       "  </thead>\n",
       "  <tbody>\n",
       "    <tr>\n",
       "      <th>5936</th>\n",
       "      <td>2024-04-29</td>\n",
       "      <td>2334.800049</td>\n",
       "      <td>2345.500000</td>\n",
       "      <td>2327.899902</td>\n",
       "      <td>2345.399902</td>\n",
       "      <td>2345.399902</td>\n",
       "      <td>405</td>\n",
       "    </tr>\n",
       "    <tr>\n",
       "      <th>5937</th>\n",
       "      <td>2024-04-30</td>\n",
       "      <td>2322.500000</td>\n",
       "      <td>2322.500000</td>\n",
       "      <td>2291.399902</td>\n",
       "      <td>2291.399902</td>\n",
       "      <td>2291.399902</td>\n",
       "      <td>113</td>\n",
       "    </tr>\n",
       "    <tr>\n",
       "      <th>5938</th>\n",
       "      <td>2024-05-01</td>\n",
       "      <td>2287.699951</td>\n",
       "      <td>2327.300049</td>\n",
       "      <td>2283.800049</td>\n",
       "      <td>2299.899902</td>\n",
       "      <td>2299.899902</td>\n",
       "      <td>42</td>\n",
       "    </tr>\n",
       "    <tr>\n",
       "      <th>5939</th>\n",
       "      <td>2024-05-02</td>\n",
       "      <td>2321.699951</td>\n",
       "      <td>2324.699951</td>\n",
       "      <td>2292.300049</td>\n",
       "      <td>2299.199951</td>\n",
       "      <td>2299.199951</td>\n",
       "      <td>56</td>\n",
       "    </tr>\n",
       "    <tr>\n",
       "      <th>5940</th>\n",
       "      <td>2024-05-03</td>\n",
       "      <td>2300.000000</td>\n",
       "      <td>2301.000000</td>\n",
       "      <td>2277.600098</td>\n",
       "      <td>2299.000000</td>\n",
       "      <td>2299.000000</td>\n",
       "      <td>56</td>\n",
       "    </tr>\n",
       "  </tbody>\n",
       "</table>\n",
       "</div>"
      ],
      "text/plain": [
       "           Date         Open         High          Low        Close  \\\n",
       "5936 2024-04-29  2334.800049  2345.500000  2327.899902  2345.399902   \n",
       "5937 2024-04-30  2322.500000  2322.500000  2291.399902  2291.399902   \n",
       "5938 2024-05-01  2287.699951  2327.300049  2283.800049  2299.899902   \n",
       "5939 2024-05-02  2321.699951  2324.699951  2292.300049  2299.199951   \n",
       "5940 2024-05-03  2300.000000  2301.000000  2277.600098  2299.000000   \n",
       "\n",
       "        Adj Close  Volume  \n",
       "5936  2345.399902     405  \n",
       "5937  2291.399902     113  \n",
       "5938  2299.899902      42  \n",
       "5939  2299.199951      56  \n",
       "5940  2299.000000      56  "
      ]
     },
     "execution_count": 5,
     "metadata": {},
     "output_type": "execute_result"
    }
   ],
   "source": [
    "\n",
    "df = openbb.futures.historical(symbols='GC', start_date='2000-08-30', end_date= formatted_date)\n",
    "\n",
    "df = df.reset_index().rename(columns={'index': 'Date'})\n",
    "# Convert the 'Date' column to datetime\n",
    "df['Date'] = pd.to_datetime(df['Date'])\n",
    "\n",
    "df.tail()"
   ]
  },
  {
   "cell_type": "code",
   "execution_count": 6,
   "metadata": {},
   "outputs": [
    {
     "data": {
      "text/html": [
       "<div>\n",
       "<style scoped>\n",
       "    .dataframe tbody tr th:only-of-type {\n",
       "        vertical-align: middle;\n",
       "    }\n",
       "\n",
       "    .dataframe tbody tr th {\n",
       "        vertical-align: top;\n",
       "    }\n",
       "\n",
       "    .dataframe thead th {\n",
       "        text-align: right;\n",
       "    }\n",
       "</style>\n",
       "<table border=\"1\" class=\"dataframe\">\n",
       "  <thead>\n",
       "    <tr style=\"text-align: right;\">\n",
       "      <th></th>\n",
       "      <th>Date</th>\n",
       "      <th>Open</th>\n",
       "      <th>High</th>\n",
       "      <th>Low</th>\n",
       "      <th>Close</th>\n",
       "      <th>Adj Close</th>\n",
       "      <th>Volume</th>\n",
       "      <th>rsi</th>\n",
       "    </tr>\n",
       "  </thead>\n",
       "  <tbody>\n",
       "    <tr>\n",
       "      <th>0</th>\n",
       "      <td>2000-08-30</td>\n",
       "      <td>273.899994</td>\n",
       "      <td>273.899994</td>\n",
       "      <td>273.899994</td>\n",
       "      <td>273.899994</td>\n",
       "      <td>273.899994</td>\n",
       "      <td>0</td>\n",
       "      <td>NaN</td>\n",
       "    </tr>\n",
       "    <tr>\n",
       "      <th>1</th>\n",
       "      <td>2000-08-31</td>\n",
       "      <td>274.799988</td>\n",
       "      <td>278.299988</td>\n",
       "      <td>274.799988</td>\n",
       "      <td>278.299988</td>\n",
       "      <td>278.299988</td>\n",
       "      <td>0</td>\n",
       "      <td>NaN</td>\n",
       "    </tr>\n",
       "    <tr>\n",
       "      <th>2</th>\n",
       "      <td>2000-09-01</td>\n",
       "      <td>277.000000</td>\n",
       "      <td>277.000000</td>\n",
       "      <td>277.000000</td>\n",
       "      <td>277.000000</td>\n",
       "      <td>277.000000</td>\n",
       "      <td>0</td>\n",
       "      <td>NaN</td>\n",
       "    </tr>\n",
       "    <tr>\n",
       "      <th>3</th>\n",
       "      <td>2000-09-05</td>\n",
       "      <td>275.799988</td>\n",
       "      <td>275.799988</td>\n",
       "      <td>275.799988</td>\n",
       "      <td>275.799988</td>\n",
       "      <td>275.799988</td>\n",
       "      <td>2</td>\n",
       "      <td>NaN</td>\n",
       "    </tr>\n",
       "    <tr>\n",
       "      <th>4</th>\n",
       "      <td>2000-09-06</td>\n",
       "      <td>274.200012</td>\n",
       "      <td>274.200012</td>\n",
       "      <td>274.200012</td>\n",
       "      <td>274.200012</td>\n",
       "      <td>274.200012</td>\n",
       "      <td>0</td>\n",
       "      <td>NaN</td>\n",
       "    </tr>\n",
       "    <tr>\n",
       "      <th>5</th>\n",
       "      <td>2000-09-07</td>\n",
       "      <td>274.000000</td>\n",
       "      <td>274.000000</td>\n",
       "      <td>274.000000</td>\n",
       "      <td>274.000000</td>\n",
       "      <td>274.000000</td>\n",
       "      <td>125</td>\n",
       "      <td>NaN</td>\n",
       "    </tr>\n",
       "    <tr>\n",
       "      <th>6</th>\n",
       "      <td>2000-09-08</td>\n",
       "      <td>273.299988</td>\n",
       "      <td>273.299988</td>\n",
       "      <td>273.299988</td>\n",
       "      <td>273.299988</td>\n",
       "      <td>273.299988</td>\n",
       "      <td>0</td>\n",
       "      <td>NaN</td>\n",
       "    </tr>\n",
       "    <tr>\n",
       "      <th>7</th>\n",
       "      <td>2000-09-11</td>\n",
       "      <td>273.100006</td>\n",
       "      <td>273.100006</td>\n",
       "      <td>273.100006</td>\n",
       "      <td>273.100006</td>\n",
       "      <td>273.100006</td>\n",
       "      <td>0</td>\n",
       "      <td>NaN</td>\n",
       "    </tr>\n",
       "    <tr>\n",
       "      <th>8</th>\n",
       "      <td>2000-09-12</td>\n",
       "      <td>272.899994</td>\n",
       "      <td>272.899994</td>\n",
       "      <td>272.899994</td>\n",
       "      <td>272.899994</td>\n",
       "      <td>272.899994</td>\n",
       "      <td>0</td>\n",
       "      <td>NaN</td>\n",
       "    </tr>\n",
       "    <tr>\n",
       "      <th>9</th>\n",
       "      <td>2000-09-13</td>\n",
       "      <td>272.799988</td>\n",
       "      <td>272.799988</td>\n",
       "      <td>272.799988</td>\n",
       "      <td>272.799988</td>\n",
       "      <td>272.799988</td>\n",
       "      <td>0</td>\n",
       "      <td>NaN</td>\n",
       "    </tr>\n",
       "    <tr>\n",
       "      <th>10</th>\n",
       "      <td>2000-09-14</td>\n",
       "      <td>272.399994</td>\n",
       "      <td>272.399994</td>\n",
       "      <td>272.399994</td>\n",
       "      <td>272.399994</td>\n",
       "      <td>272.399994</td>\n",
       "      <td>0</td>\n",
       "      <td>NaN</td>\n",
       "    </tr>\n",
       "    <tr>\n",
       "      <th>11</th>\n",
       "      <td>2000-09-15</td>\n",
       "      <td>272.299988</td>\n",
       "      <td>272.299988</td>\n",
       "      <td>272.299988</td>\n",
       "      <td>272.299988</td>\n",
       "      <td>272.299988</td>\n",
       "      <td>0</td>\n",
       "      <td>NaN</td>\n",
       "    </tr>\n",
       "    <tr>\n",
       "      <th>12</th>\n",
       "      <td>2000-09-18</td>\n",
       "      <td>271.399994</td>\n",
       "      <td>271.399994</td>\n",
       "      <td>271.399994</td>\n",
       "      <td>271.399994</td>\n",
       "      <td>271.399994</td>\n",
       "      <td>0</td>\n",
       "      <td>NaN</td>\n",
       "    </tr>\n",
       "    <tr>\n",
       "      <th>13</th>\n",
       "      <td>2000-09-19</td>\n",
       "      <td>271.899994</td>\n",
       "      <td>271.899994</td>\n",
       "      <td>271.899994</td>\n",
       "      <td>271.899994</td>\n",
       "      <td>271.899994</td>\n",
       "      <td>0</td>\n",
       "      <td>NaN</td>\n",
       "    </tr>\n",
       "    <tr>\n",
       "      <th>14</th>\n",
       "      <td>2000-09-20</td>\n",
       "      <td>269.000000</td>\n",
       "      <td>269.000000</td>\n",
       "      <td>269.000000</td>\n",
       "      <td>269.000000</td>\n",
       "      <td>269.000000</td>\n",
       "      <td>0</td>\n",
       "      <td>24.271483</td>\n",
       "    </tr>\n",
       "    <tr>\n",
       "      <th>15</th>\n",
       "      <td>2000-09-21</td>\n",
       "      <td>270.299988</td>\n",
       "      <td>270.299988</td>\n",
       "      <td>270.299988</td>\n",
       "      <td>270.299988</td>\n",
       "      <td>270.299988</td>\n",
       "      <td>0</td>\n",
       "      <td>34.634546</td>\n",
       "    </tr>\n",
       "    <tr>\n",
       "      <th>16</th>\n",
       "      <td>2000-09-22</td>\n",
       "      <td>271.799988</td>\n",
       "      <td>271.799988</td>\n",
       "      <td>271.799988</td>\n",
       "      <td>271.799988</td>\n",
       "      <td>271.799988</td>\n",
       "      <td>0</td>\n",
       "      <td>44.134266</td>\n",
       "    </tr>\n",
       "    <tr>\n",
       "      <th>17</th>\n",
       "      <td>2000-09-25</td>\n",
       "      <td>274.100006</td>\n",
       "      <td>274.100006</td>\n",
       "      <td>274.100006</td>\n",
       "      <td>274.100006</td>\n",
       "      <td>274.100006</td>\n",
       "      <td>0</td>\n",
       "      <td>54.946507</td>\n",
       "    </tr>\n",
       "    <tr>\n",
       "      <th>18</th>\n",
       "      <td>2000-09-26</td>\n",
       "      <td>273.899994</td>\n",
       "      <td>273.899994</td>\n",
       "      <td>273.899994</td>\n",
       "      <td>273.899994</td>\n",
       "      <td>273.899994</td>\n",
       "      <td>0</td>\n",
       "      <td>53.968327</td>\n",
       "    </tr>\n",
       "    <tr>\n",
       "      <th>19</th>\n",
       "      <td>2000-09-27</td>\n",
       "      <td>278.399994</td>\n",
       "      <td>278.399994</td>\n",
       "      <td>278.399994</td>\n",
       "      <td>278.399994</td>\n",
       "      <td>278.399994</td>\n",
       "      <td>3511</td>\n",
       "      <td>67.840153</td>\n",
       "    </tr>\n",
       "    <tr>\n",
       "      <th>20</th>\n",
       "      <td>2000-09-28</td>\n",
       "      <td>277.500000</td>\n",
       "      <td>277.500000</td>\n",
       "      <td>275.100006</td>\n",
       "      <td>275.600006</td>\n",
       "      <td>275.600006</td>\n",
       "      <td>631</td>\n",
       "      <td>56.442587</td>\n",
       "    </tr>\n",
       "    <tr>\n",
       "      <th>21</th>\n",
       "      <td>2000-09-29</td>\n",
       "      <td>274.600006</td>\n",
       "      <td>274.600006</td>\n",
       "      <td>272.000000</td>\n",
       "      <td>273.600006</td>\n",
       "      <td>273.600006</td>\n",
       "      <td>22</td>\n",
       "      <td>49.982982</td>\n",
       "    </tr>\n",
       "    <tr>\n",
       "      <th>22</th>\n",
       "      <td>2000-10-02</td>\n",
       "      <td>272.799988</td>\n",
       "      <td>273.500000</td>\n",
       "      <td>272.500000</td>\n",
       "      <td>273.100006</td>\n",
       "      <td>273.100006</td>\n",
       "      <td>161</td>\n",
       "      <td>48.488928</td>\n",
       "    </tr>\n",
       "    <tr>\n",
       "      <th>23</th>\n",
       "      <td>2000-10-03</td>\n",
       "      <td>272.100006</td>\n",
       "      <td>272.799988</td>\n",
       "      <td>271.500000</td>\n",
       "      <td>271.600006</td>\n",
       "      <td>271.600006</td>\n",
       "      <td>25</td>\n",
       "      <td>44.218655</td>\n",
       "    </tr>\n",
       "    <tr>\n",
       "      <th>24</th>\n",
       "      <td>2000-10-04</td>\n",
       "      <td>270.500000</td>\n",
       "      <td>271.000000</td>\n",
       "      <td>270.100006</td>\n",
       "      <td>270.299988</td>\n",
       "      <td>270.299988</td>\n",
       "      <td>11</td>\n",
       "      <td>40.860079</td>\n",
       "    </tr>\n",
       "    <tr>\n",
       "      <th>25</th>\n",
       "      <td>2000-10-05</td>\n",
       "      <td>270.299988</td>\n",
       "      <td>270.600006</td>\n",
       "      <td>270.000000</td>\n",
       "      <td>270.600006</td>\n",
       "      <td>270.600006</td>\n",
       "      <td>6</td>\n",
       "      <td>41.955779</td>\n",
       "    </tr>\n",
       "    <tr>\n",
       "      <th>26</th>\n",
       "      <td>2000-10-06</td>\n",
       "      <td>269.799988</td>\n",
       "      <td>270.200012</td>\n",
       "      <td>269.299988</td>\n",
       "      <td>269.299988</td>\n",
       "      <td>269.299988</td>\n",
       "      <td>2</td>\n",
       "      <td>38.617084</td>\n",
       "    </tr>\n",
       "    <tr>\n",
       "      <th>27</th>\n",
       "      <td>2000-10-09</td>\n",
       "      <td>269.100006</td>\n",
       "      <td>270.100006</td>\n",
       "      <td>269.100006</td>\n",
       "      <td>270.100006</td>\n",
       "      <td>270.100006</td>\n",
       "      <td>4</td>\n",
       "      <td>41.692101</td>\n",
       "    </tr>\n",
       "  </tbody>\n",
       "</table>\n",
       "</div>"
      ],
      "text/plain": [
       "         Date        Open        High         Low       Close   Adj Close  \\\n",
       "0  2000-08-30  273.899994  273.899994  273.899994  273.899994  273.899994   \n",
       "1  2000-08-31  274.799988  278.299988  274.799988  278.299988  278.299988   \n",
       "2  2000-09-01  277.000000  277.000000  277.000000  277.000000  277.000000   \n",
       "3  2000-09-05  275.799988  275.799988  275.799988  275.799988  275.799988   \n",
       "4  2000-09-06  274.200012  274.200012  274.200012  274.200012  274.200012   \n",
       "5  2000-09-07  274.000000  274.000000  274.000000  274.000000  274.000000   \n",
       "6  2000-09-08  273.299988  273.299988  273.299988  273.299988  273.299988   \n",
       "7  2000-09-11  273.100006  273.100006  273.100006  273.100006  273.100006   \n",
       "8  2000-09-12  272.899994  272.899994  272.899994  272.899994  272.899994   \n",
       "9  2000-09-13  272.799988  272.799988  272.799988  272.799988  272.799988   \n",
       "10 2000-09-14  272.399994  272.399994  272.399994  272.399994  272.399994   \n",
       "11 2000-09-15  272.299988  272.299988  272.299988  272.299988  272.299988   \n",
       "12 2000-09-18  271.399994  271.399994  271.399994  271.399994  271.399994   \n",
       "13 2000-09-19  271.899994  271.899994  271.899994  271.899994  271.899994   \n",
       "14 2000-09-20  269.000000  269.000000  269.000000  269.000000  269.000000   \n",
       "15 2000-09-21  270.299988  270.299988  270.299988  270.299988  270.299988   \n",
       "16 2000-09-22  271.799988  271.799988  271.799988  271.799988  271.799988   \n",
       "17 2000-09-25  274.100006  274.100006  274.100006  274.100006  274.100006   \n",
       "18 2000-09-26  273.899994  273.899994  273.899994  273.899994  273.899994   \n",
       "19 2000-09-27  278.399994  278.399994  278.399994  278.399994  278.399994   \n",
       "20 2000-09-28  277.500000  277.500000  275.100006  275.600006  275.600006   \n",
       "21 2000-09-29  274.600006  274.600006  272.000000  273.600006  273.600006   \n",
       "22 2000-10-02  272.799988  273.500000  272.500000  273.100006  273.100006   \n",
       "23 2000-10-03  272.100006  272.799988  271.500000  271.600006  271.600006   \n",
       "24 2000-10-04  270.500000  271.000000  270.100006  270.299988  270.299988   \n",
       "25 2000-10-05  270.299988  270.600006  270.000000  270.600006  270.600006   \n",
       "26 2000-10-06  269.799988  270.200012  269.299988  269.299988  269.299988   \n",
       "27 2000-10-09  269.100006  270.100006  269.100006  270.100006  270.100006   \n",
       "\n",
       "    Volume        rsi  \n",
       "0        0        NaN  \n",
       "1        0        NaN  \n",
       "2        0        NaN  \n",
       "3        2        NaN  \n",
       "4        0        NaN  \n",
       "5      125        NaN  \n",
       "6        0        NaN  \n",
       "7        0        NaN  \n",
       "8        0        NaN  \n",
       "9        0        NaN  \n",
       "10       0        NaN  \n",
       "11       0        NaN  \n",
       "12       0        NaN  \n",
       "13       0        NaN  \n",
       "14       0  24.271483  \n",
       "15       0  34.634546  \n",
       "16       0  44.134266  \n",
       "17       0  54.946507  \n",
       "18       0  53.968327  \n",
       "19    3511  67.840153  \n",
       "20     631  56.442587  \n",
       "21      22  49.982982  \n",
       "22     161  48.488928  \n",
       "23      25  44.218655  \n",
       "24      11  40.860079  \n",
       "25       6  41.955779  \n",
       "26       2  38.617084  \n",
       "27       4  41.692101  "
      ]
     },
     "execution_count": 6,
     "metadata": {},
     "output_type": "execute_result"
    }
   ],
   "source": [
    "# df['rsi'] = openbb.ta.rsi(df['Adj Close'], 14).reset_index(drop=True)\n",
    "df['rsi'] = openbb.ta.rsi(df['Adj Close'], 14)\n",
    "# Assuming df is your DataFrame\n",
    "# df = df.drop(columns=df.columns[0])\n",
    "\n",
    "df.head(28)\n"
   ]
  },
  {
   "cell_type": "code",
   "execution_count": 7,
   "metadata": {},
   "outputs": [
    {
     "data": {
      "text/plain": [
       "Date         datetime64[ns]\n",
       "Open                float64\n",
       "High                float64\n",
       "Low                 float64\n",
       "Close               float64\n",
       "Adj Close           float64\n",
       "Volume                int64\n",
       "rsi                 float64\n",
       "dtype: object"
      ]
     },
     "execution_count": 7,
     "metadata": {},
     "output_type": "execute_result"
    }
   ],
   "source": [
    "df.dtypes"
   ]
  },
  {
   "cell_type": "code",
   "execution_count": 8,
   "metadata": {},
   "outputs": [],
   "source": [
    "df.loc[(df['rsi'] > 60), 'above'] = True\n",
    "df['above'].fillna(False, inplace=True)"
   ]
  },
  {
   "cell_type": "code",
   "execution_count": 9,
   "metadata": {},
   "outputs": [],
   "source": [
    "df.loc[(df['rsi'] < 40), 'below'] = True\n",
    "df['below'].fillna(False, inplace=True)"
   ]
  },
  {
   "cell_type": "code",
   "execution_count": 10,
   "metadata": {},
   "outputs": [],
   "source": [
    "df['group'] = (df['above'] != df['above'].shift()).cumsum()\n",
    "\n",
    "# Filter out the groups where 'value' is not above the threshold\n",
    "above_groups = df[df['above']].groupby('group')\n",
    "above_groups_df = above_groups.apply(lambda x: x.reset_index(drop=True))\n"
   ]
  },
  {
   "cell_type": "code",
   "execution_count": 11,
   "metadata": {},
   "outputs": [
    {
     "data": {
      "text/html": [
       "<div>\n",
       "<style scoped>\n",
       "    .dataframe tbody tr th:only-of-type {\n",
       "        vertical-align: middle;\n",
       "    }\n",
       "\n",
       "    .dataframe tbody tr th {\n",
       "        vertical-align: top;\n",
       "    }\n",
       "\n",
       "    .dataframe thead th {\n",
       "        text-align: right;\n",
       "    }\n",
       "</style>\n",
       "<table border=\"1\" class=\"dataframe\">\n",
       "  <thead>\n",
       "    <tr style=\"text-align: right;\">\n",
       "      <th></th>\n",
       "      <th></th>\n",
       "      <th>Date</th>\n",
       "      <th>Open</th>\n",
       "      <th>High</th>\n",
       "      <th>Low</th>\n",
       "      <th>Close</th>\n",
       "      <th>Adj Close</th>\n",
       "      <th>Volume</th>\n",
       "      <th>rsi</th>\n",
       "      <th>above</th>\n",
       "      <th>below</th>\n",
       "      <th>group</th>\n",
       "    </tr>\n",
       "    <tr>\n",
       "      <th>group</th>\n",
       "      <th></th>\n",
       "      <th></th>\n",
       "      <th></th>\n",
       "      <th></th>\n",
       "      <th></th>\n",
       "      <th></th>\n",
       "      <th></th>\n",
       "      <th></th>\n",
       "      <th></th>\n",
       "      <th></th>\n",
       "      <th></th>\n",
       "      <th></th>\n",
       "    </tr>\n",
       "  </thead>\n",
       "  <tbody>\n",
       "    <tr>\n",
       "      <th>2</th>\n",
       "      <th>0</th>\n",
       "      <td>2000-09-27</td>\n",
       "      <td>278.399994</td>\n",
       "      <td>278.399994</td>\n",
       "      <td>278.399994</td>\n",
       "      <td>278.399994</td>\n",
       "      <td>278.399994</td>\n",
       "      <td>3511</td>\n",
       "      <td>67.840153</td>\n",
       "      <td>True</td>\n",
       "      <td>False</td>\n",
       "      <td>2</td>\n",
       "    </tr>\n",
       "    <tr>\n",
       "      <th rowspan=\"2\" valign=\"top\">4</th>\n",
       "      <th>0</th>\n",
       "      <td>2000-11-27</td>\n",
       "      <td>270.100006</td>\n",
       "      <td>270.100006</td>\n",
       "      <td>270.100006</td>\n",
       "      <td>270.100006</td>\n",
       "      <td>270.100006</td>\n",
       "      <td>0</td>\n",
       "      <td>62.823342</td>\n",
       "      <td>True</td>\n",
       "      <td>False</td>\n",
       "      <td>4</td>\n",
       "    </tr>\n",
       "    <tr>\n",
       "      <th>1</th>\n",
       "      <td>2000-11-28</td>\n",
       "      <td>269.799988</td>\n",
       "      <td>269.799988</td>\n",
       "      <td>269.799988</td>\n",
       "      <td>269.799988</td>\n",
       "      <td>269.799988</td>\n",
       "      <td>28696</td>\n",
       "      <td>61.361317</td>\n",
       "      <td>True</td>\n",
       "      <td>False</td>\n",
       "      <td>4</td>\n",
       "    </tr>\n",
       "    <tr>\n",
       "      <th rowspan=\"2\" valign=\"top\">6</th>\n",
       "      <th>0</th>\n",
       "      <td>2000-12-06</td>\n",
       "      <td>271.000000</td>\n",
       "      <td>274.299988</td>\n",
       "      <td>270.600006</td>\n",
       "      <td>274.299988</td>\n",
       "      <td>274.299988</td>\n",
       "      <td>81</td>\n",
       "      <td>65.957883</td>\n",
       "      <td>True</td>\n",
       "      <td>False</td>\n",
       "      <td>6</td>\n",
       "    </tr>\n",
       "    <tr>\n",
       "      <th>1</th>\n",
       "      <td>2000-12-07</td>\n",
       "      <td>274.299988</td>\n",
       "      <td>276.000000</td>\n",
       "      <td>272.600006</td>\n",
       "      <td>273.200012</td>\n",
       "      <td>273.200012</td>\n",
       "      <td>36</td>\n",
       "      <td>62.335740</td>\n",
       "      <td>True</td>\n",
       "      <td>False</td>\n",
       "      <td>6</td>\n",
       "    </tr>\n",
       "  </tbody>\n",
       "</table>\n",
       "</div>"
      ],
      "text/plain": [
       "              Date        Open        High         Low       Close  \\\n",
       "group                                                                \n",
       "2     0 2000-09-27  278.399994  278.399994  278.399994  278.399994   \n",
       "4     0 2000-11-27  270.100006  270.100006  270.100006  270.100006   \n",
       "      1 2000-11-28  269.799988  269.799988  269.799988  269.799988   \n",
       "6     0 2000-12-06  271.000000  274.299988  270.600006  274.299988   \n",
       "      1 2000-12-07  274.299988  276.000000  272.600006  273.200012   \n",
       "\n",
       "          Adj Close  Volume        rsi  above  below  group  \n",
       "group                                                        \n",
       "2     0  278.399994    3511  67.840153   True  False      2  \n",
       "4     0  270.100006       0  62.823342   True  False      4  \n",
       "      1  269.799988   28696  61.361317   True  False      4  \n",
       "6     0  274.299988      81  65.957883   True  False      6  \n",
       "      1  273.200012      36  62.335740   True  False      6  "
      ]
     },
     "execution_count": 11,
     "metadata": {},
     "output_type": "execute_result"
    }
   ],
   "source": [
    "above_groups_df.head()"
   ]
  },
  {
   "cell_type": "code",
   "execution_count": 12,
   "metadata": {},
   "outputs": [
    {
     "data": {
      "text/html": [
       "<div>\n",
       "<style scoped>\n",
       "    .dataframe tbody tr th:only-of-type {\n",
       "        vertical-align: middle;\n",
       "    }\n",
       "\n",
       "    .dataframe tbody tr th {\n",
       "        vertical-align: top;\n",
       "    }\n",
       "\n",
       "    .dataframe thead th {\n",
       "        text-align: right;\n",
       "    }\n",
       "</style>\n",
       "<table border=\"1\" class=\"dataframe\">\n",
       "  <thead>\n",
       "    <tr style=\"text-align: right;\">\n",
       "      <th></th>\n",
       "      <th></th>\n",
       "      <th>Date</th>\n",
       "      <th>Open</th>\n",
       "      <th>High</th>\n",
       "      <th>Low</th>\n",
       "      <th>Close</th>\n",
       "      <th>Adj Close</th>\n",
       "      <th>Volume</th>\n",
       "      <th>rsi</th>\n",
       "      <th>above</th>\n",
       "      <th>below</th>\n",
       "      <th>group</th>\n",
       "      <th>group_b</th>\n",
       "    </tr>\n",
       "    <tr>\n",
       "      <th>group_b</th>\n",
       "      <th></th>\n",
       "      <th></th>\n",
       "      <th></th>\n",
       "      <th></th>\n",
       "      <th></th>\n",
       "      <th></th>\n",
       "      <th></th>\n",
       "      <th></th>\n",
       "      <th></th>\n",
       "      <th></th>\n",
       "      <th></th>\n",
       "      <th></th>\n",
       "      <th></th>\n",
       "    </tr>\n",
       "  </thead>\n",
       "  <tbody>\n",
       "    <tr>\n",
       "      <th rowspan=\"2\" valign=\"top\">2</th>\n",
       "      <th>0</th>\n",
       "      <td>2000-09-20</td>\n",
       "      <td>269.000000</td>\n",
       "      <td>269.000000</td>\n",
       "      <td>269.000000</td>\n",
       "      <td>269.000000</td>\n",
       "      <td>269.000000</td>\n",
       "      <td>0</td>\n",
       "      <td>24.271483</td>\n",
       "      <td>False</td>\n",
       "      <td>True</td>\n",
       "      <td>1</td>\n",
       "      <td>2</td>\n",
       "    </tr>\n",
       "    <tr>\n",
       "      <th>1</th>\n",
       "      <td>2000-09-21</td>\n",
       "      <td>270.299988</td>\n",
       "      <td>270.299988</td>\n",
       "      <td>270.299988</td>\n",
       "      <td>270.299988</td>\n",
       "      <td>270.299988</td>\n",
       "      <td>0</td>\n",
       "      <td>34.634546</td>\n",
       "      <td>False</td>\n",
       "      <td>True</td>\n",
       "      <td>1</td>\n",
       "      <td>2</td>\n",
       "    </tr>\n",
       "    <tr>\n",
       "      <th>4</th>\n",
       "      <th>0</th>\n",
       "      <td>2000-10-06</td>\n",
       "      <td>269.799988</td>\n",
       "      <td>270.200012</td>\n",
       "      <td>269.299988</td>\n",
       "      <td>269.299988</td>\n",
       "      <td>269.299988</td>\n",
       "      <td>2</td>\n",
       "      <td>38.617084</td>\n",
       "      <td>False</td>\n",
       "      <td>True</td>\n",
       "      <td>3</td>\n",
       "      <td>4</td>\n",
       "    </tr>\n",
       "    <tr>\n",
       "      <th rowspan=\"2\" valign=\"top\">6</th>\n",
       "      <th>0</th>\n",
       "      <td>2000-10-25</td>\n",
       "      <td>266.200012</td>\n",
       "      <td>267.100006</td>\n",
       "      <td>266.000000</td>\n",
       "      <td>266.200012</td>\n",
       "      <td>266.200012</td>\n",
       "      <td>20</td>\n",
       "      <td>36.581517</td>\n",
       "      <td>False</td>\n",
       "      <td>True</td>\n",
       "      <td>3</td>\n",
       "      <td>6</td>\n",
       "    </tr>\n",
       "    <tr>\n",
       "      <th>1</th>\n",
       "      <td>2000-10-26</td>\n",
       "      <td>266.000000</td>\n",
       "      <td>267.000000</td>\n",
       "      <td>264.899994</td>\n",
       "      <td>264.899994</td>\n",
       "      <td>264.899994</td>\n",
       "      <td>0</td>\n",
       "      <td>34.289787</td>\n",
       "      <td>False</td>\n",
       "      <td>True</td>\n",
       "      <td>3</td>\n",
       "      <td>6</td>\n",
       "    </tr>\n",
       "  </tbody>\n",
       "</table>\n",
       "</div>"
      ],
      "text/plain": [
       "                Date        Open        High         Low       Close  \\\n",
       "group_b                                                                \n",
       "2       0 2000-09-20  269.000000  269.000000  269.000000  269.000000   \n",
       "        1 2000-09-21  270.299988  270.299988  270.299988  270.299988   \n",
       "4       0 2000-10-06  269.799988  270.200012  269.299988  269.299988   \n",
       "6       0 2000-10-25  266.200012  267.100006  266.000000  266.200012   \n",
       "        1 2000-10-26  266.000000  267.000000  264.899994  264.899994   \n",
       "\n",
       "            Adj Close  Volume        rsi  above  below  group  group_b  \n",
       "group_b                                                                 \n",
       "2       0  269.000000       0  24.271483  False   True      1        2  \n",
       "        1  270.299988       0  34.634546  False   True      1        2  \n",
       "4       0  269.299988       2  38.617084  False   True      3        4  \n",
       "6       0  266.200012      20  36.581517  False   True      3        6  \n",
       "        1  264.899994       0  34.289787  False   True      3        6  "
      ]
     },
     "execution_count": 12,
     "metadata": {},
     "output_type": "execute_result"
    }
   ],
   "source": [
    "df['group_b'] = (df['below'] != df['below'].shift()).cumsum()\n",
    "\n",
    "# Filter out the groups where 'value' is not above the threshold\n",
    "below_groups = df[df['below']].groupby('group_b')\n",
    "below_groups_df = below_groups.apply(lambda x: x.reset_index(drop=True))\n",
    "\n",
    "below_groups_df.head()\n",
    "\n",
    "\n"
   ]
  },
  {
   "cell_type": "code",
   "execution_count": 13,
   "metadata": {},
   "outputs": [
    {
     "data": {
      "text/html": [
       "<div>\n",
       "<style scoped>\n",
       "    .dataframe tbody tr th:only-of-type {\n",
       "        vertical-align: middle;\n",
       "    }\n",
       "\n",
       "    .dataframe tbody tr th {\n",
       "        vertical-align: top;\n",
       "    }\n",
       "\n",
       "    .dataframe thead th {\n",
       "        text-align: right;\n",
       "    }\n",
       "</style>\n",
       "<table border=\"1\" class=\"dataframe\">\n",
       "  <thead>\n",
       "    <tr style=\"text-align: right;\">\n",
       "      <th></th>\n",
       "      <th>min</th>\n",
       "      <th>max</th>\n",
       "      <th>duration</th>\n",
       "    </tr>\n",
       "    <tr>\n",
       "      <th>group</th>\n",
       "      <th></th>\n",
       "      <th></th>\n",
       "      <th></th>\n",
       "    </tr>\n",
       "  </thead>\n",
       "  <tbody>\n",
       "    <tr>\n",
       "      <th>2</th>\n",
       "      <td>2000-09-27</td>\n",
       "      <td>2000-09-27</td>\n",
       "      <td>0 days</td>\n",
       "    </tr>\n",
       "    <tr>\n",
       "      <th>4</th>\n",
       "      <td>2000-11-27</td>\n",
       "      <td>2000-11-28</td>\n",
       "      <td>1 days</td>\n",
       "    </tr>\n",
       "    <tr>\n",
       "      <th>6</th>\n",
       "      <td>2000-12-06</td>\n",
       "      <td>2000-12-07</td>\n",
       "      <td>1 days</td>\n",
       "    </tr>\n",
       "    <tr>\n",
       "      <th>8</th>\n",
       "      <td>2000-12-21</td>\n",
       "      <td>2000-12-27</td>\n",
       "      <td>6 days</td>\n",
       "    </tr>\n",
       "    <tr>\n",
       "      <th>10</th>\n",
       "      <td>2001-02-27</td>\n",
       "      <td>2001-02-27</td>\n",
       "      <td>0 days</td>\n",
       "    </tr>\n",
       "  </tbody>\n",
       "</table>\n",
       "</div>"
      ],
      "text/plain": [
       "             min        max duration\n",
       "group                               \n",
       "2     2000-09-27 2000-09-27   0 days\n",
       "4     2000-11-27 2000-11-28   1 days\n",
       "6     2000-12-06 2000-12-07   1 days\n",
       "8     2000-12-21 2000-12-27   6 days\n",
       "10    2001-02-27 2001-02-27   0 days"
      ]
     },
     "execution_count": 13,
     "metadata": {},
     "output_type": "execute_result"
    }
   ],
   "source": [
    "# Calculate the duration of each stretch\n",
    "durations = above_groups['Date'].agg(['min', 'max'])\n",
    "durations['duration'] = durations['max'] - durations['min']\n",
    "durations.head()"
   ]
  },
  {
   "cell_type": "code",
   "execution_count": 14,
   "metadata": {},
   "outputs": [],
   "source": [
    "above = above_groups['Date'].agg(['min', 'max'])\n",
    "above['duration'] = above['max'] - above['min']"
   ]
  },
  {
   "cell_type": "code",
   "execution_count": 15,
   "metadata": {},
   "outputs": [],
   "source": [
    "below = below_groups['Date'].agg(['min', 'max'])\n",
    "below['duration'] = below['max'] - below['min']"
   ]
  },
  {
   "cell_type": "code",
   "execution_count": 16,
   "metadata": {},
   "outputs": [],
   "source": [
    "# Convert duration to a suitable format (e.g., days)\n",
    "durations['duration_days'] = durations['duration'].dt.days + 1  # +1 to include the start day\n",
    "below['duration_days'] = below['duration'].dt.days + 1\n",
    "above['duration_days'] = above['duration'].dt.days + 1"
   ]
  },
  {
   "cell_type": "code",
   "execution_count": 17,
   "metadata": {},
   "outputs": [
    {
     "data": {
      "text/html": [
       "<div>\n",
       "<style scoped>\n",
       "    .dataframe tbody tr th:only-of-type {\n",
       "        vertical-align: middle;\n",
       "    }\n",
       "\n",
       "    .dataframe tbody tr th {\n",
       "        vertical-align: top;\n",
       "    }\n",
       "\n",
       "    .dataframe thead th {\n",
       "        text-align: right;\n",
       "    }\n",
       "</style>\n",
       "<table border=\"1\" class=\"dataframe\">\n",
       "  <thead>\n",
       "    <tr style=\"text-align: right;\">\n",
       "      <th></th>\n",
       "      <th>min</th>\n",
       "      <th>max</th>\n",
       "      <th>duration</th>\n",
       "      <th>duration_days</th>\n",
       "    </tr>\n",
       "    <tr>\n",
       "      <th>group</th>\n",
       "      <th></th>\n",
       "      <th></th>\n",
       "      <th></th>\n",
       "      <th></th>\n",
       "    </tr>\n",
       "  </thead>\n",
       "  <tbody>\n",
       "    <tr>\n",
       "      <th>64</th>\n",
       "      <td>2002-12-12</td>\n",
       "      <td>2003-02-07</td>\n",
       "      <td>57 days</td>\n",
       "      <td>58</td>\n",
       "    </tr>\n",
       "    <tr>\n",
       "      <th>66</th>\n",
       "      <td>2003-05-01</td>\n",
       "      <td>2003-06-03</td>\n",
       "      <td>33 days</td>\n",
       "      <td>34</td>\n",
       "    </tr>\n",
       "    <tr>\n",
       "      <th>94</th>\n",
       "      <td>2003-12-01</td>\n",
       "      <td>2004-01-14</td>\n",
       "      <td>44 days</td>\n",
       "      <td>45</td>\n",
       "    </tr>\n",
       "    <tr>\n",
       "      <th>114</th>\n",
       "      <td>2004-11-04</td>\n",
       "      <td>2004-12-07</td>\n",
       "      <td>33 days</td>\n",
       "      <td>34</td>\n",
       "    </tr>\n",
       "    <tr>\n",
       "      <th>138</th>\n",
       "      <td>2005-12-28</td>\n",
       "      <td>2006-02-06</td>\n",
       "      <td>40 days</td>\n",
       "      <td>41</td>\n",
       "    </tr>\n",
       "    <tr>\n",
       "      <th>140</th>\n",
       "      <td>2006-03-27</td>\n",
       "      <td>2006-05-17</td>\n",
       "      <td>51 days</td>\n",
       "      <td>52</td>\n",
       "    </tr>\n",
       "    <tr>\n",
       "      <th>166</th>\n",
       "      <td>2007-09-04</td>\n",
       "      <td>2007-11-12</td>\n",
       "      <td>69 days</td>\n",
       "      <td>70</td>\n",
       "    </tr>\n",
       "    <tr>\n",
       "      <th>172</th>\n",
       "      <td>2007-12-26</td>\n",
       "      <td>2008-02-04</td>\n",
       "      <td>40 days</td>\n",
       "      <td>41</td>\n",
       "    </tr>\n",
       "    <tr>\n",
       "      <th>224</th>\n",
       "      <td>2009-11-03</td>\n",
       "      <td>2009-12-03</td>\n",
       "      <td>30 days</td>\n",
       "      <td>31</td>\n",
       "    </tr>\n",
       "    <tr>\n",
       "      <th>246</th>\n",
       "      <td>2010-09-14</td>\n",
       "      <td>2010-10-18</td>\n",
       "      <td>34 days</td>\n",
       "      <td>35</td>\n",
       "    </tr>\n",
       "    <tr>\n",
       "      <th>278</th>\n",
       "      <td>2011-07-12</td>\n",
       "      <td>2011-08-23</td>\n",
       "      <td>42 days</td>\n",
       "      <td>43</td>\n",
       "    </tr>\n",
       "    <tr>\n",
       "      <th>298</th>\n",
       "      <td>2012-08-21</td>\n",
       "      <td>2012-10-08</td>\n",
       "      <td>48 days</td>\n",
       "      <td>49</td>\n",
       "    </tr>\n",
       "    <tr>\n",
       "      <th>302</th>\n",
       "      <td>2014-02-10</td>\n",
       "      <td>2014-03-18</td>\n",
       "      <td>36 days</td>\n",
       "      <td>37</td>\n",
       "    </tr>\n",
       "    <tr>\n",
       "      <th>328</th>\n",
       "      <td>2016-01-29</td>\n",
       "      <td>2016-03-11</td>\n",
       "      <td>42 days</td>\n",
       "      <td>43</td>\n",
       "    </tr>\n",
       "    <tr>\n",
       "      <th>380</th>\n",
       "      <td>2017-12-26</td>\n",
       "      <td>2018-01-26</td>\n",
       "      <td>31 days</td>\n",
       "      <td>32</td>\n",
       "    </tr>\n",
       "    <tr>\n",
       "      <th>404</th>\n",
       "      <td>2018-12-17</td>\n",
       "      <td>2019-01-17</td>\n",
       "      <td>31 days</td>\n",
       "      <td>32</td>\n",
       "    </tr>\n",
       "    <tr>\n",
       "      <th>416</th>\n",
       "      <td>2019-05-31</td>\n",
       "      <td>2019-07-24</td>\n",
       "      <td>54 days</td>\n",
       "      <td>55</td>\n",
       "    </tr>\n",
       "    <tr>\n",
       "      <th>420</th>\n",
       "      <td>2019-08-02</td>\n",
       "      <td>2019-09-04</td>\n",
       "      <td>33 days</td>\n",
       "      <td>34</td>\n",
       "    </tr>\n",
       "    <tr>\n",
       "      <th>424</th>\n",
       "      <td>2019-12-24</td>\n",
       "      <td>2020-02-03</td>\n",
       "      <td>41 days</td>\n",
       "      <td>42</td>\n",
       "    </tr>\n",
       "    <tr>\n",
       "      <th>506</th>\n",
       "      <td>2022-12-29</td>\n",
       "      <td>2023-02-02</td>\n",
       "      <td>35 days</td>\n",
       "      <td>36</td>\n",
       "    </tr>\n",
       "    <tr>\n",
       "      <th>528</th>\n",
       "      <td>2024-03-01</td>\n",
       "      <td>2024-04-19</td>\n",
       "      <td>49 days</td>\n",
       "      <td>50</td>\n",
       "    </tr>\n",
       "  </tbody>\n",
       "</table>\n",
       "</div>"
      ],
      "text/plain": [
       "             min        max duration  duration_days\n",
       "group                                              \n",
       "64    2002-12-12 2003-02-07  57 days             58\n",
       "66    2003-05-01 2003-06-03  33 days             34\n",
       "94    2003-12-01 2004-01-14  44 days             45\n",
       "114   2004-11-04 2004-12-07  33 days             34\n",
       "138   2005-12-28 2006-02-06  40 days             41\n",
       "140   2006-03-27 2006-05-17  51 days             52\n",
       "166   2007-09-04 2007-11-12  69 days             70\n",
       "172   2007-12-26 2008-02-04  40 days             41\n",
       "224   2009-11-03 2009-12-03  30 days             31\n",
       "246   2010-09-14 2010-10-18  34 days             35\n",
       "278   2011-07-12 2011-08-23  42 days             43\n",
       "298   2012-08-21 2012-10-08  48 days             49\n",
       "302   2014-02-10 2014-03-18  36 days             37\n",
       "328   2016-01-29 2016-03-11  42 days             43\n",
       "380   2017-12-26 2018-01-26  31 days             32\n",
       "404   2018-12-17 2019-01-17  31 days             32\n",
       "416   2019-05-31 2019-07-24  54 days             55\n",
       "420   2019-08-02 2019-09-04  33 days             34\n",
       "424   2019-12-24 2020-02-03  41 days             42\n",
       "506   2022-12-29 2023-02-02  35 days             36\n",
       "528   2024-03-01 2024-04-19  49 days             50"
      ]
     },
     "execution_count": 17,
     "metadata": {},
     "output_type": "execute_result"
    }
   ],
   "source": [
    "rows = above.loc[above['duration_days'] > 30]\n",
    "rows"
   ]
  },
  {
   "cell_type": "code",
   "execution_count": 33,
   "metadata": {},
   "outputs": [
    {
     "data": {
      "application/vnd.plotly.v1+json": {
       "config": {
        "plotlyServerURL": "https://plot.ly"
       },
       "data": [
        {
         "alignmentgroup": "True",
         "hovertemplate": "Date Range=%{x}<br>Duration (Days)=%{marker.color}<extra></extra>",
         "legendgroup": "",
         "marker": {
          "color": [
           1,
           2,
           2,
           7,
           1,
           4,
           1,
           5,
           17,
           12,
           25,
           1,
           8,
           15,
           1,
           1,
           4,
           8,
           1,
           14,
           4,
           16,
           2,
           4,
           1,
           5,
           7,
           1,
           1,
           1,
           5,
           58,
           34,
           1,
           7,
           1,
           1,
           1,
           16,
           7,
           1,
           1,
           4,
           3,
           1,
           1,
           45,
           8,
           3,
           5,
           5,
           7,
           1,
           4,
           7,
           13,
           34,
           7,
           10,
           1,
           1,
           12,
           8,
           7,
           11,
           30,
           1,
           28,
           41,
           52,
           2,
           7,
           1,
           7,
           2,
           15,
           10,
           12,
           7,
           2,
           14,
           7,
           70,
           1,
           4,
           41,
           4,
           29,
           1,
           6,
           8,
           1,
           1,
           3,
           1,
           2,
           1,
           1,
           4,
           1,
           10,
           5,
           5,
           2,
           15,
           2,
           16,
           2,
           22,
           1,
           19,
           31,
           1,
           2,
           10,
           7,
           14,
           2,
           2,
           2,
           1,
           25,
           35,
           1,
           8,
           5,
           1,
           4,
           21,
           2,
           1,
           7,
           20,
           1,
           6,
           5,
           1,
           2,
           43,
           8,
           2,
           1,
           3,
           1,
           10,
           1,
           1,
           8,
           49,
           20,
           37,
           23,
           1,
           1,
           17,
           1,
           5,
           5,
           1,
           12,
           1,
           1,
           2,
           43,
           1,
           1,
           5,
           1,
           12,
           18,
           1,
           7,
           3,
           8,
           5,
           9,
           7,
           7,
           9,
           2,
           1,
           11,
           1,
           1,
           6,
           1,
           8,
           6,
           29,
           32,
           1,
           3,
           4,
           1,
           1,
           5,
           1,
           2,
           1,
           1,
           7,
           32,
           15,
           9,
           4,
           1,
           1,
           55,
           6,
           34,
           1,
           42,
           1,
           14,
           6,
           1,
           8,
           1,
           1,
           2,
           5,
           14,
           25,
           2,
           2,
           2,
           1,
           1,
           1,
           28,
           7,
           1,
           1,
           1,
           1,
           11,
           1,
           2,
           1,
           11,
           12,
           1,
           1,
           1,
           2,
           1,
           11,
           3,
           2,
           3,
           2,
           2,
           36,
           12,
           10,
           3,
           2,
           2,
           1,
           25,
           1,
           8,
           12,
           50,
           4
          ],
          "coloraxis": "coloraxis",
          "pattern": {
           "shape": ""
          }
         },
         "name": "",
         "offsetgroup": "",
         "orientation": "v",
         "showlegend": false,
         "textposition": "auto",
         "type": "bar",
         "x": [
          "2000-09-27 to 2000-09-27",
          "2000-11-27 to 2000-11-28",
          "2000-12-06 to 2000-12-07",
          "2000-12-21 to 2000-12-27",
          "2001-02-27 to 2001-02-27",
          "2001-03-09 to 2001-03-12",
          "2001-04-19 to 2001-04-19",
          "2001-05-03 to 2001-05-07",
          "2001-05-09 to 2001-05-25",
          "2001-08-09 to 2001-08-20",
          "2001-09-14 to 2001-10-08",
          "2001-12-18 to 2001-12-18",
          "2002-01-09 to 2002-01-16",
          "2002-02-01 to 2002-02-15",
          "2002-02-26 to 2002-02-26",
          "2002-03-01 to 2002-03-01",
          "2002-03-22 to 2002-03-25",
          "2002-03-27 to 2002-04-03",
          "2002-04-18 to 2002-04-18",
          "2002-04-24 to 2002-05-07",
          "2002-05-10 to 2002-05-13",
          "2002-05-20 to 2002-06-04",
          "2002-06-06 to 2002-06-07",
          "2002-06-21 to 2002-06-24",
          "2002-07-19 to 2002-07-19",
          "2002-09-05 to 2002-09-09",
          "2002-09-18 to 2002-09-24",
          "2002-09-30 to 2002-09-30",
          "2002-11-08 to 2002-11-08",
          "2002-11-12 to 2002-11-12",
          "2002-12-05 to 2002-12-09",
          "2002-12-12 to 2003-02-07",
          "2003-05-01 to 2003-06-03",
          "2003-06-05 to 2003-06-05",
          "2003-07-23 to 2003-07-29",
          "2003-08-11 to 2003-08-11",
          "2003-08-14 to 2003-08-14",
          "2003-08-20 to 2003-08-20",
          "2003-08-27 to 2003-09-11",
          "2003-09-19 to 2003-09-25",
          "2003-09-30 to 2003-09-30",
          "2003-10-22 to 2003-10-22",
          "2003-10-24 to 2003-10-27",
          "2003-11-12 to 2003-11-14",
          "2003-11-18 to 2003-11-18",
          "2003-11-21 to 2003-11-21",
          "2003-12-01 to 2004-01-14",
          "2004-03-19 to 2004-03-26",
          "2004-03-30 to 2004-04-01",
          "2004-06-24 to 2004-06-28",
          "2004-07-08 to 2004-07-12",
          "2004-08-17 to 2004-08-23",
          "2004-09-23 to 2004-09-23",
          "2004-09-28 to 2004-10-01",
          "2004-10-05 to 2004-10-11",
          "2004-10-20 to 2004-11-01",
          "2004-11-04 to 2004-12-07",
          "2005-02-22 to 2005-02-28",
          "2005-03-07 to 2005-03-16",
          "2005-04-26 to 2005-04-26",
          "2005-06-13 to 2005-06-13",
          "2005-06-16 to 2005-06-27",
          "2005-08-01 to 2005-08-08",
          "2005-08-10 to 2005-08-16",
          "2005-09-02 to 2005-09-12",
          "2005-09-14 to 2005-10-13",
          "2005-10-17 to 2005-10-17",
          "2005-11-16 to 2005-12-13",
          "2005-12-28 to 2006-02-06",
          "2006-03-27 to 2006-05-17",
          "2006-07-06 to 2006-07-07",
          "2006-07-11 to 2006-07-17",
          "2006-08-02 to 2006-08-02",
          "2006-11-01 to 2006-11-07",
          "2006-11-09 to 2006-11-10",
          "2006-11-21 to 2006-12-05",
          "2007-01-23 to 2007-02-01",
          "2007-02-05 to 2007-02-16",
          "2007-02-21 to 2007-02-27",
          "2007-04-04 to 2007-04-05",
          "2007-04-10 to 2007-04-23",
          "2007-07-18 to 2007-07-24",
          "2007-09-04 to 2007-11-12",
          "2007-11-14 to 2007-11-14",
          "2007-11-23 to 2007-11-26",
          "2007-12-26 to 2008-02-04",
          "2008-02-08 to 2008-02-11",
          "2008-02-19 to 2008-03-18",
          "2008-05-21 to 2008-05-21",
          "2008-06-27 to 2008-07-02",
          "2008-07-10 to 2008-07-17",
          "2008-07-21 to 2008-07-21",
          "2008-09-18 to 2008-09-18",
          "2008-09-22 to 2008-09-24",
          "2008-10-08 to 2008-10-08",
          "2008-11-24 to 2008-11-25",
          "2008-11-28 to 2008-11-28",
          "2008-12-11 to 2008-12-11",
          "2008-12-15 to 2008-12-18",
          "2008-12-22 to 2008-12-22",
          "2008-12-24 to 2009-01-02",
          "2009-01-23 to 2009-01-27",
          "2009-01-29 to 2009-02-02",
          "2009-02-05 to 2009-02-06",
          "2009-02-11 to 2009-02-25",
          "2009-05-14 to 2009-05-15",
          "2009-05-20 to 2009-06-04",
          "2009-08-04 to 2009-08-05",
          "2009-09-02 to 2009-09-23",
          "2009-09-30 to 2009-09-30",
          "2009-10-05 to 2009-10-23",
          "2009-11-03 to 2009-12-03",
          "2010-01-11 to 2010-01-11",
          "2010-03-02 to 2010-03-03",
          "2010-04-06 to 2010-04-15",
          "2010-04-27 to 2010-05-03",
          "2010-05-05 to 2010-05-18",
          "2010-06-01 to 2010-06-02",
          "2010-06-07 to 2010-06-08",
          "2010-06-17 to 2010-06-18",
          "2010-06-25 to 2010-06-25",
          "2010-08-16 to 2010-09-09",
          "2010-09-14 to 2010-10-18",
          "2010-10-29 to 2010-10-29",
          "2010-11-04 to 2010-11-11",
          "2010-12-03 to 2010-12-07",
          "2010-12-29 to 2010-12-29",
          "2010-12-31 to 2011-01-03",
          "2011-02-17 to 2011-03-09",
          "2011-03-23 to 2011-03-24",
          "2011-03-31 to 2011-03-31",
          "2011-04-05 to 2011-04-11",
          "2011-04-14 to 2011-05-03",
          "2011-05-25 to 2011-05-25",
          "2011-05-27 to 2011-06-01",
          "2011-06-03 to 2011-06-07",
          "2011-06-09 to 2011-06-09",
          "2011-06-21 to 2011-06-22",
          "2011-07-12 to 2011-08-23",
          "2011-08-30 to 2011-09-06",
          "2011-09-08 to 2011-09-09",
          "2011-11-03 to 2011-11-03",
          "2011-11-07 to 2011-11-09",
          "2011-11-11 to 2011-11-11",
          "2012-01-25 to 2012-02-03",
          "2012-02-07 to 2012-02-07",
          "2012-02-09 to 2012-02-09",
          "2012-02-21 to 2012-02-28",
          "2012-08-21 to 2012-10-08",
          "2013-08-15 to 2013-09-03",
          "2014-02-10 to 2014-03-18",
          "2014-06-19 to 2014-07-11",
          "2014-10-21 to 2014-10-21",
          "2014-12-09 to 2014-12-09",
          "2015-01-12 to 2015-01-28",
          "2015-04-06 to 2015-04-06",
          "2015-05-14 to 2015-05-18",
          "2015-08-20 to 2015-08-24",
          "2015-09-24 to 2015-09-24",
          "2015-10-09 to 2015-10-20",
          "2015-10-28 to 2015-10-28",
          "2016-01-07 to 2016-01-07",
          "2016-01-26 to 2016-01-27",
          "2016-01-29 to 2016-03-11",
          "2016-03-17 to 2016-03-17",
          "2016-04-12 to 2016-04-12",
          "2016-04-29 to 2016-05-03",
          "2016-05-06 to 2016-05-06",
          "2016-06-09 to 2016-06-20",
          "2016-06-24 to 2016-07-11",
          "2016-07-13 to 2016-07-13",
          "2016-07-29 to 2016-08-04",
          "2016-11-02 to 2016-11-04",
          "2017-01-11 to 2017-01-18",
          "2017-01-20 to 2017-01-24",
          "2017-02-02 to 2017-02-10",
          "2017-02-15 to 2017-02-21",
          "2017-02-23 to 2017-03-01",
          "2017-03-21 to 2017-03-29",
          "2017-04-03 to 2017-04-04",
          "2017-04-07 to 2017-04-07",
          "2017-04-11 to 2017-04-21",
          "2017-05-26 to 2017-05-26",
          "2017-05-31 to 2017-05-31",
          "2017-06-02 to 2017-06-07",
          "2017-07-21 to 2017-07-21",
          "2017-07-27 to 2017-08-03",
          "2017-08-09 to 2017-08-14",
          "2017-08-17 to 2017-09-14",
          "2017-12-26 to 2018-01-26",
          "2018-02-01 to 2018-02-01",
          "2018-02-14 to 2018-02-16",
          "2018-03-23 to 2018-03-26",
          "2018-04-11 to 2018-04-11",
          "2018-10-11 to 2018-10-11",
          "2018-10-15 to 2018-10-19",
          "2018-10-23 to 2018-10-23",
          "2018-10-25 to 2018-10-26",
          "2018-11-01 to 2018-11-01",
          "2018-12-04 to 2018-12-04",
          "2018-12-07 to 2018-12-13",
          "2018-12-17 to 2019-01-17",
          "2019-01-25 to 2019-02-08",
          "2019-02-12 to 2019-02-20",
          "2019-02-22 to 2019-02-25",
          "2019-03-25 to 2019-03-25",
          "2019-05-13 to 2019-05-13",
          "2019-05-31 to 2019-07-24",
          "2019-07-26 to 2019-07-31",
          "2019-08-02 to 2019-09-04",
          "2019-09-24 to 2019-09-24",
          "2019-12-24 to 2020-02-03",
          "2020-02-10 to 2020-02-10",
          "2020-02-14 to 2020-02-27",
          "2020-03-05 to 2020-03-10",
          "2020-04-06 to 2020-04-06",
          "2020-04-09 to 2020-04-16",
          "2020-04-23 to 2020-04-23",
          "2020-05-15 to 2020-05-15",
          "2020-06-23 to 2020-06-24",
          "2020-06-26 to 2020-06-30",
          "2020-07-02 to 2020-07-15",
          "2020-07-17 to 2020-08-10",
          "2020-08-17 to 2020-08-18",
          "2020-11-05 to 2020-11-06",
          "2021-01-04 to 2021-01-05",
          "2021-04-16 to 2021-04-16",
          "2021-04-21 to 2021-04-21",
          "2021-05-03 to 2021-05-03",
          "2021-05-06 to 2021-06-02",
          "2021-06-04 to 2021-06-10",
          "2021-07-29 to 2021-07-29",
          "2021-09-03 to 2021-09-03",
          "2021-10-14 to 2021-10-14",
          "2021-10-25 to 2021-10-25",
          "2021-11-08 to 2021-11-18",
          "2021-12-31 to 2021-12-31",
          "2022-01-19 to 2022-01-20",
          "2022-01-25 to 2022-01-25",
          "2022-02-14 to 2022-02-24",
          "2022-02-28 to 2022-03-11",
          "2022-04-13 to 2022-04-13",
          "2022-04-18 to 2022-04-18",
          "2022-08-04 to 2022-08-04",
          "2022-08-09 to 2022-08-10",
          "2022-08-12 to 2022-08-12",
          "2022-11-08 to 2022-11-18",
          "2022-11-23 to 2022-11-25",
          "2022-12-01 to 2022-12-02",
          "2022-12-07 to 2022-12-09",
          "2022-12-13 to 2022-12-14",
          "2022-12-20 to 2022-12-21",
          "2022-12-29 to 2023-02-02",
          "2023-03-13 to 2023-03-24",
          "2023-03-28 to 2023-04-06",
          "2023-04-11 to 2023-04-13",
          "2023-05-03 to 2023-05-04",
          "2023-07-18 to 2023-07-19",
          "2023-09-20 to 2023-09-20",
          "2023-10-13 to 2023-11-06",
          "2023-11-21 to 2023-11-21",
          "2023-11-24 to 2023-12-01",
          "2023-12-22 to 2024-01-02",
          "2024-03-01 to 2024-04-19",
          "2024-04-26 to 2024-04-29"
         ],
         "xaxis": "x",
         "y": [
          1,
          2,
          2,
          7,
          1,
          4,
          1,
          5,
          17,
          12,
          25,
          1,
          8,
          15,
          1,
          1,
          4,
          8,
          1,
          14,
          4,
          16,
          2,
          4,
          1,
          5,
          7,
          1,
          1,
          1,
          5,
          58,
          34,
          1,
          7,
          1,
          1,
          1,
          16,
          7,
          1,
          1,
          4,
          3,
          1,
          1,
          45,
          8,
          3,
          5,
          5,
          7,
          1,
          4,
          7,
          13,
          34,
          7,
          10,
          1,
          1,
          12,
          8,
          7,
          11,
          30,
          1,
          28,
          41,
          52,
          2,
          7,
          1,
          7,
          2,
          15,
          10,
          12,
          7,
          2,
          14,
          7,
          70,
          1,
          4,
          41,
          4,
          29,
          1,
          6,
          8,
          1,
          1,
          3,
          1,
          2,
          1,
          1,
          4,
          1,
          10,
          5,
          5,
          2,
          15,
          2,
          16,
          2,
          22,
          1,
          19,
          31,
          1,
          2,
          10,
          7,
          14,
          2,
          2,
          2,
          1,
          25,
          35,
          1,
          8,
          5,
          1,
          4,
          21,
          2,
          1,
          7,
          20,
          1,
          6,
          5,
          1,
          2,
          43,
          8,
          2,
          1,
          3,
          1,
          10,
          1,
          1,
          8,
          49,
          20,
          37,
          23,
          1,
          1,
          17,
          1,
          5,
          5,
          1,
          12,
          1,
          1,
          2,
          43,
          1,
          1,
          5,
          1,
          12,
          18,
          1,
          7,
          3,
          8,
          5,
          9,
          7,
          7,
          9,
          2,
          1,
          11,
          1,
          1,
          6,
          1,
          8,
          6,
          29,
          32,
          1,
          3,
          4,
          1,
          1,
          5,
          1,
          2,
          1,
          1,
          7,
          32,
          15,
          9,
          4,
          1,
          1,
          55,
          6,
          34,
          1,
          42,
          1,
          14,
          6,
          1,
          8,
          1,
          1,
          2,
          5,
          14,
          25,
          2,
          2,
          2,
          1,
          1,
          1,
          28,
          7,
          1,
          1,
          1,
          1,
          11,
          1,
          2,
          1,
          11,
          12,
          1,
          1,
          1,
          2,
          1,
          11,
          3,
          2,
          3,
          2,
          2,
          36,
          12,
          10,
          3,
          2,
          2,
          1,
          25,
          1,
          8,
          12,
          50,
          4
         ],
         "yaxis": "y"
        }
       ],
       "layout": {
        "annotations": [
         {
          "font": {
           "size": 12
          },
          "showarrow": false,
          "text": "Date Range",
          "x": 0.5,
          "xref": "paper",
          "y": -0.1,
          "yref": "paper"
         }
        ],
        "barmode": "relative",
        "coloraxis": {
         "colorbar": {
          "title": {
           "text": "Duration (Days)"
          }
         },
         "colorscale": [
          [
           0,
           "#0d0887"
          ],
          [
           0.1111111111111111,
           "#46039f"
          ],
          [
           0.2222222222222222,
           "#7201a8"
          ],
          [
           0.3333333333333333,
           "#9c179e"
          ],
          [
           0.4444444444444444,
           "#bd3786"
          ],
          [
           0.5555555555555556,
           "#d8576b"
          ],
          [
           0.6666666666666666,
           "#ed7953"
          ],
          [
           0.7777777777777778,
           "#fb9f3a"
          ],
          [
           0.8888888888888888,
           "#fdca26"
          ],
          [
           1,
           "#f0f921"
          ]
         ]
        },
        "legend": {
         "tracegroupgap": 0
        },
        "margin": {
         "t": 80
        },
        "template": {
         "data": {
          "bar": [
           {
            "error_x": {
             "color": "#f2f5fa"
            },
            "error_y": {
             "color": "#f2f5fa"
            },
            "marker": {
             "line": {
              "color": "rgb(17,17,17)",
              "width": 0.5
             },
             "pattern": {
              "fillmode": "overlay",
              "size": 10,
              "solidity": 0.2
             }
            },
            "type": "bar"
           }
          ],
          "barpolar": [
           {
            "marker": {
             "line": {
              "color": "rgb(17,17,17)",
              "width": 0.5
             },
             "pattern": {
              "fillmode": "overlay",
              "size": 10,
              "solidity": 0.2
             }
            },
            "type": "barpolar"
           }
          ],
          "candlestick": [
           {
            "decreasing": {
             "fillcolor": "#e4003a",
             "line": {
              "color": "#e4003a"
             }
            },
            "increasing": {
             "fillcolor": "#00ACFF",
             "line": {
              "color": "#00ACFF"
             }
            },
            "type": "candlestick"
           }
          ],
          "carpet": [
           {
            "aaxis": {
             "endlinecolor": "#A2B1C6",
             "gridcolor": "#506784",
             "linecolor": "#506784",
             "minorgridcolor": "#506784",
             "startlinecolor": "#A2B1C6"
            },
            "baxis": {
             "endlinecolor": "#A2B1C6",
             "gridcolor": "#506784",
             "linecolor": "#506784",
             "minorgridcolor": "#506784",
             "startlinecolor": "#A2B1C6"
            },
            "type": "carpet"
           }
          ],
          "choropleth": [
           {
            "colorbar": {
             "outlinewidth": 0,
             "ticks": ""
            },
            "type": "choropleth"
           }
          ],
          "contour": [
           {
            "colorbar": {
             "outlinewidth": 0,
             "ticks": ""
            },
            "colorscale": [
             [
              0,
              "#0d0887"
             ],
             [
              0.1111111111111111,
              "#46039f"
             ],
             [
              0.2222222222222222,
              "#7201a8"
             ],
             [
              0.3333333333333333,
              "#9c179e"
             ],
             [
              0.4444444444444444,
              "#bd3786"
             ],
             [
              0.5555555555555556,
              "#d8576b"
             ],
             [
              0.6666666666666666,
              "#ed7953"
             ],
             [
              0.7777777777777778,
              "#fb9f3a"
             ],
             [
              0.8888888888888888,
              "#fdca26"
             ],
             [
              1,
              "#f0f921"
             ]
            ],
            "type": "contour"
           }
          ],
          "contourcarpet": [
           {
            "colorbar": {
             "outlinewidth": 0,
             "ticks": ""
            },
            "type": "contourcarpet"
           }
          ],
          "heatmap": [
           {
            "colorbar": {
             "outlinewidth": 0,
             "ticks": ""
            },
            "colorscale": [
             [
              0,
              "#0d0887"
             ],
             [
              0.1111111111111111,
              "#46039f"
             ],
             [
              0.2222222222222222,
              "#7201a8"
             ],
             [
              0.3333333333333333,
              "#9c179e"
             ],
             [
              0.4444444444444444,
              "#bd3786"
             ],
             [
              0.5555555555555556,
              "#d8576b"
             ],
             [
              0.6666666666666666,
              "#ed7953"
             ],
             [
              0.7777777777777778,
              "#fb9f3a"
             ],
             [
              0.8888888888888888,
              "#fdca26"
             ],
             [
              1,
              "#f0f921"
             ]
            ],
            "type": "heatmap"
           }
          ],
          "heatmapgl": [
           {
            "colorbar": {
             "outlinewidth": 0,
             "ticks": ""
            },
            "colorscale": [
             [
              0,
              "#0d0887"
             ],
             [
              0.1111111111111111,
              "#46039f"
             ],
             [
              0.2222222222222222,
              "#7201a8"
             ],
             [
              0.3333333333333333,
              "#9c179e"
             ],
             [
              0.4444444444444444,
              "#bd3786"
             ],
             [
              0.5555555555555556,
              "#d8576b"
             ],
             [
              0.6666666666666666,
              "#ed7953"
             ],
             [
              0.7777777777777778,
              "#fb9f3a"
             ],
             [
              0.8888888888888888,
              "#fdca26"
             ],
             [
              1,
              "#f0f921"
             ]
            ],
            "type": "heatmapgl"
           }
          ],
          "histogram": [
           {
            "marker": {
             "pattern": {
              "fillmode": "overlay",
              "size": 10,
              "solidity": 0.2
             }
            },
            "type": "histogram"
           }
          ],
          "histogram2d": [
           {
            "colorbar": {
             "outlinewidth": 0,
             "ticks": ""
            },
            "colorscale": [
             [
              0,
              "#0d0887"
             ],
             [
              0.1111111111111111,
              "#46039f"
             ],
             [
              0.2222222222222222,
              "#7201a8"
             ],
             [
              0.3333333333333333,
              "#9c179e"
             ],
             [
              0.4444444444444444,
              "#bd3786"
             ],
             [
              0.5555555555555556,
              "#d8576b"
             ],
             [
              0.6666666666666666,
              "#ed7953"
             ],
             [
              0.7777777777777778,
              "#fb9f3a"
             ],
             [
              0.8888888888888888,
              "#fdca26"
             ],
             [
              1,
              "#f0f921"
             ]
            ],
            "type": "histogram2d"
           }
          ],
          "histogram2dcontour": [
           {
            "colorbar": {
             "outlinewidth": 0,
             "ticks": ""
            },
            "colorscale": [
             [
              0,
              "#0d0887"
             ],
             [
              0.1111111111111111,
              "#46039f"
             ],
             [
              0.2222222222222222,
              "#7201a8"
             ],
             [
              0.3333333333333333,
              "#9c179e"
             ],
             [
              0.4444444444444444,
              "#bd3786"
             ],
             [
              0.5555555555555556,
              "#d8576b"
             ],
             [
              0.6666666666666666,
              "#ed7953"
             ],
             [
              0.7777777777777778,
              "#fb9f3a"
             ],
             [
              0.8888888888888888,
              "#fdca26"
             ],
             [
              1,
              "#f0f921"
             ]
            ],
            "type": "histogram2dcontour"
           }
          ],
          "mesh3d": [
           {
            "colorbar": {
             "outlinewidth": 0,
             "ticks": ""
            },
            "type": "mesh3d"
           }
          ],
          "parcoords": [
           {
            "line": {
             "colorbar": {
              "outlinewidth": 0,
              "ticks": ""
             }
            },
            "type": "parcoords"
           }
          ],
          "pie": [
           {
            "automargin": true,
            "type": "pie"
           }
          ],
          "scatter": [
           {
            "marker": {
             "line": {
              "color": "#283442"
             }
            },
            "type": "scatter"
           }
          ],
          "scatter3d": [
           {
            "line": {
             "colorbar": {
              "outlinewidth": 0,
              "ticks": ""
             }
            },
            "marker": {
             "colorbar": {
              "outlinewidth": 0,
              "ticks": ""
             }
            },
            "type": "scatter3d"
           }
          ],
          "scattercarpet": [
           {
            "marker": {
             "colorbar": {
              "outlinewidth": 0,
              "ticks": ""
             }
            },
            "type": "scattercarpet"
           }
          ],
          "scattergeo": [
           {
            "marker": {
             "colorbar": {
              "outlinewidth": 0,
              "ticks": ""
             }
            },
            "type": "scattergeo"
           }
          ],
          "scattergl": [
           {
            "marker": {
             "line": {
              "color": "#283442"
             }
            },
            "type": "scattergl"
           }
          ],
          "scattermapbox": [
           {
            "marker": {
             "colorbar": {
              "outlinewidth": 0,
              "ticks": ""
             }
            },
            "type": "scattermapbox"
           }
          ],
          "scatterpolar": [
           {
            "marker": {
             "colorbar": {
              "outlinewidth": 0,
              "ticks": ""
             }
            },
            "type": "scatterpolar"
           }
          ],
          "scatterpolargl": [
           {
            "marker": {
             "colorbar": {
              "outlinewidth": 0,
              "ticks": ""
             }
            },
            "type": "scatterpolargl"
           }
          ],
          "scatterternary": [
           {
            "marker": {
             "colorbar": {
              "outlinewidth": 0,
              "ticks": ""
             }
            },
            "type": "scatterternary"
           }
          ],
          "surface": [
           {
            "colorbar": {
             "outlinewidth": 0,
             "ticks": ""
            },
            "colorscale": [
             [
              0,
              "#0d0887"
             ],
             [
              0.1111111111111111,
              "#46039f"
             ],
             [
              0.2222222222222222,
              "#7201a8"
             ],
             [
              0.3333333333333333,
              "#9c179e"
             ],
             [
              0.4444444444444444,
              "#bd3786"
             ],
             [
              0.5555555555555556,
              "#d8576b"
             ],
             [
              0.6666666666666666,
              "#ed7953"
             ],
             [
              0.7777777777777778,
              "#fb9f3a"
             ],
             [
              0.8888888888888888,
              "#fdca26"
             ],
             [
              1,
              "#f0f921"
             ]
            ],
            "type": "surface"
           }
          ],
          "table": [
           {
            "cells": {
             "fill": {
              "color": "#506784"
             },
             "line": {
              "color": "rgb(17,17,17)"
             }
            },
            "header": {
             "fill": {
              "color": "#2a3f5f"
             },
             "line": {
              "color": "rgb(17,17,17)"
             }
            },
            "type": "table"
           }
          ]
         },
         "layout": {
          "annotationdefaults": {
           "arrowcolor": "#f2f5fa",
           "arrowhead": 0,
           "arrowwidth": 1,
           "showarrow": false
          },
          "autotypenumbers": "strict",
          "coloraxis": {
           "colorbar": {
            "outlinewidth": 0,
            "ticks": ""
           }
          },
          "colorscale": {
           "diverging": [
            [
             0,
             "#8e0152"
            ],
            [
             0.1,
             "#c51b7d"
            ],
            [
             0.2,
             "#de77ae"
            ],
            [
             0.3,
             "#f1b6da"
            ],
            [
             0.4,
             "#fde0ef"
            ],
            [
             0.5,
             "#f7f7f7"
            ],
            [
             0.6,
             "#e6f5d0"
            ],
            [
             0.7,
             "#b8e186"
            ],
            [
             0.8,
             "#7fbc41"
            ],
            [
             0.9,
             "#4d9221"
            ],
            [
             1,
             "#276419"
            ]
           ],
           "sequential": [
            [
             0,
             "#0d0887"
            ],
            [
             0.1111111111111111,
             "#46039f"
            ],
            [
             0.2222222222222222,
             "#7201a8"
            ],
            [
             0.3333333333333333,
             "#9c179e"
            ],
            [
             0.4444444444444444,
             "#bd3786"
            ],
            [
             0.5555555555555556,
             "#d8576b"
            ],
            [
             0.6666666666666666,
             "#ed7953"
            ],
            [
             0.7777777777777778,
             "#fb9f3a"
            ],
            [
             0.8888888888888888,
             "#fdca26"
            ],
            [
             1,
             "#f0f921"
            ]
           ],
           "sequentialminus": [
            [
             0,
             "#0d0887"
            ],
            [
             0.1111111111111111,
             "#46039f"
            ],
            [
             0.2222222222222222,
             "#7201a8"
            ],
            [
             0.3333333333333333,
             "#9c179e"
            ],
            [
             0.4444444444444444,
             "#bd3786"
            ],
            [
             0.5555555555555556,
             "#d8576b"
            ],
            [
             0.6666666666666666,
             "#ed7953"
            ],
            [
             0.7777777777777778,
             "#fb9f3a"
            ],
            [
             0.8888888888888888,
             "#fdca26"
            ],
            [
             1,
             "#f0f921"
            ]
           ]
          },
          "colorway": [
           "#ffed00",
           "#ef7d00",
           "#e4003a",
           "#c13246",
           "#822661",
           "#48277c",
           "#005ca9",
           "#00aaff",
           "#9b30d9",
           "#af005f",
           "#5f00af",
           "#af87ff"
          ],
          "dragmode": "pan",
          "font": {
           "color": "#f2f5fa",
           "family": "Fira Code",
           "size": 18
          },
          "geo": {
           "bgcolor": "rgb(17,17,17)",
           "lakecolor": "rgb(17,17,17)",
           "landcolor": "rgb(17,17,17)",
           "showlakes": true,
           "showland": true,
           "subunitcolor": "#506784"
          },
          "hoverlabel": {
           "align": "left"
          },
          "hovermode": "x",
          "legend": {
           "bgcolor": "rgba(0, 0, 0, 0.5)",
           "font": {
            "size": 15
           },
           "x": 0.01,
           "xanchor": "left",
           "y": 0.99,
           "yanchor": "top"
          },
          "legend2": {
           "bgcolor": "rgba(0, 0, 0, 0.5)",
           "font": {
            "size": 15
           }
          },
          "legend3": {
           "bgcolor": "rgba(0, 0, 0, 0.5)",
           "font": {
            "size": 15
           }
          },
          "legend4": {
           "bgcolor": "rgba(0, 0, 0, 0.5)",
           "font": {
            "size": 15
           }
          },
          "legend5": {
           "bgcolor": "rgba(0, 0, 0, 0.5)",
           "font": {
            "size": 15
           }
          },
          "mapbox": {
           "style": "dark"
          },
          "paper_bgcolor": "#000000",
          "plot_bgcolor": "#000000",
          "polar": {
           "angularaxis": {
            "gridcolor": "#506784",
            "linecolor": "#506784",
            "ticks": ""
           },
           "bgcolor": "rgb(17,17,17)",
           "radialaxis": {
            "gridcolor": "#506784",
            "linecolor": "#506784",
            "ticks": ""
           }
          },
          "scene": {
           "xaxis": {
            "backgroundcolor": "rgb(17,17,17)",
            "gridcolor": "#506784",
            "gridwidth": 2,
            "linecolor": "#506784",
            "showbackground": true,
            "ticks": "",
            "zerolinecolor": "#C8D4E3"
           },
           "yaxis": {
            "backgroundcolor": "rgb(17,17,17)",
            "gridcolor": "#506784",
            "gridwidth": 2,
            "linecolor": "#506784",
            "showbackground": true,
            "ticks": "",
            "zerolinecolor": "#C8D4E3"
           },
           "zaxis": {
            "backgroundcolor": "rgb(17,17,17)",
            "gridcolor": "#506784",
            "gridwidth": 2,
            "linecolor": "#506784",
            "showbackground": true,
            "ticks": "",
            "zerolinecolor": "#C8D4E3"
           }
          },
          "shapedefaults": {
           "line": {
            "color": "#f2f5fa"
           }
          },
          "sliderdefaults": {
           "bgcolor": "#C8D4E3",
           "bordercolor": "rgb(17,17,17)",
           "borderwidth": 1,
           "tickwidth": 0
          },
          "ternary": {
           "aaxis": {
            "gridcolor": "#506784",
            "linecolor": "#506784",
            "ticks": ""
           },
           "baxis": {
            "gridcolor": "#506784",
            "linecolor": "#506784",
            "ticks": ""
           },
           "bgcolor": "rgb(17,17,17)",
           "caxis": {
            "gridcolor": "#506784",
            "linecolor": "#506784",
            "ticks": ""
           }
          },
          "title": {
           "x": 0.05
          },
          "updatemenudefaults": {
           "bgcolor": "#506784",
           "borderwidth": 0
          },
          "xaxis": {
           "automargin": true,
           "autorange": true,
           "gridcolor": "#283442",
           "linecolor": "#F5EFF3",
           "mirror": true,
           "rangeslider": {
            "visible": false
           },
           "showgrid": true,
           "showline": true,
           "tick0": 1,
           "tickfont": {
            "size": 14
           },
           "ticks": "outside",
           "title": {
            "standoff": 20
           },
           "zeroline": false,
           "zerolinecolor": "#283442",
           "zerolinewidth": 2
          },
          "yaxis": {
           "anchor": "x",
           "automargin": true,
           "fixedrange": false,
           "gridcolor": "#283442",
           "linecolor": "#F5EFF3",
           "mirror": true,
           "showgrid": true,
           "showline": true,
           "side": "right",
           "tick0": 0.5,
           "ticks": "outside",
           "title": {
            "standoff": 20
           },
           "zeroline": false,
           "zerolinecolor": "#283442",
           "zerolinewidth": 2
          }
         }
        },
        "title": {
         "text": "Duration of Value Above Threshold by Date Range"
        },
        "xaxis": {
         "anchor": "y",
         "domain": [
          0,
          1
         ],
         "showticklabels": false,
         "tickmode": "array",
         "tickvals": [],
         "title": {
          "text": ""
         }
        },
        "yaxis": {
         "anchor": "x",
         "domain": [
          0,
          1
         ],
         "title": {
          "text": ""
         }
        }
       }
      }
     },
     "metadata": {},
     "output_type": "display_data"
    }
   ],
   "source": [
    "\n",
    "# Create a new column for x-axis labels showing min and max date\n",
    "durations['label'] = durations.apply(lambda x: f\"{x['min'].strftime('%Y-%m-%d')} to {x['max'].strftime('%Y-%m-%d')}\", axis=1)\n",
    "\n",
    "\n",
    "# Plot with Plotly\n",
    "fig = px.bar(\n",
    "    durations,\n",
    "    x='label',\n",
    "    y='duration_days',\n",
    "    labels={'label': 'Date Range', 'duration_days': 'Duration (Days)'},\n",
    "    color='duration_days'\n",
    ")\n",
    "\n",
    "# Customize layout\n",
    "fig.update_layout(\n",
    "    title='Duration of Value Above Threshold by Date Range',\n",
    "    xaxis_title='',  # No x-axis title (to place it below the chart)\n",
    "    yaxis_title='',  # Remove y-axis label\n",
    "    xaxis=dict(\n",
    "        tickmode='array',\n",
    "        tickvals=[],\n",
    "        showticklabels=False  # Hide x-axis tick labels\n",
    "    ),\n",
    "    yaxis=dict(\n",
    "        title=''  # Remove y-axis label\n",
    "    ),\n",
    "    # Place x-axis label below the chart\n",
    "    margin=dict(t=80),  # Increase top margin to make space for x-axis label\n",
    "    annotations=[\n",
    "        dict(\n",
    "            xref='paper',\n",
    "            yref='paper',\n",
    "            x=0.5,\n",
    "            y=-0.1,  # Adjust this value to position the x-axis label below the chart\n",
    "            text='Date Range',  # X-axis label\n",
    "            showarrow=False,\n",
    "            font=dict(size=12)  # Adjust font size if needed\n",
    "        )\n",
    "    ]\n",
    ")\n",
    "\n",
    "# Show the plot\n",
    "fig.show()\n",
    "\n"
   ]
  },
  {
   "cell_type": "code",
   "execution_count": 34,
   "metadata": {},
   "outputs": [
    {
     "data": {
      "application/vnd.plotly.v1+json": {
       "config": {
        "plotlyServerURL": "https://plot.ly"
       },
       "data": [
        {
         "alignmentgroup": "True",
         "hovertemplate": "Date Range=%{x}<br>Duration (Days)=%{marker.color}<extra></extra>",
         "legendgroup": "",
         "marker": {
          "color": [
           1,
           2,
           2,
           7,
           1,
           4,
           1,
           5,
           17,
           12,
           25,
           1,
           8,
           15,
           1,
           1,
           4,
           8,
           1,
           14,
           4,
           16,
           2,
           4,
           1,
           5,
           7,
           1,
           1,
           1,
           5,
           58,
           34,
           1,
           7,
           1,
           1,
           1,
           16,
           7,
           1,
           1,
           4,
           3,
           1,
           1,
           45,
           8,
           3,
           5,
           5,
           7,
           1,
           4,
           7,
           13,
           34,
           7,
           10,
           1,
           1,
           12,
           8,
           7,
           11,
           30,
           1,
           28,
           41,
           52,
           2,
           7,
           1,
           7,
           2,
           15,
           10,
           12,
           7,
           2,
           14,
           7,
           70,
           1,
           4,
           41,
           4,
           29,
           1,
           6,
           8,
           1,
           1,
           3,
           1,
           2,
           1,
           1,
           4,
           1,
           10,
           5,
           5,
           2,
           15,
           2,
           16,
           2,
           22,
           1,
           19,
           31,
           1,
           2,
           10,
           7,
           14,
           2,
           2,
           2,
           1,
           25,
           35,
           1,
           8,
           5,
           1,
           4,
           21,
           2,
           1,
           7,
           20,
           1,
           6,
           5,
           1,
           2,
           43,
           8,
           2,
           1,
           3,
           1,
           10,
           1,
           1,
           8,
           49,
           20,
           37,
           23,
           1,
           1,
           17,
           1,
           5,
           5,
           1,
           12,
           1,
           1,
           2,
           43,
           1,
           1,
           5,
           1,
           12,
           18,
           1,
           7,
           3,
           8,
           5,
           9,
           7,
           7,
           9,
           2,
           1,
           11,
           1,
           1,
           6,
           1,
           8,
           6,
           29,
           32,
           1,
           3,
           4,
           1,
           1,
           5,
           1,
           2,
           1,
           1,
           7,
           32,
           15,
           9,
           4,
           1,
           1,
           55,
           6,
           34,
           1,
           42,
           1,
           14,
           6,
           1,
           8,
           1,
           1,
           2,
           5,
           14,
           25,
           2,
           2,
           2,
           1,
           1,
           1,
           28,
           7,
           1,
           1,
           1,
           1,
           11,
           1,
           2,
           1,
           11,
           12,
           1,
           1,
           1,
           2,
           1,
           11,
           3,
           2,
           3,
           2,
           2,
           36,
           12,
           10,
           3,
           2,
           2,
           1,
           25,
           1,
           8,
           12,
           50,
           4
          ],
          "coloraxis": "coloraxis",
          "pattern": {
           "shape": ""
          }
         },
         "name": "",
         "offsetgroup": "",
         "orientation": "v",
         "showlegend": false,
         "textposition": "auto",
         "type": "bar",
         "x": [
          "2000-09-27 to 2000-09-27",
          "2000-11-27 to 2000-11-28",
          "2000-12-06 to 2000-12-07",
          "2000-12-21 to 2000-12-27",
          "2001-02-27 to 2001-02-27",
          "2001-03-09 to 2001-03-12",
          "2001-04-19 to 2001-04-19",
          "2001-05-03 to 2001-05-07",
          "2001-05-09 to 2001-05-25",
          "2001-08-09 to 2001-08-20",
          "2001-09-14 to 2001-10-08",
          "2001-12-18 to 2001-12-18",
          "2002-01-09 to 2002-01-16",
          "2002-02-01 to 2002-02-15",
          "2002-02-26 to 2002-02-26",
          "2002-03-01 to 2002-03-01",
          "2002-03-22 to 2002-03-25",
          "2002-03-27 to 2002-04-03",
          "2002-04-18 to 2002-04-18",
          "2002-04-24 to 2002-05-07",
          "2002-05-10 to 2002-05-13",
          "2002-05-20 to 2002-06-04",
          "2002-06-06 to 2002-06-07",
          "2002-06-21 to 2002-06-24",
          "2002-07-19 to 2002-07-19",
          "2002-09-05 to 2002-09-09",
          "2002-09-18 to 2002-09-24",
          "2002-09-30 to 2002-09-30",
          "2002-11-08 to 2002-11-08",
          "2002-11-12 to 2002-11-12",
          "2002-12-05 to 2002-12-09",
          "2002-12-12 to 2003-02-07",
          "2003-05-01 to 2003-06-03",
          "2003-06-05 to 2003-06-05",
          "2003-07-23 to 2003-07-29",
          "2003-08-11 to 2003-08-11",
          "2003-08-14 to 2003-08-14",
          "2003-08-20 to 2003-08-20",
          "2003-08-27 to 2003-09-11",
          "2003-09-19 to 2003-09-25",
          "2003-09-30 to 2003-09-30",
          "2003-10-22 to 2003-10-22",
          "2003-10-24 to 2003-10-27",
          "2003-11-12 to 2003-11-14",
          "2003-11-18 to 2003-11-18",
          "2003-11-21 to 2003-11-21",
          "2003-12-01 to 2004-01-14",
          "2004-03-19 to 2004-03-26",
          "2004-03-30 to 2004-04-01",
          "2004-06-24 to 2004-06-28",
          "2004-07-08 to 2004-07-12",
          "2004-08-17 to 2004-08-23",
          "2004-09-23 to 2004-09-23",
          "2004-09-28 to 2004-10-01",
          "2004-10-05 to 2004-10-11",
          "2004-10-20 to 2004-11-01",
          "2004-11-04 to 2004-12-07",
          "2005-02-22 to 2005-02-28",
          "2005-03-07 to 2005-03-16",
          "2005-04-26 to 2005-04-26",
          "2005-06-13 to 2005-06-13",
          "2005-06-16 to 2005-06-27",
          "2005-08-01 to 2005-08-08",
          "2005-08-10 to 2005-08-16",
          "2005-09-02 to 2005-09-12",
          "2005-09-14 to 2005-10-13",
          "2005-10-17 to 2005-10-17",
          "2005-11-16 to 2005-12-13",
          "2005-12-28 to 2006-02-06",
          "2006-03-27 to 2006-05-17",
          "2006-07-06 to 2006-07-07",
          "2006-07-11 to 2006-07-17",
          "2006-08-02 to 2006-08-02",
          "2006-11-01 to 2006-11-07",
          "2006-11-09 to 2006-11-10",
          "2006-11-21 to 2006-12-05",
          "2007-01-23 to 2007-02-01",
          "2007-02-05 to 2007-02-16",
          "2007-02-21 to 2007-02-27",
          "2007-04-04 to 2007-04-05",
          "2007-04-10 to 2007-04-23",
          "2007-07-18 to 2007-07-24",
          "2007-09-04 to 2007-11-12",
          "2007-11-14 to 2007-11-14",
          "2007-11-23 to 2007-11-26",
          "2007-12-26 to 2008-02-04",
          "2008-02-08 to 2008-02-11",
          "2008-02-19 to 2008-03-18",
          "2008-05-21 to 2008-05-21",
          "2008-06-27 to 2008-07-02",
          "2008-07-10 to 2008-07-17",
          "2008-07-21 to 2008-07-21",
          "2008-09-18 to 2008-09-18",
          "2008-09-22 to 2008-09-24",
          "2008-10-08 to 2008-10-08",
          "2008-11-24 to 2008-11-25",
          "2008-11-28 to 2008-11-28",
          "2008-12-11 to 2008-12-11",
          "2008-12-15 to 2008-12-18",
          "2008-12-22 to 2008-12-22",
          "2008-12-24 to 2009-01-02",
          "2009-01-23 to 2009-01-27",
          "2009-01-29 to 2009-02-02",
          "2009-02-05 to 2009-02-06",
          "2009-02-11 to 2009-02-25",
          "2009-05-14 to 2009-05-15",
          "2009-05-20 to 2009-06-04",
          "2009-08-04 to 2009-08-05",
          "2009-09-02 to 2009-09-23",
          "2009-09-30 to 2009-09-30",
          "2009-10-05 to 2009-10-23",
          "2009-11-03 to 2009-12-03",
          "2010-01-11 to 2010-01-11",
          "2010-03-02 to 2010-03-03",
          "2010-04-06 to 2010-04-15",
          "2010-04-27 to 2010-05-03",
          "2010-05-05 to 2010-05-18",
          "2010-06-01 to 2010-06-02",
          "2010-06-07 to 2010-06-08",
          "2010-06-17 to 2010-06-18",
          "2010-06-25 to 2010-06-25",
          "2010-08-16 to 2010-09-09",
          "2010-09-14 to 2010-10-18",
          "2010-10-29 to 2010-10-29",
          "2010-11-04 to 2010-11-11",
          "2010-12-03 to 2010-12-07",
          "2010-12-29 to 2010-12-29",
          "2010-12-31 to 2011-01-03",
          "2011-02-17 to 2011-03-09",
          "2011-03-23 to 2011-03-24",
          "2011-03-31 to 2011-03-31",
          "2011-04-05 to 2011-04-11",
          "2011-04-14 to 2011-05-03",
          "2011-05-25 to 2011-05-25",
          "2011-05-27 to 2011-06-01",
          "2011-06-03 to 2011-06-07",
          "2011-06-09 to 2011-06-09",
          "2011-06-21 to 2011-06-22",
          "2011-07-12 to 2011-08-23",
          "2011-08-30 to 2011-09-06",
          "2011-09-08 to 2011-09-09",
          "2011-11-03 to 2011-11-03",
          "2011-11-07 to 2011-11-09",
          "2011-11-11 to 2011-11-11",
          "2012-01-25 to 2012-02-03",
          "2012-02-07 to 2012-02-07",
          "2012-02-09 to 2012-02-09",
          "2012-02-21 to 2012-02-28",
          "2012-08-21 to 2012-10-08",
          "2013-08-15 to 2013-09-03",
          "2014-02-10 to 2014-03-18",
          "2014-06-19 to 2014-07-11",
          "2014-10-21 to 2014-10-21",
          "2014-12-09 to 2014-12-09",
          "2015-01-12 to 2015-01-28",
          "2015-04-06 to 2015-04-06",
          "2015-05-14 to 2015-05-18",
          "2015-08-20 to 2015-08-24",
          "2015-09-24 to 2015-09-24",
          "2015-10-09 to 2015-10-20",
          "2015-10-28 to 2015-10-28",
          "2016-01-07 to 2016-01-07",
          "2016-01-26 to 2016-01-27",
          "2016-01-29 to 2016-03-11",
          "2016-03-17 to 2016-03-17",
          "2016-04-12 to 2016-04-12",
          "2016-04-29 to 2016-05-03",
          "2016-05-06 to 2016-05-06",
          "2016-06-09 to 2016-06-20",
          "2016-06-24 to 2016-07-11",
          "2016-07-13 to 2016-07-13",
          "2016-07-29 to 2016-08-04",
          "2016-11-02 to 2016-11-04",
          "2017-01-11 to 2017-01-18",
          "2017-01-20 to 2017-01-24",
          "2017-02-02 to 2017-02-10",
          "2017-02-15 to 2017-02-21",
          "2017-02-23 to 2017-03-01",
          "2017-03-21 to 2017-03-29",
          "2017-04-03 to 2017-04-04",
          "2017-04-07 to 2017-04-07",
          "2017-04-11 to 2017-04-21",
          "2017-05-26 to 2017-05-26",
          "2017-05-31 to 2017-05-31",
          "2017-06-02 to 2017-06-07",
          "2017-07-21 to 2017-07-21",
          "2017-07-27 to 2017-08-03",
          "2017-08-09 to 2017-08-14",
          "2017-08-17 to 2017-09-14",
          "2017-12-26 to 2018-01-26",
          "2018-02-01 to 2018-02-01",
          "2018-02-14 to 2018-02-16",
          "2018-03-23 to 2018-03-26",
          "2018-04-11 to 2018-04-11",
          "2018-10-11 to 2018-10-11",
          "2018-10-15 to 2018-10-19",
          "2018-10-23 to 2018-10-23",
          "2018-10-25 to 2018-10-26",
          "2018-11-01 to 2018-11-01",
          "2018-12-04 to 2018-12-04",
          "2018-12-07 to 2018-12-13",
          "2018-12-17 to 2019-01-17",
          "2019-01-25 to 2019-02-08",
          "2019-02-12 to 2019-02-20",
          "2019-02-22 to 2019-02-25",
          "2019-03-25 to 2019-03-25",
          "2019-05-13 to 2019-05-13",
          "2019-05-31 to 2019-07-24",
          "2019-07-26 to 2019-07-31",
          "2019-08-02 to 2019-09-04",
          "2019-09-24 to 2019-09-24",
          "2019-12-24 to 2020-02-03",
          "2020-02-10 to 2020-02-10",
          "2020-02-14 to 2020-02-27",
          "2020-03-05 to 2020-03-10",
          "2020-04-06 to 2020-04-06",
          "2020-04-09 to 2020-04-16",
          "2020-04-23 to 2020-04-23",
          "2020-05-15 to 2020-05-15",
          "2020-06-23 to 2020-06-24",
          "2020-06-26 to 2020-06-30",
          "2020-07-02 to 2020-07-15",
          "2020-07-17 to 2020-08-10",
          "2020-08-17 to 2020-08-18",
          "2020-11-05 to 2020-11-06",
          "2021-01-04 to 2021-01-05",
          "2021-04-16 to 2021-04-16",
          "2021-04-21 to 2021-04-21",
          "2021-05-03 to 2021-05-03",
          "2021-05-06 to 2021-06-02",
          "2021-06-04 to 2021-06-10",
          "2021-07-29 to 2021-07-29",
          "2021-09-03 to 2021-09-03",
          "2021-10-14 to 2021-10-14",
          "2021-10-25 to 2021-10-25",
          "2021-11-08 to 2021-11-18",
          "2021-12-31 to 2021-12-31",
          "2022-01-19 to 2022-01-20",
          "2022-01-25 to 2022-01-25",
          "2022-02-14 to 2022-02-24",
          "2022-02-28 to 2022-03-11",
          "2022-04-13 to 2022-04-13",
          "2022-04-18 to 2022-04-18",
          "2022-08-04 to 2022-08-04",
          "2022-08-09 to 2022-08-10",
          "2022-08-12 to 2022-08-12",
          "2022-11-08 to 2022-11-18",
          "2022-11-23 to 2022-11-25",
          "2022-12-01 to 2022-12-02",
          "2022-12-07 to 2022-12-09",
          "2022-12-13 to 2022-12-14",
          "2022-12-20 to 2022-12-21",
          "2022-12-29 to 2023-02-02",
          "2023-03-13 to 2023-03-24",
          "2023-03-28 to 2023-04-06",
          "2023-04-11 to 2023-04-13",
          "2023-05-03 to 2023-05-04",
          "2023-07-18 to 2023-07-19",
          "2023-09-20 to 2023-09-20",
          "2023-10-13 to 2023-11-06",
          "2023-11-21 to 2023-11-21",
          "2023-11-24 to 2023-12-01",
          "2023-12-22 to 2024-01-02",
          "2024-03-01 to 2024-04-19",
          "2024-04-26 to 2024-04-29"
         ],
         "xaxis": "x",
         "y": [
          1,
          2,
          2,
          7,
          1,
          4,
          1,
          5,
          17,
          12,
          25,
          1,
          8,
          15,
          1,
          1,
          4,
          8,
          1,
          14,
          4,
          16,
          2,
          4,
          1,
          5,
          7,
          1,
          1,
          1,
          5,
          58,
          34,
          1,
          7,
          1,
          1,
          1,
          16,
          7,
          1,
          1,
          4,
          3,
          1,
          1,
          45,
          8,
          3,
          5,
          5,
          7,
          1,
          4,
          7,
          13,
          34,
          7,
          10,
          1,
          1,
          12,
          8,
          7,
          11,
          30,
          1,
          28,
          41,
          52,
          2,
          7,
          1,
          7,
          2,
          15,
          10,
          12,
          7,
          2,
          14,
          7,
          70,
          1,
          4,
          41,
          4,
          29,
          1,
          6,
          8,
          1,
          1,
          3,
          1,
          2,
          1,
          1,
          4,
          1,
          10,
          5,
          5,
          2,
          15,
          2,
          16,
          2,
          22,
          1,
          19,
          31,
          1,
          2,
          10,
          7,
          14,
          2,
          2,
          2,
          1,
          25,
          35,
          1,
          8,
          5,
          1,
          4,
          21,
          2,
          1,
          7,
          20,
          1,
          6,
          5,
          1,
          2,
          43,
          8,
          2,
          1,
          3,
          1,
          10,
          1,
          1,
          8,
          49,
          20,
          37,
          23,
          1,
          1,
          17,
          1,
          5,
          5,
          1,
          12,
          1,
          1,
          2,
          43,
          1,
          1,
          5,
          1,
          12,
          18,
          1,
          7,
          3,
          8,
          5,
          9,
          7,
          7,
          9,
          2,
          1,
          11,
          1,
          1,
          6,
          1,
          8,
          6,
          29,
          32,
          1,
          3,
          4,
          1,
          1,
          5,
          1,
          2,
          1,
          1,
          7,
          32,
          15,
          9,
          4,
          1,
          1,
          55,
          6,
          34,
          1,
          42,
          1,
          14,
          6,
          1,
          8,
          1,
          1,
          2,
          5,
          14,
          25,
          2,
          2,
          2,
          1,
          1,
          1,
          28,
          7,
          1,
          1,
          1,
          1,
          11,
          1,
          2,
          1,
          11,
          12,
          1,
          1,
          1,
          2,
          1,
          11,
          3,
          2,
          3,
          2,
          2,
          36,
          12,
          10,
          3,
          2,
          2,
          1,
          25,
          1,
          8,
          12,
          50,
          4
         ],
         "yaxis": "y"
        }
       ],
       "layout": {
        "annotations": [
         {
          "font": {
           "size": 12
          },
          "showarrow": false,
          "text": "Date Range",
          "x": 0.5,
          "xref": "paper",
          "y": -0.1,
          "yref": "paper"
         }
        ],
        "barmode": "relative",
        "coloraxis": {
         "colorbar": {
          "title": {
           "text": "Duration (Days)"
          }
         },
         "colorscale": [
          [
           0,
           "#0d0887"
          ],
          [
           0.1111111111111111,
           "#46039f"
          ],
          [
           0.2222222222222222,
           "#7201a8"
          ],
          [
           0.3333333333333333,
           "#9c179e"
          ],
          [
           0.4444444444444444,
           "#bd3786"
          ],
          [
           0.5555555555555556,
           "#d8576b"
          ],
          [
           0.6666666666666666,
           "#ed7953"
          ],
          [
           0.7777777777777778,
           "#fb9f3a"
          ],
          [
           0.8888888888888888,
           "#fdca26"
          ],
          [
           1,
           "#f0f921"
          ]
         ]
        },
        "legend": {
         "tracegroupgap": 0
        },
        "margin": {
         "t": 80
        },
        "template": {
         "data": {
          "bar": [
           {
            "error_x": {
             "color": "#f2f5fa"
            },
            "error_y": {
             "color": "#f2f5fa"
            },
            "marker": {
             "line": {
              "color": "rgb(17,17,17)",
              "width": 0.5
             },
             "pattern": {
              "fillmode": "overlay",
              "size": 10,
              "solidity": 0.2
             }
            },
            "type": "bar"
           }
          ],
          "barpolar": [
           {
            "marker": {
             "line": {
              "color": "rgb(17,17,17)",
              "width": 0.5
             },
             "pattern": {
              "fillmode": "overlay",
              "size": 10,
              "solidity": 0.2
             }
            },
            "type": "barpolar"
           }
          ],
          "candlestick": [
           {
            "decreasing": {
             "fillcolor": "#e4003a",
             "line": {
              "color": "#e4003a"
             }
            },
            "increasing": {
             "fillcolor": "#00ACFF",
             "line": {
              "color": "#00ACFF"
             }
            },
            "type": "candlestick"
           }
          ],
          "carpet": [
           {
            "aaxis": {
             "endlinecolor": "#A2B1C6",
             "gridcolor": "#506784",
             "linecolor": "#506784",
             "minorgridcolor": "#506784",
             "startlinecolor": "#A2B1C6"
            },
            "baxis": {
             "endlinecolor": "#A2B1C6",
             "gridcolor": "#506784",
             "linecolor": "#506784",
             "minorgridcolor": "#506784",
             "startlinecolor": "#A2B1C6"
            },
            "type": "carpet"
           }
          ],
          "choropleth": [
           {
            "colorbar": {
             "outlinewidth": 0,
             "ticks": ""
            },
            "type": "choropleth"
           }
          ],
          "contour": [
           {
            "colorbar": {
             "outlinewidth": 0,
             "ticks": ""
            },
            "colorscale": [
             [
              0,
              "#0d0887"
             ],
             [
              0.1111111111111111,
              "#46039f"
             ],
             [
              0.2222222222222222,
              "#7201a8"
             ],
             [
              0.3333333333333333,
              "#9c179e"
             ],
             [
              0.4444444444444444,
              "#bd3786"
             ],
             [
              0.5555555555555556,
              "#d8576b"
             ],
             [
              0.6666666666666666,
              "#ed7953"
             ],
             [
              0.7777777777777778,
              "#fb9f3a"
             ],
             [
              0.8888888888888888,
              "#fdca26"
             ],
             [
              1,
              "#f0f921"
             ]
            ],
            "type": "contour"
           }
          ],
          "contourcarpet": [
           {
            "colorbar": {
             "outlinewidth": 0,
             "ticks": ""
            },
            "type": "contourcarpet"
           }
          ],
          "heatmap": [
           {
            "colorbar": {
             "outlinewidth": 0,
             "ticks": ""
            },
            "colorscale": [
             [
              0,
              "#0d0887"
             ],
             [
              0.1111111111111111,
              "#46039f"
             ],
             [
              0.2222222222222222,
              "#7201a8"
             ],
             [
              0.3333333333333333,
              "#9c179e"
             ],
             [
              0.4444444444444444,
              "#bd3786"
             ],
             [
              0.5555555555555556,
              "#d8576b"
             ],
             [
              0.6666666666666666,
              "#ed7953"
             ],
             [
              0.7777777777777778,
              "#fb9f3a"
             ],
             [
              0.8888888888888888,
              "#fdca26"
             ],
             [
              1,
              "#f0f921"
             ]
            ],
            "type": "heatmap"
           }
          ],
          "heatmapgl": [
           {
            "colorbar": {
             "outlinewidth": 0,
             "ticks": ""
            },
            "colorscale": [
             [
              0,
              "#0d0887"
             ],
             [
              0.1111111111111111,
              "#46039f"
             ],
             [
              0.2222222222222222,
              "#7201a8"
             ],
             [
              0.3333333333333333,
              "#9c179e"
             ],
             [
              0.4444444444444444,
              "#bd3786"
             ],
             [
              0.5555555555555556,
              "#d8576b"
             ],
             [
              0.6666666666666666,
              "#ed7953"
             ],
             [
              0.7777777777777778,
              "#fb9f3a"
             ],
             [
              0.8888888888888888,
              "#fdca26"
             ],
             [
              1,
              "#f0f921"
             ]
            ],
            "type": "heatmapgl"
           }
          ],
          "histogram": [
           {
            "marker": {
             "pattern": {
              "fillmode": "overlay",
              "size": 10,
              "solidity": 0.2
             }
            },
            "type": "histogram"
           }
          ],
          "histogram2d": [
           {
            "colorbar": {
             "outlinewidth": 0,
             "ticks": ""
            },
            "colorscale": [
             [
              0,
              "#0d0887"
             ],
             [
              0.1111111111111111,
              "#46039f"
             ],
             [
              0.2222222222222222,
              "#7201a8"
             ],
             [
              0.3333333333333333,
              "#9c179e"
             ],
             [
              0.4444444444444444,
              "#bd3786"
             ],
             [
              0.5555555555555556,
              "#d8576b"
             ],
             [
              0.6666666666666666,
              "#ed7953"
             ],
             [
              0.7777777777777778,
              "#fb9f3a"
             ],
             [
              0.8888888888888888,
              "#fdca26"
             ],
             [
              1,
              "#f0f921"
             ]
            ],
            "type": "histogram2d"
           }
          ],
          "histogram2dcontour": [
           {
            "colorbar": {
             "outlinewidth": 0,
             "ticks": ""
            },
            "colorscale": [
             [
              0,
              "#0d0887"
             ],
             [
              0.1111111111111111,
              "#46039f"
             ],
             [
              0.2222222222222222,
              "#7201a8"
             ],
             [
              0.3333333333333333,
              "#9c179e"
             ],
             [
              0.4444444444444444,
              "#bd3786"
             ],
             [
              0.5555555555555556,
              "#d8576b"
             ],
             [
              0.6666666666666666,
              "#ed7953"
             ],
             [
              0.7777777777777778,
              "#fb9f3a"
             ],
             [
              0.8888888888888888,
              "#fdca26"
             ],
             [
              1,
              "#f0f921"
             ]
            ],
            "type": "histogram2dcontour"
           }
          ],
          "mesh3d": [
           {
            "colorbar": {
             "outlinewidth": 0,
             "ticks": ""
            },
            "type": "mesh3d"
           }
          ],
          "parcoords": [
           {
            "line": {
             "colorbar": {
              "outlinewidth": 0,
              "ticks": ""
             }
            },
            "type": "parcoords"
           }
          ],
          "pie": [
           {
            "automargin": true,
            "type": "pie"
           }
          ],
          "scatter": [
           {
            "marker": {
             "line": {
              "color": "#283442"
             }
            },
            "type": "scatter"
           }
          ],
          "scatter3d": [
           {
            "line": {
             "colorbar": {
              "outlinewidth": 0,
              "ticks": ""
             }
            },
            "marker": {
             "colorbar": {
              "outlinewidth": 0,
              "ticks": ""
             }
            },
            "type": "scatter3d"
           }
          ],
          "scattercarpet": [
           {
            "marker": {
             "colorbar": {
              "outlinewidth": 0,
              "ticks": ""
             }
            },
            "type": "scattercarpet"
           }
          ],
          "scattergeo": [
           {
            "marker": {
             "colorbar": {
              "outlinewidth": 0,
              "ticks": ""
             }
            },
            "type": "scattergeo"
           }
          ],
          "scattergl": [
           {
            "marker": {
             "line": {
              "color": "#283442"
             }
            },
            "type": "scattergl"
           }
          ],
          "scattermapbox": [
           {
            "marker": {
             "colorbar": {
              "outlinewidth": 0,
              "ticks": ""
             }
            },
            "type": "scattermapbox"
           }
          ],
          "scatterpolar": [
           {
            "marker": {
             "colorbar": {
              "outlinewidth": 0,
              "ticks": ""
             }
            },
            "type": "scatterpolar"
           }
          ],
          "scatterpolargl": [
           {
            "marker": {
             "colorbar": {
              "outlinewidth": 0,
              "ticks": ""
             }
            },
            "type": "scatterpolargl"
           }
          ],
          "scatterternary": [
           {
            "marker": {
             "colorbar": {
              "outlinewidth": 0,
              "ticks": ""
             }
            },
            "type": "scatterternary"
           }
          ],
          "surface": [
           {
            "colorbar": {
             "outlinewidth": 0,
             "ticks": ""
            },
            "colorscale": [
             [
              0,
              "#0d0887"
             ],
             [
              0.1111111111111111,
              "#46039f"
             ],
             [
              0.2222222222222222,
              "#7201a8"
             ],
             [
              0.3333333333333333,
              "#9c179e"
             ],
             [
              0.4444444444444444,
              "#bd3786"
             ],
             [
              0.5555555555555556,
              "#d8576b"
             ],
             [
              0.6666666666666666,
              "#ed7953"
             ],
             [
              0.7777777777777778,
              "#fb9f3a"
             ],
             [
              0.8888888888888888,
              "#fdca26"
             ],
             [
              1,
              "#f0f921"
             ]
            ],
            "type": "surface"
           }
          ],
          "table": [
           {
            "cells": {
             "fill": {
              "color": "#506784"
             },
             "line": {
              "color": "rgb(17,17,17)"
             }
            },
            "header": {
             "fill": {
              "color": "#2a3f5f"
             },
             "line": {
              "color": "rgb(17,17,17)"
             }
            },
            "type": "table"
           }
          ]
         },
         "layout": {
          "annotationdefaults": {
           "arrowcolor": "#f2f5fa",
           "arrowhead": 0,
           "arrowwidth": 1,
           "showarrow": false
          },
          "autotypenumbers": "strict",
          "coloraxis": {
           "colorbar": {
            "outlinewidth": 0,
            "ticks": ""
           }
          },
          "colorscale": {
           "diverging": [
            [
             0,
             "#8e0152"
            ],
            [
             0.1,
             "#c51b7d"
            ],
            [
             0.2,
             "#de77ae"
            ],
            [
             0.3,
             "#f1b6da"
            ],
            [
             0.4,
             "#fde0ef"
            ],
            [
             0.5,
             "#f7f7f7"
            ],
            [
             0.6,
             "#e6f5d0"
            ],
            [
             0.7,
             "#b8e186"
            ],
            [
             0.8,
             "#7fbc41"
            ],
            [
             0.9,
             "#4d9221"
            ],
            [
             1,
             "#276419"
            ]
           ],
           "sequential": [
            [
             0,
             "#0d0887"
            ],
            [
             0.1111111111111111,
             "#46039f"
            ],
            [
             0.2222222222222222,
             "#7201a8"
            ],
            [
             0.3333333333333333,
             "#9c179e"
            ],
            [
             0.4444444444444444,
             "#bd3786"
            ],
            [
             0.5555555555555556,
             "#d8576b"
            ],
            [
             0.6666666666666666,
             "#ed7953"
            ],
            [
             0.7777777777777778,
             "#fb9f3a"
            ],
            [
             0.8888888888888888,
             "#fdca26"
            ],
            [
             1,
             "#f0f921"
            ]
           ],
           "sequentialminus": [
            [
             0,
             "#0d0887"
            ],
            [
             0.1111111111111111,
             "#46039f"
            ],
            [
             0.2222222222222222,
             "#7201a8"
            ],
            [
             0.3333333333333333,
             "#9c179e"
            ],
            [
             0.4444444444444444,
             "#bd3786"
            ],
            [
             0.5555555555555556,
             "#d8576b"
            ],
            [
             0.6666666666666666,
             "#ed7953"
            ],
            [
             0.7777777777777778,
             "#fb9f3a"
            ],
            [
             0.8888888888888888,
             "#fdca26"
            ],
            [
             1,
             "#f0f921"
            ]
           ]
          },
          "colorway": [
           "#ffed00",
           "#ef7d00",
           "#e4003a",
           "#c13246",
           "#822661",
           "#48277c",
           "#005ca9",
           "#00aaff",
           "#9b30d9",
           "#af005f",
           "#5f00af",
           "#af87ff"
          ],
          "dragmode": "pan",
          "font": {
           "color": "#f2f5fa",
           "family": "Fira Code",
           "size": 18
          },
          "geo": {
           "bgcolor": "rgb(17,17,17)",
           "lakecolor": "rgb(17,17,17)",
           "landcolor": "rgb(17,17,17)",
           "showlakes": true,
           "showland": true,
           "subunitcolor": "#506784"
          },
          "hoverlabel": {
           "align": "left"
          },
          "hovermode": "x",
          "legend": {
           "bgcolor": "rgba(0, 0, 0, 0.5)",
           "font": {
            "size": 15
           },
           "x": 0.01,
           "xanchor": "left",
           "y": 0.99,
           "yanchor": "top"
          },
          "legend2": {
           "bgcolor": "rgba(0, 0, 0, 0.5)",
           "font": {
            "size": 15
           }
          },
          "legend3": {
           "bgcolor": "rgba(0, 0, 0, 0.5)",
           "font": {
            "size": 15
           }
          },
          "legend4": {
           "bgcolor": "rgba(0, 0, 0, 0.5)",
           "font": {
            "size": 15
           }
          },
          "legend5": {
           "bgcolor": "rgba(0, 0, 0, 0.5)",
           "font": {
            "size": 15
           }
          },
          "mapbox": {
           "style": "dark"
          },
          "paper_bgcolor": "#000000",
          "plot_bgcolor": "#000000",
          "polar": {
           "angularaxis": {
            "gridcolor": "#506784",
            "linecolor": "#506784",
            "ticks": ""
           },
           "bgcolor": "rgb(17,17,17)",
           "radialaxis": {
            "gridcolor": "#506784",
            "linecolor": "#506784",
            "ticks": ""
           }
          },
          "scene": {
           "xaxis": {
            "backgroundcolor": "rgb(17,17,17)",
            "gridcolor": "#506784",
            "gridwidth": 2,
            "linecolor": "#506784",
            "showbackground": true,
            "ticks": "",
            "zerolinecolor": "#C8D4E3"
           },
           "yaxis": {
            "backgroundcolor": "rgb(17,17,17)",
            "gridcolor": "#506784",
            "gridwidth": 2,
            "linecolor": "#506784",
            "showbackground": true,
            "ticks": "",
            "zerolinecolor": "#C8D4E3"
           },
           "zaxis": {
            "backgroundcolor": "rgb(17,17,17)",
            "gridcolor": "#506784",
            "gridwidth": 2,
            "linecolor": "#506784",
            "showbackground": true,
            "ticks": "",
            "zerolinecolor": "#C8D4E3"
           }
          },
          "shapedefaults": {
           "line": {
            "color": "#f2f5fa"
           }
          },
          "sliderdefaults": {
           "bgcolor": "#C8D4E3",
           "bordercolor": "rgb(17,17,17)",
           "borderwidth": 1,
           "tickwidth": 0
          },
          "ternary": {
           "aaxis": {
            "gridcolor": "#506784",
            "linecolor": "#506784",
            "ticks": ""
           },
           "baxis": {
            "gridcolor": "#506784",
            "linecolor": "#506784",
            "ticks": ""
           },
           "bgcolor": "rgb(17,17,17)",
           "caxis": {
            "gridcolor": "#506784",
            "linecolor": "#506784",
            "ticks": ""
           }
          },
          "title": {
           "x": 0.05
          },
          "updatemenudefaults": {
           "bgcolor": "#506784",
           "borderwidth": 0
          },
          "xaxis": {
           "automargin": true,
           "autorange": true,
           "gridcolor": "#283442",
           "linecolor": "#F5EFF3",
           "mirror": true,
           "rangeslider": {
            "visible": false
           },
           "showgrid": true,
           "showline": true,
           "tick0": 1,
           "tickfont": {
            "size": 14
           },
           "ticks": "outside",
           "title": {
            "standoff": 20
           },
           "zeroline": false,
           "zerolinecolor": "#283442",
           "zerolinewidth": 2
          },
          "yaxis": {
           "anchor": "x",
           "automargin": true,
           "fixedrange": false,
           "gridcolor": "#283442",
           "linecolor": "#F5EFF3",
           "mirror": true,
           "showgrid": true,
           "showline": true,
           "side": "right",
           "tick0": 0.5,
           "ticks": "outside",
           "title": {
            "standoff": 20
           },
           "zeroline": false,
           "zerolinecolor": "#283442",
           "zerolinewidth": 2
          }
         }
        },
        "title": {
         "text": "Duration of Value Above Threshold by Date Range"
        },
        "xaxis": {
         "anchor": "y",
         "domain": [
          0,
          1
         ],
         "showticklabels": false,
         "tickmode": "array",
         "tickvals": [],
         "title": {
          "text": ""
         }
        },
        "yaxis": {
         "anchor": "x",
         "domain": [
          0,
          1
         ],
         "title": {
          "text": ""
         }
        }
       }
      }
     },
     "metadata": {},
     "output_type": "display_data"
    }
   ],
   "source": [
    "\n",
    "# Create a new column for x-axis labels showing min and max date\n",
    "above['label'] = above.apply(lambda x: f\"{x['min'].strftime('%Y-%m-%d')} to {x['max'].strftime('%Y-%m-%d')}\", axis=1)\n",
    "\n",
    "\n",
    "# Plot with Plotly\n",
    "fig = px.bar(\n",
    "    above,\n",
    "    x='label',\n",
    "    y='duration_days',\n",
    "    labels={'label': 'Date Range', 'duration_days': 'Duration (Days)'},\n",
    "    color='duration_days'\n",
    ")\n",
    "\n",
    "# Customize layout\n",
    "fig.update_layout(\n",
    "    title='Duration of Value Above Threshold by Date Range',\n",
    "    xaxis_title='',  # No x-axis title (to place it below the chart)\n",
    "    yaxis_title='',  # Remove y-axis label\n",
    "    xaxis=dict(\n",
    "        tickmode='array',\n",
    "        tickvals=[],\n",
    "        showticklabels=False  # Hide x-axis tick labels\n",
    "    ),\n",
    "    yaxis=dict(\n",
    "        title=''  # Remove y-axis label\n",
    "    ),\n",
    "    # Place x-axis label below the chart\n",
    "    margin=dict(t=80),  # Increase top margin to make space for x-axis label\n",
    "    annotations=[\n",
    "        dict(\n",
    "            xref='paper',\n",
    "            yref='paper',\n",
    "            x=0.5,\n",
    "            y=-0.1,  # Adjust this value to position the x-axis label below the chart\n",
    "            text='Date Range',  # X-axis label\n",
    "            showarrow=False,\n",
    "            font=dict(size=12)  # Adjust font size if needed\n",
    "        )\n",
    "    ]\n",
    ")\n",
    "\n",
    "# Show the plot\n",
    "fig.show()\n",
    "\n"
   ]
  },
  {
   "cell_type": "code",
   "execution_count": 35,
   "metadata": {},
   "outputs": [
    {
     "data": {
      "application/vnd.plotly.v1+json": {
       "config": {
        "plotlyServerURL": "https://plot.ly"
       },
       "data": [
        {
         "alignmentgroup": "True",
         "hovertemplate": "Date Range=%{x}<br>Duration (Days)=%{marker.color}<extra></extra>",
         "legendgroup": "",
         "marker": {
          "color": [
           2,
           1,
           15,
           4,
           10,
           1,
           4,
           13,
           1,
           1,
           3,
           13,
           1,
           2,
           1,
           7,
           8,
           1,
           1,
           1,
           1,
           1,
           1,
           16,
           8,
           2,
           1,
           1,
           1,
           1,
           1,
           2,
           1,
           3,
           2,
           7,
           6,
           13,
           1,
           1,
           1,
           9,
           7,
           1,
           1,
           7,
           6,
           2,
           6,
           8,
           2,
           4,
           6,
           13,
           1,
           2,
           11,
           4,
           2,
           4,
           4,
           2,
           2,
           1,
           1,
           2,
           2,
           1,
           5,
           3,
           2,
           7,
           1,
           1,
           16,
           2,
           11,
           1,
           19,
           1,
           2,
           1,
           1,
           1,
           3,
           1,
           3,
           5,
           1,
           1,
           3,
           8,
           1,
           1,
           1,
           1,
           8,
           1,
           1,
           19,
           1,
           3,
           3,
           1,
           10,
           3,
           1,
           1,
           1,
           2,
           4,
           11,
           4,
           13,
           13,
           3,
           1,
           13,
           9,
           5,
           21,
           6,
           1,
           5,
           6,
           16,
           5,
           1,
           6,
           2,
           8,
           1,
           14,
           1,
           5,
           37,
           15,
           1,
           9,
           15,
           2,
           1,
           1,
           26,
           1,
           31,
           1,
           1,
           10,
           2,
           1,
           21,
           45,
           8,
           9,
           1,
           11,
           8,
           2,
           1,
           7,
           1,
           2,
           9,
           22,
           43,
           1,
           1,
           1,
           4,
           8,
           1,
           1,
           6,
           1,
           1,
           8,
           6,
           1,
           8,
           1,
           4,
           16,
           2,
           16,
           7,
           2,
           7,
           1,
           1,
           1,
           1,
           2,
           3,
           10,
           1,
           28,
           1,
           8,
           1,
           14,
           1,
           2,
           1,
           13,
           2,
           1,
           2,
           9,
           1,
           14,
           13,
           2
          ],
          "coloraxis": "coloraxis",
          "pattern": {
           "shape": ""
          }
         },
         "name": "",
         "offsetgroup": "",
         "orientation": "v",
         "showlegend": false,
         "textposition": "auto",
         "type": "bar",
         "x": [
          "2000-09-20 to 2000-09-21",
          "2000-10-06 to 2000-10-06",
          "2000-10-25 to 2000-11-08",
          "2000-11-10 to 2000-11-13",
          "2001-01-10 to 2001-01-19",
          "2001-01-24 to 2001-01-24",
          "2001-01-26 to 2001-01-29",
          "2001-02-08 to 2001-02-20",
          "2001-04-02 to 2001-04-02",
          "2001-07-05 to 2001-07-05",
          "2001-10-22 to 2001-10-24",
          "2001-11-15 to 2001-11-27",
          "2001-11-29 to 2001-11-29",
          "2001-12-10 to 2001-12-11",
          "2002-06-28 to 2002-06-28",
          "2002-07-02 to 2002-07-08",
          "2002-07-25 to 2002-08-01",
          "2002-08-06 to 2002-08-06",
          "2002-10-15 to 2002-10-15",
          "2002-10-17 to 2002-10-17",
          "2002-10-21 to 2002-10-21",
          "2002-10-24 to 2002-10-24",
          "2003-02-18 to 2003-02-18",
          "2003-03-13 to 2003-03-28",
          "2003-04-02 to 2003-04-09",
          "2003-04-14 to 2003-04-15",
          "2003-06-24 to 2003-06-24",
          "2003-06-26 to 2003-06-26",
          "2003-07-09 to 2003-07-09",
          "2003-07-15 to 2003-07-15",
          "2004-01-29 to 2004-01-29",
          "2004-02-02 to 2004-02-03",
          "2004-02-05 to 2004-02-05",
          "2004-03-02 to 2004-03-04",
          "2004-04-14 to 2004-04-15",
          "2004-04-20 to 2004-04-26",
          "2004-04-28 to 2004-05-03",
          "2004-05-06 to 2004-05-18",
          "2004-05-20 to 2004-05-20",
          "2004-07-27 to 2004-07-27",
          "2004-07-29 to 2004-07-29",
          "2005-01-03 to 2005-01-11",
          "2005-01-14 to 2005-01-20",
          "2005-01-25 to 2005-01-25",
          "2005-02-01 to 2005-02-01",
          "2005-02-03 to 2005-02-09",
          "2005-03-23 to 2005-03-28",
          "2005-04-04 to 2005-04-05",
          "2005-05-12 to 2005-05-17",
          "2005-05-19 to 2005-05-26",
          "2005-05-31 to 2005-06-01",
          "2005-07-05 to 2005-07-08",
          "2005-07-14 to 2005-07-19",
          "2006-06-08 to 2006-06-20",
          "2006-06-22 to 2006-06-22",
          "2006-06-27 to 2006-06-28",
          "2006-09-11 to 2006-09-21",
          "2006-10-03 to 2006-10-06",
          "2006-10-10 to 2006-10-11",
          "2007-01-05 to 2007-01-08",
          "2007-03-02 to 2007-03-05",
          "2007-05-16 to 2007-05-17",
          "2007-05-24 to 2007-05-25",
          "2007-05-30 to 2007-05-30",
          "2007-06-08 to 2007-06-08",
          "2007-06-12 to 2007-06-13",
          "2007-06-26 to 2007-06-27",
          "2007-08-16 to 2007-08-16",
          "2008-03-20 to 2008-03-24",
          "2008-03-31 to 2008-04-02",
          "2008-04-24 to 2008-04-25",
          "2008-04-29 to 2008-05-05",
          "2008-05-07 to 2008-05-07",
          "2008-05-14 to 2008-05-14",
          "2008-08-05 to 2008-08-20",
          "2008-08-25 to 2008-08-26",
          "2008-09-02 to 2008-09-12",
          "2008-09-16 to 2008-09-16",
          "2008-10-16 to 2008-11-03",
          "2008-11-06 to 2008-11-06",
          "2008-11-12 to 2008-11-13",
          "2009-04-06 to 2009-04-06",
          "2009-04-17 to 2009-04-17",
          "2009-07-08 to 2009-07-08",
          "2009-12-21 to 2009-12-23",
          "2010-01-22 to 2010-01-22",
          "2010-01-27 to 2010-01-29",
          "2010-02-04 to 2010-02-08",
          "2010-07-06 to 2010-07-06",
          "2010-07-19 to 2010-07-19",
          "2010-07-27 to 2010-07-29",
          "2011-01-20 to 2011-01-27",
          "2011-01-31 to 2011-01-31",
          "2011-02-02 to 2011-02-02",
          "2011-06-27 to 2011-06-27",
          "2011-07-01 to 2011-07-01",
          "2011-09-23 to 2011-09-30",
          "2011-10-04 to 2011-10-04",
          "2011-10-20 to 2011-10-20",
          "2011-12-12 to 2011-12-30",
          "2012-03-06 to 2012-03-06",
          "2012-03-14 to 2012-03-16",
          "2012-03-20 to 2012-03-22",
          "2012-04-04 to 2012-04-04",
          "2012-05-08 to 2012-05-17",
          "2012-05-22 to 2012-05-24",
          "2012-05-29 to 2012-05-29",
          "2012-06-21 to 2012-06-21",
          "2012-06-28 to 2012-06-28",
          "2012-10-23 to 2012-10-24",
          "2012-11-02 to 2012-11-05",
          "2012-12-18 to 2012-12-28",
          "2013-01-04 to 2013-01-07",
          "2013-02-13 to 2013-02-25",
          "2013-02-27 to 2013-03-11",
          "2013-04-02 to 2013-04-04",
          "2013-04-10 to 2013-04-10",
          "2013-04-12 to 2013-04-24",
          "2013-05-14 to 2013-05-22",
          "2013-05-24 to 2013-05-28",
          "2013-06-20 to 2013-07-10",
          "2013-09-13 to 2013-09-18",
          "2013-10-01 to 2013-10-01",
          "2013-10-11 to 2013-10-15",
          "2013-11-08 to 2013-11-13",
          "2013-11-18 to 2013-12-03",
          "2013-12-05 to 2013-12-09",
          "2013-12-12 to 2013-12-12",
          "2013-12-19 to 2013-12-24",
          "2013-12-30 to 2013-12-31",
          "2014-03-27 to 2014-04-03",
          "2014-04-22 to 2014-04-22",
          "2014-05-27 to 2014-06-09",
          "2014-07-31 to 2014-07-31",
          "2014-08-21 to 2014-08-25",
          "2014-09-02 to 2014-10-08",
          "2014-10-30 to 2014-11-13",
          "2014-12-24 to 2014-12-24",
          "2015-02-17 to 2015-02-25",
          "2015-03-04 to 2015-03-18",
          "2015-06-04 to 2015-06-05",
          "2015-07-02 to 2015-07-02",
          "2015-07-07 to 2015-07-07",
          "2015-07-13 to 2015-08-07",
          "2015-09-09 to 2015-09-09",
          "2015-11-03 to 2015-12-03",
          "2015-12-15 to 2015-12-15",
          "2015-12-17 to 2015-12-17",
          "2016-05-24 to 2016-06-02",
          "2016-08-30 to 2016-08-31",
          "2016-09-16 to 2016-09-16",
          "2016-10-04 to 2016-10-24",
          "2016-11-14 to 2016-12-28",
          "2017-03-08 to 2017-03-15",
          "2017-05-04 to 2017-05-12",
          "2017-06-20 to 2017-06-20",
          "2017-07-03 to 2017-07-13",
          "2017-09-29 to 2017-10-06",
          "2017-10-26 to 2017-10-27",
          "2017-10-31 to 2017-10-31",
          "2017-12-07 to 2017-12-13",
          "2018-03-01 to 2018-03-01",
          "2018-05-01 to 2018-05-02",
          "2018-05-15 to 2018-05-23",
          "2018-06-15 to 2018-07-06",
          "2018-07-10 to 2018-08-21",
          "2018-08-23 to 2018-08-23",
          "2018-09-27 to 2018-09-27",
          "2018-11-13 to 2018-11-13",
          "2019-03-04 to 2019-03-07",
          "2019-04-16 to 2019-04-23",
          "2019-05-02 to 2019-05-02",
          "2019-09-30 to 2019-09-30",
          "2019-11-07 to 2019-11-12",
          "2019-11-25 to 2019-11-25",
          "2019-11-27 to 2019-11-27",
          "2020-03-13 to 2020-03-20",
          "2020-09-23 to 2020-09-28",
          "2020-10-29 to 2020-10-29",
          "2020-11-23 to 2020-11-30",
          "2021-02-04 to 2021-02-04",
          "2021-02-16 to 2021-02-19",
          "2021-02-25 to 2021-03-12",
          "2021-03-29 to 2021-03-30",
          "2021-06-17 to 2021-07-02",
          "2021-08-06 to 2021-08-12",
          "2021-09-16 to 2021-09-17",
          "2021-09-23 to 2021-09-29",
          "2021-11-30 to 2021-11-30",
          "2021-12-02 to 2021-12-02",
          "2021-12-15 to 2021-12-15",
          "2022-04-25 to 2022-04-25",
          "2022-04-27 to 2022-04-28",
          "2022-05-02 to 2022-05-04",
          "2022-05-09 to 2022-05-18",
          "2022-06-14 to 2022-06-14",
          "2022-06-30 to 2022-07-27",
          "2022-08-22 to 2022-08-22",
          "2022-08-30 to 2022-09-06",
          "2022-09-08 to 2022-09-08",
          "2022-09-14 to 2022-09-27",
          "2022-10-14 to 2022-10-14",
          "2022-10-19 to 2022-10-20",
          "2022-11-03 to 2022-11-03",
          "2023-02-15 to 2023-02-27",
          "2023-03-07 to 2023-03-08",
          "2023-05-18 to 2023-05-18",
          "2023-05-25 to 2023-05-26",
          "2023-06-21 to 2023-06-29",
          "2023-07-06 to 2023-07-06",
          "2023-08-09 to 2023-08-22",
          "2023-09-27 to 2023-10-09",
          "2024-02-13 to 2024-02-14"
         ],
         "xaxis": "x",
         "y": [
          2,
          1,
          15,
          4,
          10,
          1,
          4,
          13,
          1,
          1,
          3,
          13,
          1,
          2,
          1,
          7,
          8,
          1,
          1,
          1,
          1,
          1,
          1,
          16,
          8,
          2,
          1,
          1,
          1,
          1,
          1,
          2,
          1,
          3,
          2,
          7,
          6,
          13,
          1,
          1,
          1,
          9,
          7,
          1,
          1,
          7,
          6,
          2,
          6,
          8,
          2,
          4,
          6,
          13,
          1,
          2,
          11,
          4,
          2,
          4,
          4,
          2,
          2,
          1,
          1,
          2,
          2,
          1,
          5,
          3,
          2,
          7,
          1,
          1,
          16,
          2,
          11,
          1,
          19,
          1,
          2,
          1,
          1,
          1,
          3,
          1,
          3,
          5,
          1,
          1,
          3,
          8,
          1,
          1,
          1,
          1,
          8,
          1,
          1,
          19,
          1,
          3,
          3,
          1,
          10,
          3,
          1,
          1,
          1,
          2,
          4,
          11,
          4,
          13,
          13,
          3,
          1,
          13,
          9,
          5,
          21,
          6,
          1,
          5,
          6,
          16,
          5,
          1,
          6,
          2,
          8,
          1,
          14,
          1,
          5,
          37,
          15,
          1,
          9,
          15,
          2,
          1,
          1,
          26,
          1,
          31,
          1,
          1,
          10,
          2,
          1,
          21,
          45,
          8,
          9,
          1,
          11,
          8,
          2,
          1,
          7,
          1,
          2,
          9,
          22,
          43,
          1,
          1,
          1,
          4,
          8,
          1,
          1,
          6,
          1,
          1,
          8,
          6,
          1,
          8,
          1,
          4,
          16,
          2,
          16,
          7,
          2,
          7,
          1,
          1,
          1,
          1,
          2,
          3,
          10,
          1,
          28,
          1,
          8,
          1,
          14,
          1,
          2,
          1,
          13,
          2,
          1,
          2,
          9,
          1,
          14,
          13,
          2
         ],
         "yaxis": "y"
        }
       ],
       "layout": {
        "annotations": [
         {
          "font": {
           "size": 12
          },
          "showarrow": false,
          "text": "Date Range",
          "x": 0.5,
          "xref": "paper",
          "y": -0.1,
          "yref": "paper"
         }
        ],
        "barmode": "relative",
        "coloraxis": {
         "colorbar": {
          "title": {
           "text": "Duration (Days)"
          }
         },
         "colorscale": [
          [
           0,
           "#0d0887"
          ],
          [
           0.1111111111111111,
           "#46039f"
          ],
          [
           0.2222222222222222,
           "#7201a8"
          ],
          [
           0.3333333333333333,
           "#9c179e"
          ],
          [
           0.4444444444444444,
           "#bd3786"
          ],
          [
           0.5555555555555556,
           "#d8576b"
          ],
          [
           0.6666666666666666,
           "#ed7953"
          ],
          [
           0.7777777777777778,
           "#fb9f3a"
          ],
          [
           0.8888888888888888,
           "#fdca26"
          ],
          [
           1,
           "#f0f921"
          ]
         ]
        },
        "legend": {
         "tracegroupgap": 0
        },
        "margin": {
         "t": 80
        },
        "template": {
         "data": {
          "bar": [
           {
            "error_x": {
             "color": "#f2f5fa"
            },
            "error_y": {
             "color": "#f2f5fa"
            },
            "marker": {
             "line": {
              "color": "rgb(17,17,17)",
              "width": 0.5
             },
             "pattern": {
              "fillmode": "overlay",
              "size": 10,
              "solidity": 0.2
             }
            },
            "type": "bar"
           }
          ],
          "barpolar": [
           {
            "marker": {
             "line": {
              "color": "rgb(17,17,17)",
              "width": 0.5
             },
             "pattern": {
              "fillmode": "overlay",
              "size": 10,
              "solidity": 0.2
             }
            },
            "type": "barpolar"
           }
          ],
          "candlestick": [
           {
            "decreasing": {
             "fillcolor": "#e4003a",
             "line": {
              "color": "#e4003a"
             }
            },
            "increasing": {
             "fillcolor": "#00ACFF",
             "line": {
              "color": "#00ACFF"
             }
            },
            "type": "candlestick"
           }
          ],
          "carpet": [
           {
            "aaxis": {
             "endlinecolor": "#A2B1C6",
             "gridcolor": "#506784",
             "linecolor": "#506784",
             "minorgridcolor": "#506784",
             "startlinecolor": "#A2B1C6"
            },
            "baxis": {
             "endlinecolor": "#A2B1C6",
             "gridcolor": "#506784",
             "linecolor": "#506784",
             "minorgridcolor": "#506784",
             "startlinecolor": "#A2B1C6"
            },
            "type": "carpet"
           }
          ],
          "choropleth": [
           {
            "colorbar": {
             "outlinewidth": 0,
             "ticks": ""
            },
            "type": "choropleth"
           }
          ],
          "contour": [
           {
            "colorbar": {
             "outlinewidth": 0,
             "ticks": ""
            },
            "colorscale": [
             [
              0,
              "#0d0887"
             ],
             [
              0.1111111111111111,
              "#46039f"
             ],
             [
              0.2222222222222222,
              "#7201a8"
             ],
             [
              0.3333333333333333,
              "#9c179e"
             ],
             [
              0.4444444444444444,
              "#bd3786"
             ],
             [
              0.5555555555555556,
              "#d8576b"
             ],
             [
              0.6666666666666666,
              "#ed7953"
             ],
             [
              0.7777777777777778,
              "#fb9f3a"
             ],
             [
              0.8888888888888888,
              "#fdca26"
             ],
             [
              1,
              "#f0f921"
             ]
            ],
            "type": "contour"
           }
          ],
          "contourcarpet": [
           {
            "colorbar": {
             "outlinewidth": 0,
             "ticks": ""
            },
            "type": "contourcarpet"
           }
          ],
          "heatmap": [
           {
            "colorbar": {
             "outlinewidth": 0,
             "ticks": ""
            },
            "colorscale": [
             [
              0,
              "#0d0887"
             ],
             [
              0.1111111111111111,
              "#46039f"
             ],
             [
              0.2222222222222222,
              "#7201a8"
             ],
             [
              0.3333333333333333,
              "#9c179e"
             ],
             [
              0.4444444444444444,
              "#bd3786"
             ],
             [
              0.5555555555555556,
              "#d8576b"
             ],
             [
              0.6666666666666666,
              "#ed7953"
             ],
             [
              0.7777777777777778,
              "#fb9f3a"
             ],
             [
              0.8888888888888888,
              "#fdca26"
             ],
             [
              1,
              "#f0f921"
             ]
            ],
            "type": "heatmap"
           }
          ],
          "heatmapgl": [
           {
            "colorbar": {
             "outlinewidth": 0,
             "ticks": ""
            },
            "colorscale": [
             [
              0,
              "#0d0887"
             ],
             [
              0.1111111111111111,
              "#46039f"
             ],
             [
              0.2222222222222222,
              "#7201a8"
             ],
             [
              0.3333333333333333,
              "#9c179e"
             ],
             [
              0.4444444444444444,
              "#bd3786"
             ],
             [
              0.5555555555555556,
              "#d8576b"
             ],
             [
              0.6666666666666666,
              "#ed7953"
             ],
             [
              0.7777777777777778,
              "#fb9f3a"
             ],
             [
              0.8888888888888888,
              "#fdca26"
             ],
             [
              1,
              "#f0f921"
             ]
            ],
            "type": "heatmapgl"
           }
          ],
          "histogram": [
           {
            "marker": {
             "pattern": {
              "fillmode": "overlay",
              "size": 10,
              "solidity": 0.2
             }
            },
            "type": "histogram"
           }
          ],
          "histogram2d": [
           {
            "colorbar": {
             "outlinewidth": 0,
             "ticks": ""
            },
            "colorscale": [
             [
              0,
              "#0d0887"
             ],
             [
              0.1111111111111111,
              "#46039f"
             ],
             [
              0.2222222222222222,
              "#7201a8"
             ],
             [
              0.3333333333333333,
              "#9c179e"
             ],
             [
              0.4444444444444444,
              "#bd3786"
             ],
             [
              0.5555555555555556,
              "#d8576b"
             ],
             [
              0.6666666666666666,
              "#ed7953"
             ],
             [
              0.7777777777777778,
              "#fb9f3a"
             ],
             [
              0.8888888888888888,
              "#fdca26"
             ],
             [
              1,
              "#f0f921"
             ]
            ],
            "type": "histogram2d"
           }
          ],
          "histogram2dcontour": [
           {
            "colorbar": {
             "outlinewidth": 0,
             "ticks": ""
            },
            "colorscale": [
             [
              0,
              "#0d0887"
             ],
             [
              0.1111111111111111,
              "#46039f"
             ],
             [
              0.2222222222222222,
              "#7201a8"
             ],
             [
              0.3333333333333333,
              "#9c179e"
             ],
             [
              0.4444444444444444,
              "#bd3786"
             ],
             [
              0.5555555555555556,
              "#d8576b"
             ],
             [
              0.6666666666666666,
              "#ed7953"
             ],
             [
              0.7777777777777778,
              "#fb9f3a"
             ],
             [
              0.8888888888888888,
              "#fdca26"
             ],
             [
              1,
              "#f0f921"
             ]
            ],
            "type": "histogram2dcontour"
           }
          ],
          "mesh3d": [
           {
            "colorbar": {
             "outlinewidth": 0,
             "ticks": ""
            },
            "type": "mesh3d"
           }
          ],
          "parcoords": [
           {
            "line": {
             "colorbar": {
              "outlinewidth": 0,
              "ticks": ""
             }
            },
            "type": "parcoords"
           }
          ],
          "pie": [
           {
            "automargin": true,
            "type": "pie"
           }
          ],
          "scatter": [
           {
            "marker": {
             "line": {
              "color": "#283442"
             }
            },
            "type": "scatter"
           }
          ],
          "scatter3d": [
           {
            "line": {
             "colorbar": {
              "outlinewidth": 0,
              "ticks": ""
             }
            },
            "marker": {
             "colorbar": {
              "outlinewidth": 0,
              "ticks": ""
             }
            },
            "type": "scatter3d"
           }
          ],
          "scattercarpet": [
           {
            "marker": {
             "colorbar": {
              "outlinewidth": 0,
              "ticks": ""
             }
            },
            "type": "scattercarpet"
           }
          ],
          "scattergeo": [
           {
            "marker": {
             "colorbar": {
              "outlinewidth": 0,
              "ticks": ""
             }
            },
            "type": "scattergeo"
           }
          ],
          "scattergl": [
           {
            "marker": {
             "line": {
              "color": "#283442"
             }
            },
            "type": "scattergl"
           }
          ],
          "scattermapbox": [
           {
            "marker": {
             "colorbar": {
              "outlinewidth": 0,
              "ticks": ""
             }
            },
            "type": "scattermapbox"
           }
          ],
          "scatterpolar": [
           {
            "marker": {
             "colorbar": {
              "outlinewidth": 0,
              "ticks": ""
             }
            },
            "type": "scatterpolar"
           }
          ],
          "scatterpolargl": [
           {
            "marker": {
             "colorbar": {
              "outlinewidth": 0,
              "ticks": ""
             }
            },
            "type": "scatterpolargl"
           }
          ],
          "scatterternary": [
           {
            "marker": {
             "colorbar": {
              "outlinewidth": 0,
              "ticks": ""
             }
            },
            "type": "scatterternary"
           }
          ],
          "surface": [
           {
            "colorbar": {
             "outlinewidth": 0,
             "ticks": ""
            },
            "colorscale": [
             [
              0,
              "#0d0887"
             ],
             [
              0.1111111111111111,
              "#46039f"
             ],
             [
              0.2222222222222222,
              "#7201a8"
             ],
             [
              0.3333333333333333,
              "#9c179e"
             ],
             [
              0.4444444444444444,
              "#bd3786"
             ],
             [
              0.5555555555555556,
              "#d8576b"
             ],
             [
              0.6666666666666666,
              "#ed7953"
             ],
             [
              0.7777777777777778,
              "#fb9f3a"
             ],
             [
              0.8888888888888888,
              "#fdca26"
             ],
             [
              1,
              "#f0f921"
             ]
            ],
            "type": "surface"
           }
          ],
          "table": [
           {
            "cells": {
             "fill": {
              "color": "#506784"
             },
             "line": {
              "color": "rgb(17,17,17)"
             }
            },
            "header": {
             "fill": {
              "color": "#2a3f5f"
             },
             "line": {
              "color": "rgb(17,17,17)"
             }
            },
            "type": "table"
           }
          ]
         },
         "layout": {
          "annotationdefaults": {
           "arrowcolor": "#f2f5fa",
           "arrowhead": 0,
           "arrowwidth": 1,
           "showarrow": false
          },
          "autotypenumbers": "strict",
          "coloraxis": {
           "colorbar": {
            "outlinewidth": 0,
            "ticks": ""
           }
          },
          "colorscale": {
           "diverging": [
            [
             0,
             "#8e0152"
            ],
            [
             0.1,
             "#c51b7d"
            ],
            [
             0.2,
             "#de77ae"
            ],
            [
             0.3,
             "#f1b6da"
            ],
            [
             0.4,
             "#fde0ef"
            ],
            [
             0.5,
             "#f7f7f7"
            ],
            [
             0.6,
             "#e6f5d0"
            ],
            [
             0.7,
             "#b8e186"
            ],
            [
             0.8,
             "#7fbc41"
            ],
            [
             0.9,
             "#4d9221"
            ],
            [
             1,
             "#276419"
            ]
           ],
           "sequential": [
            [
             0,
             "#0d0887"
            ],
            [
             0.1111111111111111,
             "#46039f"
            ],
            [
             0.2222222222222222,
             "#7201a8"
            ],
            [
             0.3333333333333333,
             "#9c179e"
            ],
            [
             0.4444444444444444,
             "#bd3786"
            ],
            [
             0.5555555555555556,
             "#d8576b"
            ],
            [
             0.6666666666666666,
             "#ed7953"
            ],
            [
             0.7777777777777778,
             "#fb9f3a"
            ],
            [
             0.8888888888888888,
             "#fdca26"
            ],
            [
             1,
             "#f0f921"
            ]
           ],
           "sequentialminus": [
            [
             0,
             "#0d0887"
            ],
            [
             0.1111111111111111,
             "#46039f"
            ],
            [
             0.2222222222222222,
             "#7201a8"
            ],
            [
             0.3333333333333333,
             "#9c179e"
            ],
            [
             0.4444444444444444,
             "#bd3786"
            ],
            [
             0.5555555555555556,
             "#d8576b"
            ],
            [
             0.6666666666666666,
             "#ed7953"
            ],
            [
             0.7777777777777778,
             "#fb9f3a"
            ],
            [
             0.8888888888888888,
             "#fdca26"
            ],
            [
             1,
             "#f0f921"
            ]
           ]
          },
          "colorway": [
           "#ffed00",
           "#ef7d00",
           "#e4003a",
           "#c13246",
           "#822661",
           "#48277c",
           "#005ca9",
           "#00aaff",
           "#9b30d9",
           "#af005f",
           "#5f00af",
           "#af87ff"
          ],
          "dragmode": "pan",
          "font": {
           "color": "#f2f5fa",
           "family": "Fira Code",
           "size": 18
          },
          "geo": {
           "bgcolor": "rgb(17,17,17)",
           "lakecolor": "rgb(17,17,17)",
           "landcolor": "rgb(17,17,17)",
           "showlakes": true,
           "showland": true,
           "subunitcolor": "#506784"
          },
          "hoverlabel": {
           "align": "left"
          },
          "hovermode": "x",
          "legend": {
           "bgcolor": "rgba(0, 0, 0, 0.5)",
           "font": {
            "size": 15
           },
           "x": 0.01,
           "xanchor": "left",
           "y": 0.99,
           "yanchor": "top"
          },
          "legend2": {
           "bgcolor": "rgba(0, 0, 0, 0.5)",
           "font": {
            "size": 15
           }
          },
          "legend3": {
           "bgcolor": "rgba(0, 0, 0, 0.5)",
           "font": {
            "size": 15
           }
          },
          "legend4": {
           "bgcolor": "rgba(0, 0, 0, 0.5)",
           "font": {
            "size": 15
           }
          },
          "legend5": {
           "bgcolor": "rgba(0, 0, 0, 0.5)",
           "font": {
            "size": 15
           }
          },
          "mapbox": {
           "style": "dark"
          },
          "paper_bgcolor": "#000000",
          "plot_bgcolor": "#000000",
          "polar": {
           "angularaxis": {
            "gridcolor": "#506784",
            "linecolor": "#506784",
            "ticks": ""
           },
           "bgcolor": "rgb(17,17,17)",
           "radialaxis": {
            "gridcolor": "#506784",
            "linecolor": "#506784",
            "ticks": ""
           }
          },
          "scene": {
           "xaxis": {
            "backgroundcolor": "rgb(17,17,17)",
            "gridcolor": "#506784",
            "gridwidth": 2,
            "linecolor": "#506784",
            "showbackground": true,
            "ticks": "",
            "zerolinecolor": "#C8D4E3"
           },
           "yaxis": {
            "backgroundcolor": "rgb(17,17,17)",
            "gridcolor": "#506784",
            "gridwidth": 2,
            "linecolor": "#506784",
            "showbackground": true,
            "ticks": "",
            "zerolinecolor": "#C8D4E3"
           },
           "zaxis": {
            "backgroundcolor": "rgb(17,17,17)",
            "gridcolor": "#506784",
            "gridwidth": 2,
            "linecolor": "#506784",
            "showbackground": true,
            "ticks": "",
            "zerolinecolor": "#C8D4E3"
           }
          },
          "shapedefaults": {
           "line": {
            "color": "#f2f5fa"
           }
          },
          "sliderdefaults": {
           "bgcolor": "#C8D4E3",
           "bordercolor": "rgb(17,17,17)",
           "borderwidth": 1,
           "tickwidth": 0
          },
          "ternary": {
           "aaxis": {
            "gridcolor": "#506784",
            "linecolor": "#506784",
            "ticks": ""
           },
           "baxis": {
            "gridcolor": "#506784",
            "linecolor": "#506784",
            "ticks": ""
           },
           "bgcolor": "rgb(17,17,17)",
           "caxis": {
            "gridcolor": "#506784",
            "linecolor": "#506784",
            "ticks": ""
           }
          },
          "title": {
           "x": 0.05
          },
          "updatemenudefaults": {
           "bgcolor": "#506784",
           "borderwidth": 0
          },
          "xaxis": {
           "automargin": true,
           "autorange": true,
           "gridcolor": "#283442",
           "linecolor": "#F5EFF3",
           "mirror": true,
           "rangeslider": {
            "visible": false
           },
           "showgrid": true,
           "showline": true,
           "tick0": 1,
           "tickfont": {
            "size": 14
           },
           "ticks": "outside",
           "title": {
            "standoff": 20
           },
           "zeroline": false,
           "zerolinecolor": "#283442",
           "zerolinewidth": 2
          },
          "yaxis": {
           "anchor": "x",
           "automargin": true,
           "fixedrange": false,
           "gridcolor": "#283442",
           "linecolor": "#F5EFF3",
           "mirror": true,
           "showgrid": true,
           "showline": true,
           "side": "right",
           "tick0": 0.5,
           "ticks": "outside",
           "title": {
            "standoff": 20
           },
           "zeroline": false,
           "zerolinecolor": "#283442",
           "zerolinewidth": 2
          }
         }
        },
        "title": {
         "text": "Duration of Value Below Threshold by Date Range"
        },
        "xaxis": {
         "anchor": "y",
         "domain": [
          0,
          1
         ],
         "showticklabels": false,
         "tickmode": "array",
         "tickvals": [],
         "title": {
          "text": ""
         }
        },
        "yaxis": {
         "anchor": "x",
         "domain": [
          0,
          1
         ],
         "title": {
          "text": ""
         }
        }
       }
      }
     },
     "metadata": {},
     "output_type": "display_data"
    }
   ],
   "source": [
    "\n",
    "# Create a new column for x-axis labels showing min and max date\n",
    "below['label'] = below.apply(lambda x: f\"{x['min'].strftime('%Y-%m-%d')} to {x['max'].strftime('%Y-%m-%d')}\", axis=1)\n",
    "\n",
    "\n",
    "# Plot with Plotly\n",
    "fig = px.bar(\n",
    "    below,\n",
    "    x='label',\n",
    "    y='duration_days',\n",
    "    labels={'label': 'Date Range', 'duration_days': 'Duration (Days)'},\n",
    "    color='duration_days'\n",
    ")\n",
    "\n",
    "# Customize layout\n",
    "fig.update_layout(\n",
    "    title='Duration of Value Below Threshold by Date Range',\n",
    "    xaxis_title='',  # No x-axis title (to place it below the chart)\n",
    "    yaxis_title='',  # Remove y-axis label\n",
    "    xaxis=dict(\n",
    "        tickmode='array',\n",
    "        tickvals=[],\n",
    "        showticklabels=False  # Hide x-axis tick labels\n",
    "    ),\n",
    "    yaxis=dict(\n",
    "        title=''  # Remove y-axis label\n",
    "    ),\n",
    "    # Place x-axis label below the chart\n",
    "    margin=dict(t=80),  # Increase top margin to make space for x-axis label\n",
    "    annotations=[\n",
    "        dict(\n",
    "            xref='paper',\n",
    "            yref='paper',\n",
    "            x=0.5,\n",
    "            y=-0.1,  # Adjust this value to position the x-axis label below the chart\n",
    "            text='Date Range',  # X-axis label\n",
    "            showarrow=False,\n",
    "            font=dict(size=12)  # Adjust font size if needed\n",
    "        )\n",
    "    ]\n",
    ")\n",
    "\n",
    "# Show the plot\n",
    "fig.show()\n",
    "\n"
   ]
  },
  {
   "cell_type": "code",
   "execution_count": null,
   "metadata": {},
   "outputs": [],
   "source": []
  },
  {
   "cell_type": "code",
   "execution_count": null,
   "metadata": {},
   "outputs": [],
   "source": [
    "\n"
   ]
  },
  {
   "cell_type": "code",
   "execution_count": null,
   "metadata": {},
   "outputs": [],
   "source": []
  }
 ],
 "metadata": {
  "kernelspec": {
   "display_name": "obb",
   "language": "python",
   "name": "python3"
  },
  "language_info": {
   "codemirror_mode": {
    "name": "ipython",
    "version": 3
   },
   "file_extension": ".py",
   "mimetype": "text/x-python",
   "name": "python",
   "nbconvert_exporter": "python",
   "pygments_lexer": "ipython3",
   "version": "3.9.6"
  },
  "orig_nbformat": 4
 },
 "nbformat": 4,
 "nbformat_minor": 2
}
